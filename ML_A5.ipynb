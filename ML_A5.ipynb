{
  "cells": [
    {
      "cell_type": "markdown",
      "metadata": {
        "id": "view-in-github",
        "colab_type": "text"
      },
      "source": [
        "<a href=\"https://colab.research.google.com/github/sirlapat/ML_Assignment1/blob/main/ML_A5.ipynb\" target=\"_parent\"><img src=\"https://colab.research.google.com/assets/colab-badge.svg\" alt=\"Open In Colab\"/></a>"
      ]
    },
    {
      "cell_type": "code",
      "execution_count": 771,
      "metadata": {
        "id": "5PRRv4-Bs7Fy"
      },
      "outputs": [],
      "source": [
        "import numpy as np\n",
        "import matplotlib.pyplot as plt\n",
        "import torch"
      ]
    },
    {
      "cell_type": "code",
      "source": [
        "# Problem"
      ],
      "metadata": {
        "id": "9LbYHMdxUMAl"
      },
      "execution_count": 772,
      "outputs": []
    },
    {
      "cell_type": "code",
      "execution_count": 773,
      "metadata": {
        "id": "yp8UCsV0tA2E"
      },
      "outputs": [],
      "source": [
        "# t_u, t_c\n",
        "t_u = [35.7, 55.9, 58.2, 81.9, 56.3, 48.9, 33.9, 21.8, 48.4, 60.4, 68.4]\n",
        "t_c = [0.5, 14.0, 15.0, 28.0, 11.0, 8.0, 3.0, -4.0, 6.0, 13.0, 21.0]\n",
        "t_u = torch.tensor(t_u)\n",
        "t_c = torch.tensor(t_c)\n"
      ]
    },
    {
      "cell_type": "code",
      "source": [
        "# problem 1a"
      ],
      "metadata": {
        "id": "31oTw9EkUQQT"
      },
      "execution_count": 774,
      "outputs": []
    },
    {
      "cell_type": "code",
      "execution_count": 775,
      "metadata": {
        "id": "aY6dEjxNtH2Q"
      },
      "outputs": [],
      "source": [
        "def model(t_u, w1, w2, b):\n",
        "    return w2*t_u**2 + w1*t_u + b #w2 * t_u ** 2 + w1 * t_u + b."
      ]
    },
    {
      "cell_type": "code",
      "execution_count": 776,
      "metadata": {
        "id": "dGgP8NRYtROc"
      },
      "outputs": [],
      "source": [
        "def loss_fn(t_p, t_c):\n",
        "    squared_diffs = (t_p - t_c)**2\n",
        "    return squared_diffs.mean()\n"
      ]
    },
    {
      "cell_type": "code",
      "source": [
        "\n",
        "def training_loop(n_epochs, optimizer, params, t_u, t_c):\n",
        "    for epoch in range(1, n_epochs + 1):\n",
        "        t_p = model(t_u, *params)\n",
        "        loss = loss_fn(t_p, t_c)\n",
        "\n",
        "        optimizer.zero_grad()\n",
        "        loss.backward()\n",
        "        optimizer.step()\n",
        "\n",
        "        if epoch <= 1 or epoch % 500 ==0:\n",
        "            print(f\"Epoch {epoch}, loss {loss.item():.4f}\")\n",
        "\n",
        "    return params"
      ],
      "metadata": {
        "id": "-CPvoxVSZ3gT"
      },
      "execution_count": 777,
      "outputs": []
    },
    {
      "cell_type": "code",
      "execution_count": 778,
      "metadata": {
        "id": "wnuQ_l7Zt_cg",
        "colab": {
          "base_uri": "https://localhost:8080/"
        },
        "outputId": "29f5098b-432e-4453-84a5-ac5d387f98f8"
      },
      "outputs": [
        {
          "output_type": "stream",
          "name": "stdout",
          "text": [
            "['ASGD', 'Adadelta', 'Adagrad', 'Adam', 'AdamW', 'Adamax', 'LBFGS', 'NAdam', 'Optimizer', 'RAdam', 'RMSprop', 'Rprop', 'SGD', 'SparseAdam', '__builtins__', '__cached__', '__doc__', '__file__', '__loader__', '__name__', '__package__', '__path__', '__spec__', '_functional', '_multi_tensor', 'lr_scheduler', 'swa_utils']\n"
          ]
        }
      ],
      "source": [
        "import torch.optim as optim\n",
        "optim_attributes_and_methods = dir(optim)\n",
        "print(optim_attributes_and_methods)\n",
        "\n"
      ]
    },
    {
      "cell_type": "code",
      "source": [
        "# 1b"
      ],
      "metadata": {
        "id": "PGYjMKpdUFFg"
      },
      "execution_count": 779,
      "outputs": []
    },
    {
      "cell_type": "code",
      "execution_count": 780,
      "metadata": {
        "id": "bl3aYNEcuQXn",
        "colab": {
          "base_uri": "https://localhost:8080/"
        },
        "outputId": "1979a329-5036-4428-eb72-fcaddfb7b44f"
      },
      "outputs": [
        {
          "output_type": "stream",
          "name": "stdout",
          "text": [
            "Epoch 1, Loss: 129.7270\n",
            "Epoch 500, Loss: 23.9044\n",
            "Epoch 1000, Loss: 15.6724\n",
            "Epoch 1500, Loss: 9.2102\n",
            "Epoch 2000, Loss: 5.1632\n",
            "Epoch 2500, Loss: 3.1983\n",
            "Epoch 3000, Loss: 2.4866\n",
            "Epoch 3500, Loss: 2.3052\n",
            "Epoch 4000, Loss: 2.2710\n",
            "Epoch 4500, Loss: 2.2599\n",
            "Epoch 5000, Loss: 2.2491\n",
            "tensor([ 5.9713, 10.1040, -7.5652], requires_grad=True)\n"
          ]
        }
      ],
      "source": [
        "t_un = 0.02 * t_u\n",
        "params = torch.tensor([1.0, 1.0, 0.0], requires_grad=True)\n",
        "learning_rate = 0.01\n",
        "optimizer = optim.Adam([params], lr=learning_rate)\n",
        "\n",
        "num_epochs = 5000\n",
        "for epoch in range(1, num_epochs + 1):\n",
        "    predictions = model(t_un, *params)\n",
        "    loss = loss_fn(predictions, t_c)\n",
        "\n",
        "    optimizer.zero_grad()\n",
        "    loss.backward()\n",
        "    optimizer.step()\n",
        "\n",
        "    if epoch <= 1 or epoch % 500 == 0:\n",
        "        print(f\"Epoch {epoch}, Loss: {loss.item():.4f}\")\n",
        "\n",
        "print(params)\n"
      ]
    },
    {
      "cell_type": "code",
      "execution_count": 781,
      "metadata": {
        "id": "Wy9ZYMlPv6kJ",
        "colab": {
          "base_uri": "https://localhost:8080/",
          "height": 449
        },
        "outputId": "b659be53-9603-4f6e-f2b4-4213de3379fb"
      },
      "outputs": [
        {
          "output_type": "display_data",
          "data": {
            "text/plain": [
              "<Figure size 640x480 with 1 Axes>"
            ],
            "image/png": "[encoded data removed]"
          },
          "metadata": {}
        }
      ],
      "source": [
        "predictions = model(t_un, *params)\n",
        "\n",
        "# Create a new figure for the plot\n",
        "plt.figure()\n",
        "\n",
        "# Set labels for the axes\n",
        "plt.xlabel('Temperature (Fahrenheit)')\n",
        "plt.ylabel('Temperature (Celsius)')\n",
        "\n",
        "# Plot the model's predictions in green\n",
        "plt.plot(t_u.numpy(), predictions.detach().numpy(), color='green', label='Model Predictions')\n",
        "\n",
        "# Plot the actual data as points\n",
        "plt.plot(t_u.numpy(), t_c.numpy(), 'p', label='Actual Data')\n",
        "\n",
        "# Add a legend to the plot\n",
        "plt.legend()\n",
        "\n",
        "# Show the plot\n",
        "plt.show()\n"
      ]
    },
    {
      "cell_type": "code",
      "execution_count": 782,
      "metadata": {
        "id": "8Gv6QCTjv8TZ",
        "colab": {
          "base_uri": "https://localhost:8080/"
        },
        "outputId": "a60bd2d4-5352-4008-fc59-0482a9715e6c"
      },
      "outputs": [
        {
          "output_type": "stream",
          "name": "stdout",
          "text": [
            "Epoch 1, loss 129.7270\n",
            "Epoch 500, loss 76.3203\n",
            "Epoch 1000, loss 46.7395\n",
            "Epoch 1500, loss 32.3924\n",
            "Epoch 2000, loss 26.1682\n",
            "Epoch 2500, loss 23.0872\n",
            "Epoch 3000, loss 20.6621\n",
            "Epoch 3500, loss 18.2022\n",
            "Epoch 4000, loss 15.6920\n",
            "Epoch 4500, loss 13.2379\n",
            "Epoch 5000, loss 10.9432\n"
          ]
        },
        {
          "output_type": "execute_result",
          "data": {
            "text/plain": [
              "tensor([ 4.5900,  6.5184, -1.1306], requires_grad=True)"
            ]
          },
          "metadata": {},
          "execution_count": 782
        }
      ],
      "source": [
        "t_un = 0.02 * t_u\n",
        "params = torch.tensor([1.0,1.0,0.0], requires_grad=True)\n",
        "learning_rate = 0.002\n",
        "optimizer = optim.Adam([params], lr = learning_rate)\n",
        "\n",
        "training_loop(\n",
        "    n_epochs=5000,\n",
        "    optimizer = optimizer,\n",
        "    params = params,\n",
        "    t_u = t_un,\n",
        "    t_c = t_c)\n"
      ]
    },
    {
      "cell_type": "code",
      "source": [
        "t_un.numpy()"
      ],
      "metadata": {
        "id": "x7kCPVHpZk7t",
        "colab": {
          "base_uri": "https://localhost:8080/"
        },
        "outputId": "465ac0b0-1a3e-4e99-ffa9-468f5ed693c4"
      },
      "execution_count": 783,
      "outputs": [
        {
          "output_type": "execute_result",
          "data": {
            "text/plain": [
              "array([0.714     , 1.118     , 1.164     , 1.638     , 1.1259999 ,\n",
              "       0.978     , 0.67800003, 0.436     , 0.968     , 1.208     ,\n",
              "       1.368     ], dtype=float32)"
            ]
          },
          "metadata": {},
          "execution_count": 783
        }
      ]
    },
    {
      "cell_type": "code",
      "source": [
        "t_p.detach().numpy()"
      ],
      "metadata": {
        "id": "ZuSMIMw_Zp_1",
        "colab": {
          "base_uri": "https://localhost:8080/"
        },
        "outputId": "0468cad1-a8c8-40d5-ca35-1aa2ac6b97ab"
      },
      "execution_count": 784,
      "outputs": [
        {
          "output_type": "execute_result",
          "data": {
            "text/plain": [
              "array([20.321878, 19.243414, 18.544188,  4.475416, 19.130278, 20.646362,\n",
              "       19.976889, 15.784334, 20.7048  , 17.765089, 14.023081],\n",
              "      dtype=float32)"
            ]
          },
          "metadata": {},
          "execution_count": 784
        }
      ]
    },
    {
      "cell_type": "code",
      "execution_count": 785,
      "metadata": {
        "id": "MYMbmdPPxDEW"
      },
      "outputs": [],
      "source": [
        "t_p = model(t_un, *params)\n",
        "\n"
      ]
    },
    {
      "cell_type": "code",
      "execution_count": 786,
      "metadata": {
        "id": "jY7En1DUzFkY",
        "colab": {
          "base_uri": "https://localhost:8080/",
          "height": 449
        },
        "outputId": "0333c9f2-d609-43e4-e6a8-5571ddc56750"
      },
      "outputs": [
        {
          "output_type": "display_data",
          "data": {
            "text/plain": [
              "<Figure size 640x480 with 1 Axes>"
            ],
            "image/png": "[encoded data removed]"
          },
          "metadata": {}
        }
      ],
      "source": [
        "predictions = model(t_un, *params)\n",
        "\n",
        "# Create a new figure for the plot\n",
        "plt.figure()\n",
        "\n",
        "# Set labels for the axes\n",
        "plt.xlabel('Temperature (Fahrenheit)')\n",
        "plt.ylabel('Temperature (Celsius)')\n",
        "\n",
        "# Plot the model's predictions in green\n",
        "plt.plot(t_u.numpy(), predictions.detach().numpy(), color='green', label='Model Predictions')\n",
        "\n",
        "# Plot the actual data as points\n",
        "plt.plot(t_u.numpy(), t_c.numpy(), 'p', label='Actual Data')\n",
        "\n",
        "# Add a legend to the plot\n",
        "plt.legend()\n",
        "\n",
        "# Show the plot\n",
        "plt.show()"
      ]
    },
    {
      "cell_type": "code",
      "execution_count": 787,
      "metadata": {
        "id": "_5kN79VE04xG",
        "colab": {
          "base_uri": "https://localhost:8080/"
        },
        "outputId": "a9e6d4d5-35f6-4cbd-fd33-173413c5602e"
      },
      "outputs": [
        {
          "output_type": "stream",
          "name": "stdout",
          "text": [
            "Epoch 1, Loss: 129.7270\n",
            "Epoch 500, Loss: 59.1598\n",
            "Epoch 1000, Loss: 32.6967\n",
            "Epoch 1500, Loss: 24.7968\n",
            "Epoch 2000, Loss: 21.3325\n",
            "Epoch 2500, Loss: 18.2082\n",
            "Epoch 3000, Loss: 15.0603\n",
            "Epoch 3500, Loss: 12.0579\n",
            "Epoch 4000, Loss: 9.3680\n",
            "Epoch 4500, Loss: 7.1066\n",
            "Epoch 5000, Loss: 5.3300\n",
            "tensor([ 4.8529,  8.1287, -3.6001], requires_grad=True)\n"
          ]
        }
      ],
      "source": [
        "# Multiply t_u by 0.1 to get t_un\n",
        "t_un = 0.02 * t_u\n",
        "params = torch.tensor([1.0, 1.0, 0.0], requires_grad=True)\n",
        "learning_rate = 0.003\n",
        "\n",
        "optimizer = optim.Adam([params], lr=learning_rate)\n",
        "for epoch in range(1, 5001):\n",
        "    predictions = model(t_un, *params)\n",
        "    loss = loss_fn(predictions, t_c)\n",
        "\n",
        "    optimizer.zero_grad()\n",
        "    loss.backward()\n",
        "    optimizer.step()\n",
        "\n",
        "    if epoch <= 1 or epoch % 500 == 0:\n",
        "        print(f\"Epoch {epoch}, Loss: {loss.item():.4f}\")\n",
        "\n",
        "print(params)\n"
      ]
    },
    {
      "cell_type": "code",
      "execution_count": 788,
      "metadata": {
        "id": "K3ufkOxs05gn",
        "colab": {
          "base_uri": "https://localhost:8080/",
          "height": 449
        },
        "outputId": "3bfab17e-3ed0-4bfb-942d-4a75a27a09fc"
      },
      "outputs": [
        {
          "output_type": "display_data",
          "data": {
            "text/plain": [
              "<Figure size 640x480 with 1 Axes>"
            ],
            "image/png": "[encoded data removed]"
          },
          "metadata": {}
        }
      ],
      "source": [
        "# predictions = model(t_un, *params)\n",
        "t_p = model(t_u, *params)\n",
        "\n",
        "# Create a new figure for the plot\n",
        "plt.figure()\n",
        "\n",
        "# Set labels for the axes\n",
        "plt.xlabel('Temperature (Fahrenheit)')\n",
        "plt.ylabel('Temperature (Celsius)')\n",
        "\n",
        "# Plot the model's predictions in green\n",
        "plt.plot(t_u.numpy(), t_p.detach().numpy(), color='green', label='Model Predictions')\n",
        "\n",
        "# Plot the actual data as points\n",
        "plt.plot(t_u.numpy(), t_c.numpy(), 'p', label='Actual Data')\n",
        "\n",
        "# Add a legend to the plot\n",
        "plt.legend()\n",
        "\n",
        "# Show the plot\n",
        "plt.show()"
      ]
    },
    {
      "cell_type": "code",
      "execution_count": 788,
      "metadata": {
        "id": "BnD8i1im1G93"
      },
      "outputs": [],
      "source": [
        "\n"
      ]
    },
    {
      "cell_type": "code",
      "execution_count": 788,
      "metadata": {
        "id": "AWISV0ou1pJs"
      },
      "outputs": [],
      "source": []
    },
    {
      "cell_type": "code",
      "execution_count": 789,
      "metadata": {
        "id": "CgVgqiq82lbV",
        "colab": {
          "base_uri": "https://localhost:8080/"
        },
        "outputId": "92650fde-f1de-4cdc-8112-5323b5bc08dc"
      },
      "outputs": [
        {
          "output_type": "stream",
          "name": "stdout",
          "text": [
            "Epoch 1, loss 675.7944\n",
            "Epoch 500, loss 578.2527\n",
            "Epoch 1000, loss 491.2365\n",
            "Epoch 1500, loss 413.8677\n",
            "Epoch 2000, loss 345.2539\n",
            "Epoch 2500, loss 284.6672\n",
            "Epoch 3000, loss 231.5106\n",
            "Epoch 3500, loss 185.2833\n",
            "Epoch 4000, loss 145.5521\n",
            "Epoch 4500, loss 111.9216\n",
            "Epoch 5000, loss 84.0093\n"
          ]
        },
        {
          "output_type": "execute_result",
          "data": {
            "text/plain": [
              "tensor([ 0.5698,  0.5721, -0.4337], requires_grad=True)"
            ]
          },
          "metadata": {},
          "execution_count": 789
        }
      ],
      "source": [
        "\n",
        "t_un = 0.1 * t_u\n",
        "params = torch.tensor([1.0,1.0,0.0], requires_grad=True)\n",
        "learning_rate = 0.0001\n",
        "optimizer = optim.Adam([params], lr = learning_rate)\n",
        "\n",
        "training_loop(\n",
        "    n_epochs=5000,\n",
        "    optimizer = optimizer,\n",
        "    params = params,\n",
        "    t_u = t_un,\n",
        "    t_c = t_c)\n"
      ]
    },
    {
      "cell_type": "code",
      "source": [
        "plt.figure()\n",
        "\n",
        "# Set labels for the axes\n",
        "plt.xlabel('Temperature (Fahrenheit)')\n",
        "plt.ylabel('Temperature (Celsius)')\n",
        "\n",
        "# Plot the model's predictions in peachpuff color\n",
        "plt.plot(t_u.numpy(), t_p.detach().numpy(), color='green', label='Model Predictions')\n",
        "\n",
        "# Plot the actual data as points\n",
        "plt.plot(t_u.numpy(), t_c.numpy(), 'p', label='Actual Data')\n",
        "plt.title(\"Adam optimizer with learning rate - 0.0001\")\n",
        "\n",
        "# Add a legend to the plot\n",
        "plt.legend()\n",
        "\n",
        "# Show the plot\n",
        "plt.show()\n"
      ],
      "metadata": {
        "id": "T4K2nCCFLf_4",
        "colab": {
          "base_uri": "https://localhost:8080/",
          "height": 472
        },
        "outputId": "b9ad61c7-3a57-4b26-ddd6-c83fec0b91bd"
      },
      "execution_count": 790,
      "outputs": [
        {
          "output_type": "display_data",
          "data": {
            "text/plain": [
              "<Figure size 640x480 with 1 Axes>"
            ],
            "image/png": "[encoded data removed]"
          },
          "metadata": {}
        }
      ]
    },
    {
      "cell_type": "code",
      "source": [
        "# Set t_un equal to t_u\n",
        "t_un = t_u\n",
        "params = torch.tensor([1.0, 1.0, 0.0], requires_grad=True)\n",
        "learning_rate = 0.023\n",
        "optimizer = optim.SGD([params], lr=learning_rate)\n",
        "\n",
        "for epoch in range(1, 5001):\n",
        "    predictions = model(t_un, *params)\n",
        "    loss = loss_fn(predictions, t_c)\n",
        "    optimizer.zero_grad()\n",
        "    loss.backward()\n",
        "    optimizer.step()\n",
        "\n",
        "    if epoch <= 1 or epoch % 500 == 0:\n",
        "        print(f\"Epoch {epoch}, Loss: {loss.item():.4f}\")\n",
        "\n",
        "print(params)"
      ],
      "metadata": {
        "id": "biMMe8z5La_I",
        "colab": {
          "base_uri": "https://localhost:8080/"
        },
        "outputId": "43fbf792-cac2-407c-dd3a-2723370a5677"
      },
      "execution_count": 791,
      "outputs": [
        {
          "output_type": "stream",
          "name": "stdout",
          "text": [
            "Epoch 1, Loss: 11709471.0000\n",
            "Epoch 500, Loss: nan\n",
            "Epoch 1000, Loss: nan\n",
            "Epoch 1500, Loss: nan\n",
            "Epoch 2000, Loss: nan\n",
            "Epoch 2500, Loss: nan\n",
            "Epoch 3000, Loss: nan\n",
            "Epoch 3500, Loss: nan\n",
            "Epoch 4000, Loss: nan\n",
            "Epoch 4500, Loss: nan\n",
            "Epoch 5000, Loss: nan\n",
            "tensor([nan, nan, nan], requires_grad=True)\n"
          ]
        }
      ]
    },
    {
      "cell_type": "code",
      "execution_count": 792,
      "metadata": {
        "id": "JztGVILI4J4d",
        "colab": {
          "base_uri": "https://localhost:8080/",
          "height": 449
        },
        "outputId": "57caacf0-79d3-419d-aff9-5c6c7bd23176"
      },
      "outputs": [
        {
          "output_type": "display_data",
          "data": {
            "text/plain": [
              "<Figure size 640x480 with 1 Axes>"
            ],
            "image/png": "[encoded data removed]"
          },
          "metadata": {}
        }
      ],
      "source": [
        "# predictions = model(t_un, *params)\n",
        "t_p = model(t_un, *params)\n",
        "\n",
        "# Create a new figure for the plot\n",
        "plt.figure()\n",
        "\n",
        "# Set labels for the axes\n",
        "plt.xlabel('Temperature (Fahrenheit)')\n",
        "plt.ylabel('Temperature (Celsius)')\n",
        "\n",
        "# Plot the model's predictions in green\n",
        "plt.plot(t_u.numpy(), t_p.detach().numpy(), color='green', label='Model Predictions')\n",
        "\n",
        "# Plot the actual data as points\n",
        "plt.plot(t_u.numpy(), t_c.numpy(), 'p', label='Actual Data')\n",
        "\n",
        "# Add a legend to the plot\n",
        "plt.legend()\n",
        "\n",
        "# Show the plot\n",
        "plt.show()"
      ]
    },
    {
      "cell_type": "code",
      "execution_count": 793,
      "metadata": {
        "id": "GoDc_u555vyG",
        "colab": {
          "base_uri": "https://localhost:8080/"
        },
        "outputId": "9db1fe8a-ec6e-41ca-9189-a9a458f0338b"
      },
      "outputs": [
        {
          "output_type": "stream",
          "name": "stdout",
          "text": [
            "Epoch 1, Loss: 11709471.0000\n",
            "Epoch 500, Loss: 203.5310\n",
            "Epoch 1000, Loss: 202.9296\n",
            "Epoch 1500, Loss: 202.3291\n",
            "Epoch 2000, Loss: 201.7295\n",
            "Epoch 2500, Loss: 201.1309\n",
            "Epoch 3000, Loss: 200.5331\n",
            "Epoch 3500, Loss: 199.9362\n",
            "Epoch 4000, Loss: 199.3402\n",
            "Epoch 4500, Loss: 198.7452\n",
            "Epoch 5000, Loss: 198.1511\n",
            "tensor([ 9.6692e-01, -1.1139e-02, -9.4794e-04], requires_grad=True)\n"
          ]
        }
      ],
      "source": [
        "# Set t_un equal to t_u\n",
        "t_un = t_u\n",
        "params = torch.tensor([1.0, 1.0, 0.0], requires_grad=True)\n",
        "learning_rate = 0.00000001\n",
        "optimizer = optim.SGD([params], lr=learning_rate)\n",
        "\n",
        "for epoch in range(1, 5001):\n",
        "    predictions = model(t_un, *params)\n",
        "    loss = loss_fn(predictions, t_c)\n",
        "    optimizer.zero_grad()\n",
        "    loss.backward()\n",
        "    optimizer.step()\n",
        "\n",
        "    if epoch <= 1 or epoch % 500 == 0:\n",
        "        print(f\"Epoch {epoch}, Loss: {loss.item():.4f}\")\n",
        "\n",
        "print(params)"
      ]
    },
    {
      "cell_type": "code",
      "source": [
        "t_p = model(t_un, *params)\n",
        "\n",
        "plt.figure()\n",
        "\n",
        "# Set labels for the axes\n",
        "plt.xlabel('Temperature (Fahrenheit)')\n",
        "plt.ylabel('Temperature (Celsius)')\n",
        "\n",
        "# Plot the model's predictions in peachpuff color\n",
        "plt.plot(t_u.numpy(), t_p.detach().numpy(), color='green', label='Model Predictions')\n",
        "\n",
        "# Plot the actual data as points\n",
        "plt.plot(t_u.numpy(), t_c.numpy(), 'p', label='Actual Data')\n",
        "\n",
        "\n",
        "# Add a legend to the plot\n",
        "plt.legend()\n",
        "\n",
        "# Show the plot\n",
        "plt.show()"
      ],
      "metadata": {
        "id": "wGzUtZ4WkncD",
        "colab": {
          "base_uri": "https://localhost:8080/",
          "height": 449
        },
        "outputId": "3226bbbb-c55f-4fe2-8615-2b57cb0a619e"
      },
      "execution_count": 794,
      "outputs": [
        {
          "output_type": "display_data",
          "data": {
            "text/plain": [
              "<Figure size 640x480 with 1 Axes>"
            ],
            "image/png": "[encoded data removed]"
          },
          "metadata": {}
        }
      ]
    },
    {
      "cell_type": "code",
      "source": [
        "#Problem 2"
      ],
      "metadata": {
        "id": "tVDZCPs2bnJy"
      },
      "execution_count": 795,
      "outputs": []
    },
    {
      "cell_type": "code",
      "execution_count": 796,
      "metadata": {
        "id": "WrpWAu5755jJ"
      },
      "outputs": [],
      "source": [
        "import pandas as pd\n",
        "from sklearn.preprocessing import MinMaxScaler\n",
        "from sklearn.model_selection import train_test_split\n",
        "np.random.seed(0)"
      ]
    },
    {
      "cell_type": "code",
      "execution_count": 797,
      "metadata": {
        "id": "3RZqv9ZF8CW9",
        "colab": {
          "base_uri": "https://localhost:8080/",
          "height": 206
        },
        "outputId": "bd95dab3-a2eb-4bb9-e75e-e4b11a3cf9ca"
      },
      "outputs": [
        {
          "output_type": "execute_result",
          "data": {
            "text/plain": [
              "      price  area  bedrooms  bathrooms  stories mainroad guestroom basement  \\\n",
              "0  13300000  7420         4          2        3      yes        no       no   \n",
              "1  12250000  8960         4          4        4      yes        no       no   \n",
              "2  12250000  9960         3          2        2      yes        no      yes   \n",
              "3  12215000  7500         4          2        2      yes        no      yes   \n",
              "4  11410000  7420         4          1        2      yes       yes      yes   \n",
              "\n",
              "  hotwaterheating airconditioning  parking prefarea furnishingstatus  \n",
              "0              no             yes        2      yes        furnished  \n",
              "1              no             yes        3       no        furnished  \n",
              "2              no              no        2      yes   semi-furnished  \n",
              "3              no             yes        3      yes        furnished  \n",
              "4              no             yes        2       no        furnished  "
            ],
            "text/html": [
              "\n",
              "  <div id=\"df-03dd00b0-32dd-4cf2-97cc-84283ed667c7\" class=\"colab-df-container\">\n",
              "    <div>\n",
              "<style scoped>\n",
              "    .dataframe tbody tr th:only-of-type {\n",
              "        vertical-align: middle;\n",
              "    }\n",
              "\n",
              "    .dataframe tbody tr th {\n",
              "        vertical-align: top;\n",
              "    }\n",
              "\n",
              "    .dataframe thead th {\n",
              "        text-align: right;\n",
              "    }\n",
              "</style>\n",
              "<table border=\"1\" class=\"dataframe\">\n",
              "  <thead>\n",
              "    <tr style=\"text-align: right;\">\n",
              "      <th></th>\n",
              "      <th>price</th>\n",
              "      <th>area</th>\n",
              "      <th>bedrooms</th>\n",
              "      <th>bathrooms</th>\n",
              "      <th>stories</th>\n",
              "      <th>mainroad</th>\n",
              "      <th>guestroom</th>\n",
              "      <th>basement</th>\n",
              "      <th>hotwaterheating</th>\n",
              "      <th>airconditioning</th>\n",
              "      <th>parking</th>\n",
              "      <th>prefarea</th>\n",
              "      <th>furnishingstatus</th>\n",
              "    </tr>\n",
              "  </thead>\n",
              "  <tbody>\n",
              "    <tr>\n",
              "      <th>0</th>\n",
              "      <td>13300000</td>\n",
              "      <td>7420</td>\n",
              "      <td>4</td>\n",
              "      <td>2</td>\n",
              "      <td>3</td>\n",
              "      <td>yes</td>\n",
              "      <td>no</td>\n",
              "      <td>no</td>\n",
              "      <td>no</td>\n",
              "      <td>yes</td>\n",
              "      <td>2</td>\n",
              "      <td>yes</td>\n",
              "      <td>furnished</td>\n",
              "    </tr>\n",
              "    <tr>\n",
              "      <th>1</th>\n",
              "      <td>12250000</td>\n",
              "      <td>8960</td>\n",
              "      <td>4</td>\n",
              "      <td>4</td>\n",
              "      <td>4</td>\n",
              "      <td>yes</td>\n",
              "      <td>no</td>\n",
              "      <td>no</td>\n",
              "      <td>no</td>\n",
              "      <td>yes</td>\n",
              "      <td>3</td>\n",
              "      <td>no</td>\n",
              "      <td>furnished</td>\n",
              "    </tr>\n",
              "    <tr>\n",
              "      <th>2</th>\n",
              "      <td>12250000</td>\n",
              "      <td>9960</td>\n",
              "      <td>3</td>\n",
              "      <td>2</td>\n",
              "      <td>2</td>\n",
              "      <td>yes</td>\n",
              "      <td>no</td>\n",
              "      <td>yes</td>\n",
              "      <td>no</td>\n",
              "      <td>no</td>\n",
              "      <td>2</td>\n",
              "      <td>yes</td>\n",
              "      <td>semi-furnished</td>\n",
              "    </tr>\n",
              "    <tr>\n",
              "      <th>3</th>\n",
              "      <td>12215000</td>\n",
              "      <td>7500</td>\n",
              "      <td>4</td>\n",
              "      <td>2</td>\n",
              "      <td>2</td>\n",
              "      <td>yes</td>\n",
              "      <td>no</td>\n",
              "      <td>yes</td>\n",
              "      <td>no</td>\n",
              "      <td>yes</td>\n",
              "      <td>3</td>\n",
              "      <td>yes</td>\n",
              "      <td>furnished</td>\n",
              "    </tr>\n",
              "    <tr>\n",
              "      <th>4</th>\n",
              "      <td>11410000</td>\n",
              "      <td>7420</td>\n",
              "      <td>4</td>\n",
              "      <td>1</td>\n",
              "      <td>2</td>\n",
              "      <td>yes</td>\n",
              "      <td>yes</td>\n",
              "      <td>yes</td>\n",
              "      <td>no</td>\n",
              "      <td>yes</td>\n",
              "      <td>2</td>\n",
              "      <td>no</td>\n",
              "      <td>furnished</td>\n",
              "    </tr>\n",
              "  </tbody>\n",
              "</table>\n",
              "</div>\n",
              "    <div class=\"colab-df-buttons\">\n",
              "\n",
              "  <div class=\"colab-df-container\">\n",
              "    <button class=\"colab-df-convert\" onclick=\"convertToInteractive('df-03dd00b0-32dd-4cf2-97cc-84283ed667c7')\"\n",
              "            title=\"Convert this dataframe to an interactive table.\"\n",
              "            style=\"display:none;\">\n",
              "\n",
              "  <svg xmlns=\"http://www.w3.org/2000/svg\" height=\"24px\" viewBox=\"0 -960 960 960\">\n",
              "    <path d=\"M120-120v-720h720v720H120Zm60-500h600v-160H180v160Zm220 220h160v-160H400v160Zm0 220h160v-160H400v160ZM180-400h160v-160H180v160Zm440 0h160v-160H620v160ZM180-180h160v-160H180v160Zm440 0h160v-160H620v160Z\"/>\n",
              "  </svg>\n",
              "    </button>\n",
              "\n",
              "  <style>\n",
              "    .colab-df-container {\n",
              "      display:flex;\n",
              "      gap: 12px;\n",
              "    }\n",
              "\n",
              "    .colab-df-convert {\n",
              "      background-color: #E8F0FE;\n",
              "      border: none;\n",
              "      border-radius: 50%;\n",
              "      cursor: pointer;\n",
              "      display: none;\n",
              "      fill: #1967D2;\n",
              "      height: 32px;\n",
              "      padding: 0 0 0 0;\n",
              "      width: 32px;\n",
              "    }\n",
              "\n",
              "    .colab-df-convert:hover {\n",
              "      background-color: #E2EBFA;\n",
              "      box-shadow: 0px 1px 2px rgba(60, 64, 67, 0.3), 0px 1px 3px 1px rgba(60, 64, 67, 0.15);\n",
              "      fill: #174EA6;\n",
              "    }\n",
              "\n",
              "    .colab-df-buttons div {\n",
              "      margin-bottom: 4px;\n",
              "    }\n",
              "\n",
              "    [theme=dark] .colab-df-convert {\n",
              "      background-color: #3B4455;\n",
              "      fill: #D2E3FC;\n",
              "    }\n",
              "\n",
              "    [theme=dark] .colab-df-convert:hover {\n",
              "      background-color: #434B5C;\n",
              "      box-shadow: 0px 1px 3px 1px rgba(0, 0, 0, 0.15);\n",
              "      filter: drop-shadow(0px 1px 2px rgba(0, 0, 0, 0.3));\n",
              "      fill: #FFFFFF;\n",
              "    }\n",
              "  </style>\n",
              "\n",
              "    <script>\n",
              "      const buttonEl =\n",
              "        document.querySelector('#df-03dd00b0-32dd-4cf2-97cc-84283ed667c7 button.colab-df-convert');\n",
              "      buttonEl.style.display =\n",
              "        google.colab.kernel.accessAllowed ? 'block' : 'none';\n",
              "\n",
              "      async function convertToInteractive(key) {\n",
              "        const element = document.querySelector('#df-03dd00b0-32dd-4cf2-97cc-84283ed667c7');\n",
              "        const dataTable =\n",
              "          await google.colab.kernel.invokeFunction('convertToInteractive',\n",
              "                                                    [key], {});\n",
              "        if (!dataTable) return;\n",
              "\n",
              "        const docLinkHtml = 'Like what you see? Visit the ' +\n",
              "          '<a target=\"_blank\" href=https://colab.research.google.com/notebooks/data_table.ipynb>data table notebook</a>'\n",
              "          + ' to learn more about interactive tables.';\n",
              "        element.innerHTML = '';\n",
              "        dataTable['output_type'] = 'display_data';\n",
              "        await google.colab.output.renderOutput(dataTable, element);\n",
              "        const docLink = document.createElement('div');\n",
              "        docLink.innerHTML = docLinkHtml;\n",
              "        element.appendChild(docLink);\n",
              "      }\n",
              "    </script>\n",
              "  </div>\n",
              "\n",
              "\n",
              "<div id=\"df-9dcabd93-7ab1-42ef-ae35-f3183c823e0c\">\n",
              "  <button class=\"colab-df-quickchart\" onclick=\"quickchart('df-9dcabd93-7ab1-42ef-ae35-f3183c823e0c')\"\n",
              "            title=\"Suggest charts\"\n",
              "            style=\"display:none;\">\n",
              "\n",
              "<svg xmlns=\"http://www.w3.org/2000/svg\" height=\"24px\"viewBox=\"0 0 24 24\"\n",
              "     width=\"24px\">\n",
              "    <g>\n",
              "        <path d=\"M19 3H5c-1.1 0-2 .9-2 2v14c0 1.1.9 2 2 2h14c1.1 0 2-.9 2-2V5c0-1.1-.9-2-2-2zM9 17H7v-7h2v7zm4 0h-2V7h2v10zm4 0h-2v-4h2v4z\"/>\n",
              "    </g>\n",
              "</svg>\n",
              "  </button>\n",
              "\n",
              "<style>\n",
              "  .colab-df-quickchart {\n",
              "      --bg-color: #E8F0FE;\n",
              "      --fill-color: #1967D2;\n",
              "      --hover-bg-color: #E2EBFA;\n",
              "      --hover-fill-color: #174EA6;\n",
              "      --disabled-fill-color: #AAA;\n",
              "      --disabled-bg-color: #DDD;\n",
              "  }\n",
              "\n",
              "  [theme=dark] .colab-df-quickchart {\n",
              "      --bg-color: #3B4455;\n",
              "      --fill-color: #D2E3FC;\n",
              "      --hover-bg-color: #434B5C;\n",
              "      --hover-fill-color: #FFFFFF;\n",
              "      --disabled-bg-color: #3B4455;\n",
              "      --disabled-fill-color: #666;\n",
              "  }\n",
              "\n",
              "  .colab-df-quickchart {\n",
              "    background-color: var(--bg-color);\n",
              "    border: none;\n",
              "    border-radius: 50%;\n",
              "    cursor: pointer;\n",
              "    display: none;\n",
              "    fill: var(--fill-color);\n",
              "    height: 32px;\n",
              "    padding: 0;\n",
              "    width: 32px;\n",
              "  }\n",
              "\n",
              "  .colab-df-quickchart:hover {\n",
              "    background-color: var(--hover-bg-color);\n",
              "    box-shadow: 0 1px 2px rgba(60, 64, 67, 0.3), 0 1px 3px 1px rgba(60, 64, 67, 0.15);\n",
              "    fill: var(--button-hover-fill-color);\n",
              "  }\n",
              "\n",
              "  .colab-df-quickchart-complete:disabled,\n",
              "  .colab-df-quickchart-complete:disabled:hover {\n",
              "    background-color: var(--disabled-bg-color);\n",
              "    fill: var(--disabled-fill-color);\n",
              "    box-shadow: none;\n",
              "  }\n",
              "\n",
              "  .colab-df-spinner {\n",
              "    border: 2px solid var(--fill-color);\n",
              "    border-color: transparent;\n",
              "    border-bottom-color: var(--fill-color);\n",
              "    animation:\n",
              "      spin 1s steps(1) infinite;\n",
              "  }\n",
              "\n",
              "  @keyframes spin {\n",
              "    0% {\n",
              "      border-color: transparent;\n",
              "      border-bottom-color: var(--fill-color);\n",
              "      border-left-color: var(--fill-color);\n",
              "    }\n",
              "    20% {\n",
              "      border-color: transparent;\n",
              "      border-left-color: var(--fill-color);\n",
              "      border-top-color: var(--fill-color);\n",
              "    }\n",
              "    30% {\n",
              "      border-color: transparent;\n",
              "      border-left-color: var(--fill-color);\n",
              "      border-top-color: var(--fill-color);\n",
              "      border-right-color: var(--fill-color);\n",
              "    }\n",
              "    40% {\n",
              "      border-color: transparent;\n",
              "      border-right-color: var(--fill-color);\n",
              "      border-top-color: var(--fill-color);\n",
              "    }\n",
              "    60% {\n",
              "      border-color: transparent;\n",
              "      border-right-color: var(--fill-color);\n",
              "    }\n",
              "    80% {\n",
              "      border-color: transparent;\n",
              "      border-right-color: var(--fill-color);\n",
              "      border-bottom-color: var(--fill-color);\n",
              "    }\n",
              "    90% {\n",
              "      border-color: transparent;\n",
              "      border-bottom-color: var(--fill-color);\n",
              "    }\n",
              "  }\n",
              "</style>\n",
              "\n",
              "  <script>\n",
              "    async function quickchart(key) {\n",
              "      const quickchartButtonEl =\n",
              "        document.querySelector('#' + key + ' button');\n",
              "      quickchartButtonEl.disabled = true;  // To prevent multiple clicks.\n",
              "      quickchartButtonEl.classList.add('colab-df-spinner');\n",
              "      try {\n",
              "        const charts = await google.colab.kernel.invokeFunction(\n",
              "            'suggestCharts', [key], {});\n",
              "      } catch (error) {\n",
              "        console.error('Error during call to suggestCharts:', error);\n",
              "      }\n",
              "      quickchartButtonEl.classList.remove('colab-df-spinner');\n",
              "      quickchartButtonEl.classList.add('colab-df-quickchart-complete');\n",
              "    }\n",
              "    (() => {\n",
              "      let quickchartButtonEl =\n",
              "        document.querySelector('#df-9dcabd93-7ab1-42ef-ae35-f3183c823e0c button');\n",
              "      quickchartButtonEl.style.display =\n",
              "        google.colab.kernel.accessAllowed ? 'block' : 'none';\n",
              "    })();\n",
              "  </script>\n",
              "</div>\n",
              "    </div>\n",
              "  </div>\n"
            ]
          },
          "metadata": {},
          "execution_count": 797
        }
      ],
      "source": [
        "# Use the URL for the raw CSV data\n",
        "\n",
        "df = pd.read_csv('/content/drive/MyDrive/Housing.csv')\n",
        "\n",
        "# Display the first 5 rows of the DataFrame\n",
        "df.head()"
      ]
    },
    {
      "cell_type": "code",
      "execution_count": 798,
      "metadata": {
        "id": "axcrlK038b2i"
      },
      "outputs": [],
      "source": [
        "input_features = ['area', 'bedrooms', 'bathrooms', 'stories', 'parking']\n",
        "output_feature = 'price'"
      ]
    },
    {
      "cell_type": "code",
      "execution_count": 799,
      "metadata": {
        "id": "HvwzSh9C8sdF"
      },
      "outputs": [],
      "source": [
        "scaler = MinMaxScaler()\n",
        "df[input_features + [output_feature]] = scaler.fit_transform(df[input_features + [output_feature]])\n",
        "\n"
      ]
    },
    {
      "cell_type": "code",
      "source": [
        "scaler_x = MinMaxScaler()\n",
        "scaler_y = MinMaxScaler()\n",
        "df[input_features] = scaler_x.fit_transform(df[input_features])\n",
        "df[[output_feature]] = scaler_y.fit_transform(df[[output_feature]])"
      ],
      "metadata": {
        "id": "Q2RlbE4Cb2Mk"
      },
      "execution_count": 800,
      "outputs": []
    },
    {
      "cell_type": "code",
      "source": [
        "df.head()"
      ],
      "metadata": {
        "id": "lVtPeZZ-Y4O2",
        "colab": {
          "base_uri": "https://localhost:8080/",
          "height": 206
        },
        "outputId": "b7840488-aa2c-4b76-f58d-93d279ec4da5"
      },
      "execution_count": 801,
      "outputs": [
        {
          "output_type": "execute_result",
          "data": {
            "text/plain": [
              "      price      area  bedrooms  bathrooms   stories mainroad guestroom  \\\n",
              "0  1.000000  0.396564       0.6   0.333333  0.666667      yes        no   \n",
              "1  0.909091  0.502405       0.6   1.000000  1.000000      yes        no   \n",
              "2  0.909091  0.571134       0.4   0.333333  0.333333      yes        no   \n",
              "3  0.906061  0.402062       0.6   0.333333  0.333333      yes        no   \n",
              "4  0.836364  0.396564       0.6   0.000000  0.333333      yes       yes   \n",
              "\n",
              "  basement hotwaterheating airconditioning   parking prefarea furnishingstatus  \n",
              "0       no              no             yes  0.666667      yes        furnished  \n",
              "1       no              no             yes  1.000000       no        furnished  \n",
              "2      yes              no              no  0.666667      yes   semi-furnished  \n",
              "3      yes              no             yes  1.000000      yes        furnished  \n",
              "4      yes              no             yes  0.666667       no        furnished  "
            ],
            "text/html": [
              "\n",
              "  <div id=\"df-2a35b779-d868-4711-8a07-eb1243fb6628\" class=\"colab-df-container\">\n",
              "    <div>\n",
              "<style scoped>\n",
              "    .dataframe tbody tr th:only-of-type {\n",
              "        vertical-align: middle;\n",
              "    }\n",
              "\n",
              "    .dataframe tbody tr th {\n",
              "        vertical-align: top;\n",
              "    }\n",
              "\n",
              "    .dataframe thead th {\n",
              "        text-align: right;\n",
              "    }\n",
              "</style>\n",
              "<table border=\"1\" class=\"dataframe\">\n",
              "  <thead>\n",
              "    <tr style=\"text-align: right;\">\n",
              "      <th></th>\n",
              "      <th>price</th>\n",
              "      <th>area</th>\n",
              "      <th>bedrooms</th>\n",
              "      <th>bathrooms</th>\n",
              "      <th>stories</th>\n",
              "      <th>mainroad</th>\n",
              "      <th>guestroom</th>\n",
              "      <th>basement</th>\n",
              "      <th>hotwaterheating</th>\n",
              "      <th>airconditioning</th>\n",
              "      <th>parking</th>\n",
              "      <th>prefarea</th>\n",
              "      <th>furnishingstatus</th>\n",
              "    </tr>\n",
              "  </thead>\n",
              "  <tbody>\n",
              "    <tr>\n",
              "      <th>0</th>\n",
              "      <td>1.000000</td>\n",
              "      <td>0.396564</td>\n",
              "      <td>0.6</td>\n",
              "      <td>0.333333</td>\n",
              "      <td>0.666667</td>\n",
              "      <td>yes</td>\n",
              "      <td>no</td>\n",
              "      <td>no</td>\n",
              "      <td>no</td>\n",
              "      <td>yes</td>\n",
              "      <td>0.666667</td>\n",
              "      <td>yes</td>\n",
              "      <td>furnished</td>\n",
              "    </tr>\n",
              "    <tr>\n",
              "      <th>1</th>\n",
              "      <td>0.909091</td>\n",
              "      <td>0.502405</td>\n",
              "      <td>0.6</td>\n",
              "      <td>1.000000</td>\n",
              "      <td>1.000000</td>\n",
              "      <td>yes</td>\n",
              "      <td>no</td>\n",
              "      <td>no</td>\n",
              "      <td>no</td>\n",
              "      <td>yes</td>\n",
              "      <td>1.000000</td>\n",
              "      <td>no</td>\n",
              "      <td>furnished</td>\n",
              "    </tr>\n",
              "    <tr>\n",
              "      <th>2</th>\n",
              "      <td>0.909091</td>\n",
              "      <td>0.571134</td>\n",
              "      <td>0.4</td>\n",
              "      <td>0.333333</td>\n",
              "      <td>0.333333</td>\n",
              "      <td>yes</td>\n",
              "      <td>no</td>\n",
              "      <td>yes</td>\n",
              "      <td>no</td>\n",
              "      <td>no</td>\n",
              "      <td>0.666667</td>\n",
              "      <td>yes</td>\n",
              "      <td>semi-furnished</td>\n",
              "    </tr>\n",
              "    <tr>\n",
              "      <th>3</th>\n",
              "      <td>0.906061</td>\n",
              "      <td>0.402062</td>\n",
              "      <td>0.6</td>\n",
              "      <td>0.333333</td>\n",
              "      <td>0.333333</td>\n",
              "      <td>yes</td>\n",
              "      <td>no</td>\n",
              "      <td>yes</td>\n",
              "      <td>no</td>\n",
              "      <td>yes</td>\n",
              "      <td>1.000000</td>\n",
              "      <td>yes</td>\n",
              "      <td>furnished</td>\n",
              "    </tr>\n",
              "    <tr>\n",
              "      <th>4</th>\n",
              "      <td>0.836364</td>\n",
              "      <td>0.396564</td>\n",
              "      <td>0.6</td>\n",
              "      <td>0.000000</td>\n",
              "      <td>0.333333</td>\n",
              "      <td>yes</td>\n",
              "      <td>yes</td>\n",
              "      <td>yes</td>\n",
              "      <td>no</td>\n",
              "      <td>yes</td>\n",
              "      <td>0.666667</td>\n",
              "      <td>no</td>\n",
              "      <td>furnished</td>\n",
              "    </tr>\n",
              "  </tbody>\n",
              "</table>\n",
              "</div>\n",
              "    <div class=\"colab-df-buttons\">\n",
              "\n",
              "  <div class=\"colab-df-container\">\n",
              "    <button class=\"colab-df-convert\" onclick=\"convertToInteractive('df-2a35b779-d868-4711-8a07-eb1243fb6628')\"\n",
              "            title=\"Convert this dataframe to an interactive table.\"\n",
              "            style=\"display:none;\">\n",
              "\n",
              "  <svg xmlns=\"http://www.w3.org/2000/svg\" height=\"24px\" viewBox=\"0 -960 960 960\">\n",
              "    <path d=\"M120-120v-720h720v720H120Zm60-500h600v-160H180v160Zm220 220h160v-160H400v160Zm0 220h160v-160H400v160ZM180-400h160v-160H180v160Zm440 0h160v-160H620v160ZM180-180h160v-160H180v160Zm440 0h160v-160H620v160Z\"/>\n",
              "  </svg>\n",
              "    </button>\n",
              "\n",
              "  <style>\n",
              "    .colab-df-container {\n",
              "      display:flex;\n",
              "      gap: 12px;\n",
              "    }\n",
              "\n",
              "    .colab-df-convert {\n",
              "      background-color: #E8F0FE;\n",
              "      border: none;\n",
              "      border-radius: 50%;\n",
              "      cursor: pointer;\n",
              "      display: none;\n",
              "      fill: #1967D2;\n",
              "      height: 32px;\n",
              "      padding: 0 0 0 0;\n",
              "      width: 32px;\n",
              "    }\n",
              "\n",
              "    .colab-df-convert:hover {\n",
              "      background-color: #E2EBFA;\n",
              "      box-shadow: 0px 1px 2px rgba(60, 64, 67, 0.3), 0px 1px 3px 1px rgba(60, 64, 67, 0.15);\n",
              "      fill: #174EA6;\n",
              "    }\n",
              "\n",
              "    .colab-df-buttons div {\n",
              "      margin-bottom: 4px;\n",
              "    }\n",
              "\n",
              "    [theme=dark] .colab-df-convert {\n",
              "      background-color: #3B4455;\n",
              "      fill: #D2E3FC;\n",
              "    }\n",
              "\n",
              "    [theme=dark] .colab-df-convert:hover {\n",
              "      background-color: #434B5C;\n",
              "      box-shadow: 0px 1px 3px 1px rgba(0, 0, 0, 0.15);\n",
              "      filter: drop-shadow(0px 1px 2px rgba(0, 0, 0, 0.3));\n",
              "      fill: #FFFFFF;\n",
              "    }\n",
              "  </style>\n",
              "\n",
              "    <script>\n",
              "      const buttonEl =\n",
              "        document.querySelector('#df-2a35b779-d868-4711-8a07-eb1243fb6628 button.colab-df-convert');\n",
              "      buttonEl.style.display =\n",
              "        google.colab.kernel.accessAllowed ? 'block' : 'none';\n",
              "\n",
              "      async function convertToInteractive(key) {\n",
              "        const element = document.querySelector('#df-2a35b779-d868-4711-8a07-eb1243fb6628');\n",
              "        const dataTable =\n",
              "          await google.colab.kernel.invokeFunction('convertToInteractive',\n",
              "                                                    [key], {});\n",
              "        if (!dataTable) return;\n",
              "\n",
              "        const docLinkHtml = 'Like what you see? Visit the ' +\n",
              "          '<a target=\"_blank\" href=https://colab.research.google.com/notebooks/data_table.ipynb>data table notebook</a>'\n",
              "          + ' to learn more about interactive tables.';\n",
              "        element.innerHTML = '';\n",
              "        dataTable['output_type'] = 'display_data';\n",
              "        await google.colab.output.renderOutput(dataTable, element);\n",
              "        const docLink = document.createElement('div');\n",
              "        docLink.innerHTML = docLinkHtml;\n",
              "        element.appendChild(docLink);\n",
              "      }\n",
              "    </script>\n",
              "  </div>\n",
              "\n",
              "\n",
              "<div id=\"df-16c48a3e-0fa4-4407-b1f4-208501837488\">\n",
              "  <button class=\"colab-df-quickchart\" onclick=\"quickchart('df-16c48a3e-0fa4-4407-b1f4-208501837488')\"\n",
              "            title=\"Suggest charts\"\n",
              "            style=\"display:none;\">\n",
              "\n",
              "<svg xmlns=\"http://www.w3.org/2000/svg\" height=\"24px\"viewBox=\"0 0 24 24\"\n",
              "     width=\"24px\">\n",
              "    <g>\n",
              "        <path d=\"M19 3H5c-1.1 0-2 .9-2 2v14c0 1.1.9 2 2 2h14c1.1 0 2-.9 2-2V5c0-1.1-.9-2-2-2zM9 17H7v-7h2v7zm4 0h-2V7h2v10zm4 0h-2v-4h2v4z\"/>\n",
              "    </g>\n",
              "</svg>\n",
              "  </button>\n",
              "\n",
              "<style>\n",
              "  .colab-df-quickchart {\n",
              "      --bg-color: #E8F0FE;\n",
              "      --fill-color: #1967D2;\n",
              "      --hover-bg-color: #E2EBFA;\n",
              "      --hover-fill-color: #174EA6;\n",
              "      --disabled-fill-color: #AAA;\n",
              "      --disabled-bg-color: #DDD;\n",
              "  }\n",
              "\n",
              "  [theme=dark] .colab-df-quickchart {\n",
              "      --bg-color: #3B4455;\n",
              "      --fill-color: #D2E3FC;\n",
              "      --hover-bg-color: #434B5C;\n",
              "      --hover-fill-color: #FFFFFF;\n",
              "      --disabled-bg-color: #3B4455;\n",
              "      --disabled-fill-color: #666;\n",
              "  }\n",
              "\n",
              "  .colab-df-quickchart {\n",
              "    background-color: var(--bg-color);\n",
              "    border: none;\n",
              "    border-radius: 50%;\n",
              "    cursor: pointer;\n",
              "    display: none;\n",
              "    fill: var(--fill-color);\n",
              "    height: 32px;\n",
              "    padding: 0;\n",
              "    width: 32px;\n",
              "  }\n",
              "\n",
              "  .colab-df-quickchart:hover {\n",
              "    background-color: var(--hover-bg-color);\n",
              "    box-shadow: 0 1px 2px rgba(60, 64, 67, 0.3), 0 1px 3px 1px rgba(60, 64, 67, 0.15);\n",
              "    fill: var(--button-hover-fill-color);\n",
              "  }\n",
              "\n",
              "  .colab-df-quickchart-complete:disabled,\n",
              "  .colab-df-quickchart-complete:disabled:hover {\n",
              "    background-color: var(--disabled-bg-color);\n",
              "    fill: var(--disabled-fill-color);\n",
              "    box-shadow: none;\n",
              "  }\n",
              "\n",
              "  .colab-df-spinner {\n",
              "    border: 2px solid var(--fill-color);\n",
              "    border-color: transparent;\n",
              "    border-bottom-color: var(--fill-color);\n",
              "    animation:\n",
              "      spin 1s steps(1) infinite;\n",
              "  }\n",
              "\n",
              "  @keyframes spin {\n",
              "    0% {\n",
              "      border-color: transparent;\n",
              "      border-bottom-color: var(--fill-color);\n",
              "      border-left-color: var(--fill-color);\n",
              "    }\n",
              "    20% {\n",
              "      border-color: transparent;\n",
              "      border-left-color: var(--fill-color);\n",
              "      border-top-color: var(--fill-color);\n",
              "    }\n",
              "    30% {\n",
              "      border-color: transparent;\n",
              "      border-left-color: var(--fill-color);\n",
              "      border-top-color: var(--fill-color);\n",
              "      border-right-color: var(--fill-color);\n",
              "    }\n",
              "    40% {\n",
              "      border-color: transparent;\n",
              "      border-right-color: var(--fill-color);\n",
              "      border-top-color: var(--fill-color);\n",
              "    }\n",
              "    60% {\n",
              "      border-color: transparent;\n",
              "      border-right-color: var(--fill-color);\n",
              "    }\n",
              "    80% {\n",
              "      border-color: transparent;\n",
              "      border-right-color: var(--fill-color);\n",
              "      border-bottom-color: var(--fill-color);\n",
              "    }\n",
              "    90% {\n",
              "      border-color: transparent;\n",
              "      border-bottom-color: var(--fill-color);\n",
              "    }\n",
              "  }\n",
              "</style>\n",
              "\n",
              "  <script>\n",
              "    async function quickchart(key) {\n",
              "      const quickchartButtonEl =\n",
              "        document.querySelector('#' + key + ' button');\n",
              "      quickchartButtonEl.disabled = true;  // To prevent multiple clicks.\n",
              "      quickchartButtonEl.classList.add('colab-df-spinner');\n",
              "      try {\n",
              "        const charts = await google.colab.kernel.invokeFunction(\n",
              "            'suggestCharts', [key], {});\n",
              "      } catch (error) {\n",
              "        console.error('Error during call to suggestCharts:', error);\n",
              "      }\n",
              "      quickchartButtonEl.classList.remove('colab-df-spinner');\n",
              "      quickchartButtonEl.classList.add('colab-df-quickchart-complete');\n",
              "    }\n",
              "    (() => {\n",
              "      let quickchartButtonEl =\n",
              "        document.querySelector('#df-16c48a3e-0fa4-4407-b1f4-208501837488 button');\n",
              "      quickchartButtonEl.style.display =\n",
              "        google.colab.kernel.accessAllowed ? 'block' : 'none';\n",
              "    })();\n",
              "  </script>\n",
              "</div>\n",
              "    </div>\n",
              "  </div>\n"
            ]
          },
          "metadata": {},
          "execution_count": 801
        }
      ]
    },
    {
      "cell_type": "code",
      "execution_count": 802,
      "metadata": {
        "id": "sIrLiGl-88w0"
      },
      "outputs": [],
      "source": [
        "from sklearn.model_selection import train_test_split\n",
        "\n",
        "# We specify this so that the train and test data set always have the same rows, respectively\n",
        "np.random.seed(0)\n",
        "\n",
        "X = df[input_features].values\n",
        "y = df[[output_feature]].values"
      ]
    },
    {
      "cell_type": "code",
      "execution_count": 803,
      "metadata": {
        "id": "GMOC3fEn9jjA"
      },
      "outputs": [],
      "source": [
        "X_t = torch.tensor(X)\n",
        "Y_t = torch.tensor(y)"
      ]
    },
    {
      "cell_type": "code",
      "execution_count": 804,
      "metadata": {
        "id": "UGBr1Sax9wml",
        "colab": {
          "base_uri": "https://localhost:8080/"
        },
        "outputId": "ce3cd282-4a05-494d-d7c6-7a0067b7ead6"
      },
      "outputs": [
        {
          "output_type": "execute_result",
          "data": {
            "text/plain": [
              "tensor([[0.3966, 0.6000, 0.3333, 0.6667, 0.6667],\n",
              "        [0.5024, 0.6000, 1.0000, 1.0000, 1.0000],\n",
              "        [0.5711, 0.4000, 0.3333, 0.3333, 0.6667],\n",
              "        ...,\n",
              "        [0.1354, 0.2000, 0.0000, 0.0000, 0.0000],\n",
              "        [0.0866, 0.4000, 0.0000, 0.0000, 0.0000],\n",
              "        [0.1512, 0.4000, 0.0000, 0.3333, 0.0000]], dtype=torch.float64)"
            ]
          },
          "metadata": {},
          "execution_count": 804
        }
      ],
      "source": [
        "X_t"
      ]
    },
    {
      "cell_type": "code",
      "execution_count": 804,
      "metadata": {
        "id": "WA9aeYU09xCn"
      },
      "outputs": [],
      "source": []
    },
    {
      "cell_type": "code",
      "source": [
        "X = df[input_features].values\n",
        "y = df[[output_feature]].values"
      ],
      "metadata": {
        "id": "fgDCqFHjcAJ1"
      },
      "execution_count": 805,
      "outputs": []
    },
    {
      "cell_type": "code",
      "execution_count": 806,
      "metadata": {
        "id": "1RxnfCVi95vf"
      },
      "outputs": [],
      "source": [
        "def model(X, W, B):\n",
        "    return torch.sum(X * W, dim=1) + B"
      ]
    },
    {
      "cell_type": "code",
      "execution_count": 807,
      "metadata": {
        "id": "oBFPsOmH-NOW"
      },
      "outputs": [],
      "source": [
        "weights = torch.ones(5)  # Consolidating W1, W2, W3, W4, W5 into a single tensor, because of 5 inputs\n",
        "bias = torch.zeros(1)    # Bias as a single value"
      ]
    },
    {
      "cell_type": "code",
      "execution_count": 808,
      "metadata": {
        "id": "MsmIImB6-S8Z"
      },
      "outputs": [],
      "source": [
        "train_X, val_X, train_Y, val_Y = train_test_split(X, y, test_size=0.2, random_state=42)"
      ]
    },
    {
      "cell_type": "code",
      "execution_count": 809,
      "metadata": {
        "id": "R4tFzROJ-Wg7",
        "colab": {
          "base_uri": "https://localhost:8080/"
        },
        "outputId": "bd27b5d3-beb8-44d3-c5b1-dfa29c1f05c4"
      },
      "outputs": [
        {
          "output_type": "execute_result",
          "data": {
            "text/plain": [
              "((436, 5), (436, 1), (109, 5), (109, 1))"
            ]
          },
          "metadata": {},
          "execution_count": 809
        }
      ],
      "source": [
        "train_X.shape, train_Y.shape, val_X.shape, val_Y.shape"
      ]
    },
    {
      "cell_type": "code",
      "execution_count": 810,
      "metadata": {
        "id": "P9FS9uMF-ZDC"
      },
      "outputs": [],
      "source": [
        "X_train = torch.tensor(train_X)\n",
        "y_train =  torch.tensor(train_Y)\n",
        "X_val =  torch.tensor(val_X)\n",
        "y_val =  torch.tensor(val_Y)"
      ]
    },
    {
      "cell_type": "code",
      "source": [
        "def training_loop(n_epochs, optimizer, weights, bias, X_train, X_val, y_train, y_val):\n",
        "    loss_train = []\n",
        "    loss_val = []\n",
        "    for epoch in range(1, n_epochs + 1):\n",
        "        y_train_p = model(X_train, weights, bias)\n",
        "        train_loss = loss_fn(y_train_p, y_train)\n",
        "\n",
        "        y_val_p = model(X_train, weights, bias)\n",
        "        val_loss = loss_fn(y_val_p, y_val)\n",
        "\n",
        "        optimizer.zero_grad()\n",
        "        train_loss.backward()\n",
        "        optimizer.step()\n",
        "\n",
        "        if epoch % 500 == 0:\n",
        "            loss_train.append(train_loss)\n",
        "            loss_val.append(val_loss)\n",
        "            print(f\"Epoch {epoch}, Training loss {train_loss.item():.4f},\"\n",
        "                  f\" Validation loss {val_loss.item():.4f}\")\n",
        "\n",
        "    return weights, bias, loss_train, loss_val"
      ],
      "metadata": {
        "id": "ydng2rAHVidj"
      },
      "execution_count": 811,
      "outputs": []
    },
    {
      "cell_type": "code",
      "source": [
        "def model_training(X, y, epochs, optimizer, learning_rate):\n",
        "  train_X, val_X, train_Y, val_Y = train_test_split(X, y, test_size=0.2, random_state=42)\n",
        "  X_train = torch.tensor(train_X)\n",
        "  y_train =  torch.tensor(train_Y)\n",
        "  X_val =  torch.tensor(val_X)\n",
        "  y_val =  torch.tensor(val_Y)\n",
        "\n",
        "  n_w = X.shape[1]\n",
        "  weights = torch.tensor([1.0] * n_w, requires_grad=True)\n",
        "  bias = torch.tensor([0.0], requires_grad=True)\n",
        "  if optimizer == 'SGD':\n",
        "    optimizer = optim.SGD([weights, bias], lr=learning_rate)\n",
        "  elif optimizer == 'ADAM':\n",
        "    optimizer = optim.Adam([weights, bias], lr=learning_rate)\n",
        "\n",
        "  w, b, train_loss, val_loss = training_loop(\n",
        "                                n_epochs = epochs,\n",
        "                                optimizer = optimizer,\n",
        "                                weights = weights,\n",
        "                                bias = bias,\n",
        "                                X_train = X_train,\n",
        "                                X_val = X_val,\n",
        "                                y_train = y_train,\n",
        "                                y_val = y_val)\n",
        "  return w, b, train_loss, val_loss"
      ],
      "metadata": {
        "id": "ReUMuixEVodP"
      },
      "execution_count": 812,
      "outputs": []
    },
    {
      "cell_type": "code",
      "source": [
        "weights_adam_1, bias_adam_1, train_loss_adam_1, val_loss_adam_1 = model_training(X, y, epochs = 5000, optimizer = 'ADAM', learning_rate = 0.01)\n"
      ],
      "metadata": {
        "id": "gr4urhxKVqDk",
        "colab": {
          "base_uri": "https://localhost:8080/"
        },
        "outputId": "17d70c80-3875-4cfa-9030-29976161e29d"
      },
      "execution_count": 813,
      "outputs": [
        {
          "output_type": "stream",
          "name": "stdout",
          "text": [
            "Epoch 500, Training loss 0.0231, Validation loss 0.0386\n",
            "Epoch 1000, Training loss 0.0231, Validation loss 0.0386\n",
            "Epoch 1500, Training loss 0.0231, Validation loss 0.0386\n",
            "Epoch 2000, Training loss 0.0231, Validation loss 0.0386\n",
            "Epoch 2500, Training loss 0.0231, Validation loss 0.0386\n",
            "Epoch 3000, Training loss 0.0231, Validation loss 0.0386\n",
            "Epoch 3500, Training loss 0.0231, Validation loss 0.0386\n",
            "Epoch 4000, Training loss 0.0231, Validation loss 0.0386\n",
            "Epoch 4500, Training loss 0.0231, Validation loss 0.0386\n",
            "Epoch 5000, Training loss 0.0231, Validation loss 0.0386\n"
          ]
        }
      ]
    },
    {
      "cell_type": "code",
      "source": [
        "weights_adam_1, bias_adam_1"
      ],
      "metadata": {
        "id": "47h8EXbtVzjp",
        "colab": {
          "base_uri": "https://localhost:8080/"
        },
        "outputId": "0e2300aa-539e-47e6-eed9-2c3da553abe9"
      },
      "execution_count": 814,
      "outputs": [
        {
          "output_type": "execute_result",
          "data": {
            "text/plain": [
              "(tensor([4.3774e-06, 4.3856e-06, 4.0461e-06, 4.2304e-06, 4.2025e-06],\n",
              "        requires_grad=True),\n",
              " tensor([0.2560], requires_grad=True))"
            ]
          },
          "metadata": {},
          "execution_count": 814
        }
      ]
    },
    {
      "cell_type": "code",
      "source": [
        "weights_adam_01, bias_adam_01, train_loss_adam_01, val_loss_adam_01 = model_training(X, y, epochs = 5000, optimizer = 'ADAM', learning_rate = 0.0002)\n"
      ],
      "metadata": {
        "id": "zwZGcCJjV42E",
        "colab": {
          "base_uri": "https://localhost:8080/"
        },
        "outputId": "dc177dfc-503a-48db-b1b4-2ac11a27f12f"
      },
      "execution_count": 815,
      "outputs": [
        {
          "output_type": "stream",
          "name": "stdout",
          "text": [
            "Epoch 500, Training loss 0.0266, Validation loss 0.0424\n",
            "Epoch 1000, Training loss 0.0234, Validation loss 0.0389\n",
            "Epoch 1500, Training loss 0.0231, Validation loss 0.0386\n",
            "Epoch 2000, Training loss 0.0231, Validation loss 0.0386\n",
            "Epoch 2500, Training loss 0.0231, Validation loss 0.0386\n",
            "Epoch 3000, Training loss 0.0231, Validation loss 0.0386\n",
            "Epoch 3500, Training loss 0.0231, Validation loss 0.0386\n",
            "Epoch 4000, Training loss 0.0231, Validation loss 0.0386\n",
            "Epoch 4500, Training loss 0.0231, Validation loss 0.0386\n",
            "Epoch 5000, Training loss 0.0231, Validation loss 0.0386\n"
          ]
        }
      ]
    },
    {
      "cell_type": "code",
      "source": [
        "weights_adam_01, bias_adam_01"
      ],
      "metadata": {
        "id": "qrtUwG_9V9hc",
        "colab": {
          "base_uri": "https://localhost:8080/"
        },
        "outputId": "9e27acf4-8fe7-49b4-f442-12850f3aef57"
      },
      "execution_count": 816,
      "outputs": [
        {
          "output_type": "execute_result",
          "data": {
            "text/plain": [
              "(tensor([ 1.1828e-07,  2.5502e-07, -6.8351e-08, -2.1430e-09,  6.7796e-09],\n",
              "        requires_grad=True),\n",
              " tensor([0.2560], requires_grad=True))"
            ]
          },
          "metadata": {},
          "execution_count": 816
        }
      ]
    },
    {
      "cell_type": "code",
      "source": [
        "weights_adam_001, bias_adam_001, train_loss_adam_001, val_loss_adam_001 = model_training(X, y, epochs = 5000, optimizer = 'ADAM', learning_rate = 0.003)\n"
      ],
      "metadata": {
        "id": "SsTyS2fxV-40",
        "colab": {
          "base_uri": "https://localhost:8080/"
        },
        "outputId": "20adf04b-6c21-4ed9-e31c-f2898c676acb"
      },
      "execution_count": 817,
      "outputs": [
        {
          "output_type": "stream",
          "name": "stdout",
          "text": [
            "Epoch 500, Training loss 0.2047, Validation loss 0.2117\n",
            "Epoch 1000, Training loss 0.1061, Validation loss 0.1239\n",
            "Epoch 1500, Training loss 0.0719, Validation loss 0.0899\n",
            "Epoch 2000, Training loss 0.0487, Validation loss 0.0659\n",
            "Epoch 2500, Training loss 0.0358, Validation loss 0.0524\n",
            "Epoch 3000, Training loss 0.0297, Validation loss 0.0459\n",
            "Epoch 3500, Training loss 0.0270, Validation loss 0.0428\n",
            "Epoch 4000, Training loss 0.0254, Validation loss 0.0411\n",
            "Epoch 4500, Training loss 0.0244, Validation loss 0.0400\n",
            "Epoch 5000, Training loss 0.0237, Validation loss 0.0393\n"
          ]
        }
      ]
    },
    {
      "cell_type": "code",
      "source": [
        "weights_adam_001, bias_adam_001"
      ],
      "metadata": {
        "id": "nG7x_BeJWLnr",
        "colab": {
          "base_uri": "https://localhost:8080/"
        },
        "outputId": "18e53e01-d18c-4253-87eb-ce2cb53f4616"
      },
      "execution_count": 818,
      "outputs": [
        {
          "output_type": "execute_result",
          "data": {
            "text/plain": [
              "(tensor([ 0.0522,  0.1781, -0.0672, -0.0236, -0.0105], requires_grad=True),\n",
              " tensor([0.1860], requires_grad=True))"
            ]
          },
          "metadata": {},
          "execution_count": 818
        }
      ]
    },
    {
      "cell_type": "code",
      "source": [
        "weights_adam_0001, bias_adam_0001, train_loss_adam_0001, val_loss_adam_0001 = model_training(X, y, epochs = 5000, optimizer = 'ADAM', learning_rate = 0.0001)\n"
      ],
      "metadata": {
        "id": "6KQHI9c5WOpy",
        "colab": {
          "base_uri": "https://localhost:8080/"
        },
        "outputId": "0e01aea1-9cd0-4db9-9a1e-4710697e5504"
      },
      "execution_count": 819,
      "outputs": [
        {
          "output_type": "stream",
          "name": "stdout",
          "text": [
            "Epoch 500, Training loss 1.1064, Validation loss 1.0777\n",
            "Epoch 1000, Training loss 0.9080, Validation loss 0.8847\n",
            "Epoch 1500, Training loss 0.7402, Validation loss 0.7219\n",
            "Epoch 2000, Training loss 0.5992, Validation loss 0.5858\n",
            "Epoch 2500, Training loss 0.4823, Validation loss 0.4735\n",
            "Epoch 3000, Training loss 0.3869, Validation loss 0.3825\n",
            "Epoch 3500, Training loss 0.3107, Validation loss 0.3104\n",
            "Epoch 4000, Training loss 0.2516, Validation loss 0.2551\n",
            "Epoch 4500, Training loss 0.2072, Validation loss 0.2143\n",
            "Epoch 5000, Training loss 0.1752, Validation loss 0.1854\n"
          ]
        }
      ]
    },
    {
      "cell_type": "code",
      "source": [
        "weights_adam_0001, bias_adam_0001"
      ],
      "metadata": {
        "id": "Wb8lmBdVWUJk",
        "colab": {
          "base_uri": "https://localhost:8080/"
        },
        "outputId": "1468fb3c-ddab-4b92-ab3b-37af5002b68b"
      },
      "execution_count": 820,
      "outputs": [
        {
          "output_type": "execute_result",
          "data": {
            "text/plain": [
              "(tensor([0.6064, 0.6119, 0.5784, 0.5884, 0.5866], requires_grad=True),\n",
              " tensor([-0.3670], requires_grad=True))"
            ]
          },
          "metadata": {},
          "execution_count": 820
        }
      ]
    },
    {
      "cell_type": "code",
      "source": [
        "weights_sgd_1, bias_sgd_1, train_loss_sgd_1, val_loss_sgd_1 = model_training(X, y, epochs = 5000, optimizer = 'SGD', learning_rate = 0.01)\n"
      ],
      "metadata": {
        "id": "DCIV8uI6WX2H",
        "colab": {
          "base_uri": "https://localhost:8080/"
        },
        "outputId": "d2ece74e-5cd1-4c99-ebdd-4f4d4774e09d"
      },
      "execution_count": 821,
      "outputs": [
        {
          "output_type": "stream",
          "name": "stdout",
          "text": [
            "Epoch 500, Training loss 0.0235, Validation loss 0.0390\n",
            "Epoch 1000, Training loss 0.0231, Validation loss 0.0386\n",
            "Epoch 1500, Training loss 0.0231, Validation loss 0.0386\n",
            "Epoch 2000, Training loss 0.0231, Validation loss 0.0386\n",
            "Epoch 2500, Training loss 0.0231, Validation loss 0.0386\n",
            "Epoch 3000, Training loss 0.0231, Validation loss 0.0386\n",
            "Epoch 3500, Training loss 0.0231, Validation loss 0.0386\n",
            "Epoch 4000, Training loss 0.0231, Validation loss 0.0386\n",
            "Epoch 4500, Training loss 0.0231, Validation loss 0.0386\n",
            "Epoch 5000, Training loss 0.0231, Validation loss 0.0386\n"
          ]
        }
      ]
    },
    {
      "cell_type": "code",
      "source": [
        "weights_sgd_1, bias_sgd_1"
      ],
      "metadata": {
        "id": "EPsgFr5MWbo1",
        "colab": {
          "base_uri": "https://localhost:8080/"
        },
        "outputId": "07dd6a03-5529-40f0-bb9c-72819719e73c"
      },
      "execution_count": 822,
      "outputs": [
        {
          "output_type": "execute_result",
          "data": {
            "text/plain": [
              "(tensor([ 5.8444e-07,  1.6221e-06, -6.0470e-07, -4.4821e-08,  3.9729e-08],\n",
              "        requires_grad=True),\n",
              " tensor([0.2560], requires_grad=True))"
            ]
          },
          "metadata": {},
          "execution_count": 822
        }
      ]
    },
    {
      "cell_type": "code",
      "source": [
        "weights_sgd_01, bias_sgd_01, train_loss_sgd_01, val_loss_sgd_01 =  model_training(X, y, epochs = 5000, optimizer = 'SGD', learning_rate = 0.002)\n"
      ],
      "metadata": {
        "id": "KMx9_h1JWe_z",
        "colab": {
          "base_uri": "https://localhost:8080/"
        },
        "outputId": "645b3338-a361-4cc2-a917-ec7591fc8dae"
      },
      "execution_count": 823,
      "outputs": [
        {
          "output_type": "stream",
          "name": "stdout",
          "text": [
            "Epoch 500, Training loss 0.0900, Validation loss 0.1071\n",
            "Epoch 1000, Training loss 0.0447, Validation loss 0.0610\n",
            "Epoch 1500, Training loss 0.0326, Validation loss 0.0485\n",
            "Epoch 2000, Training loss 0.0284, Validation loss 0.0441\n",
            "Epoch 2500, Training loss 0.0263, Validation loss 0.0420\n",
            "Epoch 3000, Training loss 0.0252, Validation loss 0.0407\n",
            "Epoch 3500, Training loss 0.0245, Validation loss 0.0400\n",
            "Epoch 4000, Training loss 0.0240, Validation loss 0.0395\n",
            "Epoch 4500, Training loss 0.0237, Validation loss 0.0392\n",
            "Epoch 5000, Training loss 0.0235, Validation loss 0.0390\n"
          ]
        }
      ]
    },
    {
      "cell_type": "code",
      "source": [
        "weights_sgd_01, bias_sgd_01"
      ],
      "metadata": {
        "id": "hYUaMOsyWkcN",
        "colab": {
          "base_uri": "https://localhost:8080/"
        },
        "outputId": "e2550b81-809a-4a85-939e-1bdbec2d0463"
      },
      "execution_count": 824,
      "outputs": [
        {
          "output_type": "execute_result",
          "data": {
            "text/plain": [
              "(tensor([ 0.0912,  0.0961,  0.0113, -0.0293, -0.0281], requires_grad=True),\n",
              " tensor([0.2086], requires_grad=True))"
            ]
          },
          "metadata": {},
          "execution_count": 824
        }
      ]
    },
    {
      "cell_type": "code",
      "source": [
        "weights_sgd_001, bias_sgd_001, train_loss_sgd_001, val_loss_sgd_001 = model_training(X, y, epochs = 5000, optimizer = 'SGD', learning_rate = 0.003)\n"
      ],
      "metadata": {
        "id": "lkSqWbgRWn-_",
        "colab": {
          "base_uri": "https://localhost:8080/"
        },
        "outputId": "1479b14c-3a8e-4af5-e1a7-07cdd8d96777"
      },
      "execution_count": 825,
      "outputs": [
        {
          "output_type": "stream",
          "name": "stdout",
          "text": [
            "Epoch 500, Training loss 0.3233, Validation loss 0.3281\n",
            "Epoch 1000, Training loss 0.2274, Validation loss 0.2421\n",
            "Epoch 1500, Training loss 0.1964, Validation loss 0.2136\n",
            "Epoch 2000, Training loss 0.1733, Validation loss 0.1909\n",
            "Epoch 2500, Training loss 0.1536, Validation loss 0.1712\n",
            "Epoch 3000, Training loss 0.1368, Validation loss 0.1543\n",
            "Epoch 3500, Training loss 0.1223, Validation loss 0.1397\n",
            "Epoch 4000, Training loss 0.1099, Validation loss 0.1271\n",
            "Epoch 4500, Training loss 0.0992, Validation loss 0.1163\n",
            "Epoch 5000, Training loss 0.0900, Validation loss 0.1070\n"
          ]
        }
      ]
    },
    {
      "cell_type": "code",
      "source": [
        "weights_sgd_001, bias_sgd_001"
      ],
      "metadata": {
        "id": "Dhq58p-tWsU_",
        "colab": {
          "base_uri": "https://localhost:8080/"
        },
        "outputId": "8f68f2d9-0a73-40af-b2ad-23e93947d929"
      },
      "execution_count": 826,
      "outputs": [
        {
          "output_type": "execute_result",
          "data": {
            "text/plain": [
              "(tensor([0.6123, 0.5272, 0.5757, 0.2545, 0.2784], requires_grad=True),\n",
              " tensor([-0.3091], requires_grad=True))"
            ]
          },
          "metadata": {},
          "execution_count": 826
        }
      ]
    },
    {
      "cell_type": "code",
      "source": [
        "weights_sgd_0001, bias_sgd_0001, train_loss_sgd_0001, val_loss_sgd_0001 = model_training(X, y, epochs = 5000, optimizer = 'SGD', learning_rate = 0.0001)\n"
      ],
      "metadata": {
        "id": "rfW6X-oYWtSF",
        "colab": {
          "base_uri": "https://localhost:8080/"
        },
        "outputId": "47149513-e2d5-4864-b2b9-2c9ace0b636c"
      },
      "execution_count": 827,
      "outputs": [
        {
          "output_type": "stream",
          "name": "stdout",
          "text": [
            "Epoch 500, Training loss 1.0859, Validation loss 1.0583\n",
            "Epoch 1000, Training loss 0.8918, Validation loss 0.8700\n",
            "Epoch 1500, Training loss 0.7430, Validation loss 0.7263\n",
            "Epoch 2000, Training loss 0.6288, Validation loss 0.6166\n",
            "Epoch 2500, Training loss 0.5409, Validation loss 0.5326\n",
            "Epoch 3000, Training loss 0.4732, Validation loss 0.4683\n",
            "Epoch 3500, Training loss 0.4207, Validation loss 0.4188\n",
            "Epoch 4000, Training loss 0.3800, Validation loss 0.3806\n",
            "Epoch 4500, Training loss 0.3482, Validation loss 0.3510\n",
            "Epoch 5000, Training loss 0.3231, Validation loss 0.3280\n"
          ]
        }
      ]
    },
    {
      "cell_type": "code",
      "source": [
        "weights_sgd_0001, bias_sgd_0001"
      ],
      "metadata": {
        "id": "XVPPfUHIWyzr",
        "colab": {
          "base_uri": "https://localhost:8080/"
        },
        "outputId": "c6583e5a-fcbd-4057-d733-d66126412dd4"
      },
      "execution_count": 828,
      "outputs": [
        {
          "output_type": "execute_result",
          "data": {
            "text/plain": [
              "(tensor([0.8369, 0.7544, 0.8998, 0.7654, 0.7854], requires_grad=True),\n",
              " tensor([-0.4963], requires_grad=True))"
            ]
          },
          "metadata": {},
          "execution_count": 828
        }
      ]
    },
    {
      "cell_type": "code",
      "source": [
        "epochs = range(1, 500 * len(train_loss_sgd_1), 500)\n",
        "epochs"
      ],
      "metadata": {
        "id": "cnM_qqvwWyoL",
        "colab": {
          "base_uri": "https://localhost:8080/"
        },
        "outputId": "0489e921-0288-484e-9983-a5189b312803"
      },
      "execution_count": 829,
      "outputs": [
        {
          "output_type": "execute_result",
          "data": {
            "text/plain": [
              "range(1, 5000, 500)"
            ]
          },
          "metadata": {},
          "execution_count": 829
        }
      ]
    },
    {
      "cell_type": "code",
      "source": [
        "plt.figure(figsize=(10, 10))\n",
        "plt.suptitle('Loss for optimizer - SGD')\n",
        "\n",
        "plt.subplot(2,2,1)\n",
        "plt.plot(epochs, np.array([item.detach().item() for item in train_loss_sgd_1]), color='green', label = 'training Loss')\n",
        "plt.plot(epochs, np.array([item.detach().item() for item in val_loss_sgd_1]), color='violet', label = 'validation Loss')\n",
        "plt.title('Loss with Learning Rate of 0.01')\n",
        "plt.legend()\n",
        "\n",
        "plt.subplot(2,2,2)\n",
        "plt.plot(epochs, np.array([item.detach().item() for item in train_loss_sgd_01]), color='green', label = 'training Loss')\n",
        "plt.plot(epochs, np.array([item.detach().item() for item in val_loss_sgd_01]), color='violet', label = 'validation Loss')\n",
        "plt.title('Loss with Learning Rate of 0.002')\n",
        "plt.legend()\n",
        "\n",
        "plt.subplot(2,2,3)\n",
        "plt.plot(epochs, np.array([item.detach().item() for item in train_loss_sgd_001]), color='green', label = 'training Loss')\n",
        "plt.plot(epochs, np.array([item.detach().item() for item in val_loss_sgd_001]), color='violet', label = 'validation Loss')\n",
        "plt.title('Loss with Learning Rate of 0.003')\n",
        "plt.legend()\n",
        "\n",
        "plt.subplot(2,2,4)\n",
        "plt.plot(epochs, np.array([item.detach().item() for item in train_loss_sgd_0001]), color='green', label = 'training Loss')\n",
        "plt.plot(epochs, np.array([item.detach().item() for item in val_loss_sgd_0001]), color='violet', label = 'validation Loss')\n",
        "plt.title('Loss with Learning Rate of 0.0001')\n",
        "plt.legend()\n",
        "\n",
        "plt.show()"
      ],
      "metadata": {
        "id": "0otycv6IW5tq",
        "colab": {
          "base_uri": "https://localhost:8080/",
          "height": 930
        },
        "outputId": "f8df46d7-201d-4a2d-ade1-bbb7bbc05404"
      },
      "execution_count": 830,
      "outputs": [
        {
          "output_type": "display_data",
          "data": {
            "text/plain": [
              "<Figure size 1000x1000 with 4 Axes>"
            ],
            "image/png": "[encoded data removed]"
          },
          "metadata": {}
        }
      ]
    },
    {
      "cell_type": "code",
      "source": [
        "plt.figure(figsize=(10, 10))\n",
        "plt.suptitle('Loss for optimizer - ADAM')\n",
        "\n",
        "plt.subplot(2,2,1)\n",
        "plt.plot(epochs, np.array([item.detach().item() for item in train_loss_adam_1]), color='green', label = 'training Loss')\n",
        "plt.plot(epochs, np.array([item.detach().item() for item in val_loss_adam_1]), color='violet', label = 'validation Loss')\n",
        "plt.title('Loss with Learning Rate of 0.01')\n",
        "plt.legend()\n",
        "\n",
        "plt.subplot(2,2,2)\n",
        "plt.plot(epochs, np.array([item.detach().item() for item in train_loss_adam_01]), color='green', label = 'training Loss')\n",
        "plt.plot(epochs, np.array([item.detach().item() for item in val_loss_adam_01]), color='violet', label = 'validation Loss')\n",
        "plt.title('Loss with Learning Rate of 0.002')\n",
        "plt.legend()\n",
        "\n",
        "plt.subplot(2,2,3)\n",
        "plt.plot(epochs, np.array([item.detach().item() for item in train_loss_adam_001]), color='green', label = 'training Loss')\n",
        "plt.plot(epochs, np.array([item.detach().item() for item in val_loss_adam_001]), color='violet', label = 'validation Loss')\n",
        "plt.title('Loss with Learning Rate of 0.003')\n",
        "plt.legend()\n",
        "\n",
        "plt.subplot(2,2,4)\n",
        "plt.plot(epochs, np.array([item.detach().item() for item in train_loss_adam_0001]), color='green', label = 'training Loss')\n",
        "plt.plot(epochs, np.array([item.detach().item() for item in val_loss_adam_0001]), color='violet', label = 'validation Loss')\n",
        "plt.title('Loss with Learning Rate of 0.0001')\n",
        "plt.legend()\n",
        "\n",
        "plt.show()\n"
      ],
      "metadata": {
        "id": "EkJ7MgW3W6Qe",
        "colab": {
          "base_uri": "https://localhost:8080/",
          "height": 930
        },
        "outputId": "311bf039-cb48-40a5-a277-cfa6937145e5"
      },
      "execution_count": 831,
      "outputs": [
        {
          "output_type": "display_data",
          "data": {
            "text/plain": [
              "<Figure size 1000x1000 with 4 Axes>"
            ],
            "image/png": "[encoded data removed]"
          },
          "metadata": {}
        }
      ]
    },
    {
      "cell_type": "code",
      "source": [
        "# problem 3"
      ],
      "metadata": {
        "id": "Jy-V5H1OW7Ek"
      },
      "execution_count": 832,
      "outputs": []
    },
    {
      "cell_type": "code",
      "source": [
        "# Use the URL for the raw CSV data\n",
        "\n",
        "df = pd.read_csv('/content/drive/MyDrive/Housing.csv')\n",
        "\n",
        "# Display the first 5 rows of the DataFrame\n",
        "df.head()"
      ],
      "metadata": {
        "id": "4-M7pIABW76Z",
        "colab": {
          "base_uri": "https://localhost:8080/",
          "height": 206
        },
        "outputId": "ebd12505-80cc-46c7-bfd4-ea33be2a985a"
      },
      "execution_count": 833,
      "outputs": [
        {
          "output_type": "execute_result",
          "data": {
            "text/plain": [
              "      price  area  bedrooms  bathrooms  stories mainroad guestroom basement  \\\n",
              "0  13300000  7420         4          2        3      yes        no       no   \n",
              "1  12250000  8960         4          4        4      yes        no       no   \n",
              "2  12250000  9960         3          2        2      yes        no      yes   \n",
              "3  12215000  7500         4          2        2      yes        no      yes   \n",
              "4  11410000  7420         4          1        2      yes       yes      yes   \n",
              "\n",
              "  hotwaterheating airconditioning  parking prefarea furnishingstatus  \n",
              "0              no             yes        2      yes        furnished  \n",
              "1              no             yes        3       no        furnished  \n",
              "2              no              no        2      yes   semi-furnished  \n",
              "3              no             yes        3      yes        furnished  \n",
              "4              no             yes        2       no        furnished  "
            ],
            "text/html": [
              "\n",
              "  <div id=\"df-ee078f8f-5b13-4ac0-94bf-bc0e8ea872b1\" class=\"colab-df-container\">\n",
              "    <div>\n",
              "<style scoped>\n",
              "    .dataframe tbody tr th:only-of-type {\n",
              "        vertical-align: middle;\n",
              "    }\n",
              "\n",
              "    .dataframe tbody tr th {\n",
              "        vertical-align: top;\n",
              "    }\n",
              "\n",
              "    .dataframe thead th {\n",
              "        text-align: right;\n",
              "    }\n",
              "</style>\n",
              "<table border=\"1\" class=\"dataframe\">\n",
              "  <thead>\n",
              "    <tr style=\"text-align: right;\">\n",
              "      <th></th>\n",
              "      <th>price</th>\n",
              "      <th>area</th>\n",
              "      <th>bedrooms</th>\n",
              "      <th>bathrooms</th>\n",
              "      <th>stories</th>\n",
              "      <th>mainroad</th>\n",
              "      <th>guestroom</th>\n",
              "      <th>basement</th>\n",
              "      <th>hotwaterheating</th>\n",
              "      <th>airconditioning</th>\n",
              "      <th>parking</th>\n",
              "      <th>prefarea</th>\n",
              "      <th>furnishingstatus</th>\n",
              "    </tr>\n",
              "  </thead>\n",
              "  <tbody>\n",
              "    <tr>\n",
              "      <th>0</th>\n",
              "      <td>13300000</td>\n",
              "      <td>7420</td>\n",
              "      <td>4</td>\n",
              "      <td>2</td>\n",
              "      <td>3</td>\n",
              "      <td>yes</td>\n",
              "      <td>no</td>\n",
              "      <td>no</td>\n",
              "      <td>no</td>\n",
              "      <td>yes</td>\n",
              "      <td>2</td>\n",
              "      <td>yes</td>\n",
              "      <td>furnished</td>\n",
              "    </tr>\n",
              "    <tr>\n",
              "      <th>1</th>\n",
              "      <td>12250000</td>\n",
              "      <td>8960</td>\n",
              "      <td>4</td>\n",
              "      <td>4</td>\n",
              "      <td>4</td>\n",
              "      <td>yes</td>\n",
              "      <td>no</td>\n",
              "      <td>no</td>\n",
              "      <td>no</td>\n",
              "      <td>yes</td>\n",
              "      <td>3</td>\n",
              "      <td>no</td>\n",
              "      <td>furnished</td>\n",
              "    </tr>\n",
              "    <tr>\n",
              "      <th>2</th>\n",
              "      <td>12250000</td>\n",
              "      <td>9960</td>\n",
              "      <td>3</td>\n",
              "      <td>2</td>\n",
              "      <td>2</td>\n",
              "      <td>yes</td>\n",
              "      <td>no</td>\n",
              "      <td>yes</td>\n",
              "      <td>no</td>\n",
              "      <td>no</td>\n",
              "      <td>2</td>\n",
              "      <td>yes</td>\n",
              "      <td>semi-furnished</td>\n",
              "    </tr>\n",
              "    <tr>\n",
              "      <th>3</th>\n",
              "      <td>12215000</td>\n",
              "      <td>7500</td>\n",
              "      <td>4</td>\n",
              "      <td>2</td>\n",
              "      <td>2</td>\n",
              "      <td>yes</td>\n",
              "      <td>no</td>\n",
              "      <td>yes</td>\n",
              "      <td>no</td>\n",
              "      <td>yes</td>\n",
              "      <td>3</td>\n",
              "      <td>yes</td>\n",
              "      <td>furnished</td>\n",
              "    </tr>\n",
              "    <tr>\n",
              "      <th>4</th>\n",
              "      <td>11410000</td>\n",
              "      <td>7420</td>\n",
              "      <td>4</td>\n",
              "      <td>1</td>\n",
              "      <td>2</td>\n",
              "      <td>yes</td>\n",
              "      <td>yes</td>\n",
              "      <td>yes</td>\n",
              "      <td>no</td>\n",
              "      <td>yes</td>\n",
              "      <td>2</td>\n",
              "      <td>no</td>\n",
              "      <td>furnished</td>\n",
              "    </tr>\n",
              "  </tbody>\n",
              "</table>\n",
              "</div>\n",
              "    <div class=\"colab-df-buttons\">\n",
              "\n",
              "  <div class=\"colab-df-container\">\n",
              "    <button class=\"colab-df-convert\" onclick=\"convertToInteractive('df-ee078f8f-5b13-4ac0-94bf-bc0e8ea872b1')\"\n",
              "            title=\"Convert this dataframe to an interactive table.\"\n",
              "            style=\"display:none;\">\n",
              "\n",
              "  <svg xmlns=\"http://www.w3.org/2000/svg\" height=\"24px\" viewBox=\"0 -960 960 960\">\n",
              "    <path d=\"M120-120v-720h720v720H120Zm60-500h600v-160H180v160Zm220 220h160v-160H400v160Zm0 220h160v-160H400v160ZM180-400h160v-160H180v160Zm440 0h160v-160H620v160ZM180-180h160v-160H180v160Zm440 0h160v-160H620v160Z\"/>\n",
              "  </svg>\n",
              "    </button>\n",
              "\n",
              "  <style>\n",
              "    .colab-df-container {\n",
              "      display:flex;\n",
              "      gap: 12px;\n",
              "    }\n",
              "\n",
              "    .colab-df-convert {\n",
              "      background-color: #E8F0FE;\n",
              "      border: none;\n",
              "      border-radius: 50%;\n",
              "      cursor: pointer;\n",
              "      display: none;\n",
              "      fill: #1967D2;\n",
              "      height: 32px;\n",
              "      padding: 0 0 0 0;\n",
              "      width: 32px;\n",
              "    }\n",
              "\n",
              "    .colab-df-convert:hover {\n",
              "      background-color: #E2EBFA;\n",
              "      box-shadow: 0px 1px 2px rgba(60, 64, 67, 0.3), 0px 1px 3px 1px rgba(60, 64, 67, 0.15);\n",
              "      fill: #174EA6;\n",
              "    }\n",
              "\n",
              "    .colab-df-buttons div {\n",
              "      margin-bottom: 4px;\n",
              "    }\n",
              "\n",
              "    [theme=dark] .colab-df-convert {\n",
              "      background-color: #3B4455;\n",
              "      fill: #D2E3FC;\n",
              "    }\n",
              "\n",
              "    [theme=dark] .colab-df-convert:hover {\n",
              "      background-color: #434B5C;\n",
              "      box-shadow: 0px 1px 3px 1px rgba(0, 0, 0, 0.15);\n",
              "      filter: drop-shadow(0px 1px 2px rgba(0, 0, 0, 0.3));\n",
              "      fill: #FFFFFF;\n",
              "    }\n",
              "  </style>\n",
              "\n",
              "    <script>\n",
              "      const buttonEl =\n",
              "        document.querySelector('#df-ee078f8f-5b13-4ac0-94bf-bc0e8ea872b1 button.colab-df-convert');\n",
              "      buttonEl.style.display =\n",
              "        google.colab.kernel.accessAllowed ? 'block' : 'none';\n",
              "\n",
              "      async function convertToInteractive(key) {\n",
              "        const element = document.querySelector('#df-ee078f8f-5b13-4ac0-94bf-bc0e8ea872b1');\n",
              "        const dataTable =\n",
              "          await google.colab.kernel.invokeFunction('convertToInteractive',\n",
              "                                                    [key], {});\n",
              "        if (!dataTable) return;\n",
              "\n",
              "        const docLinkHtml = 'Like what you see? Visit the ' +\n",
              "          '<a target=\"_blank\" href=https://colab.research.google.com/notebooks/data_table.ipynb>data table notebook</a>'\n",
              "          + ' to learn more about interactive tables.';\n",
              "        element.innerHTML = '';\n",
              "        dataTable['output_type'] = 'display_data';\n",
              "        await google.colab.output.renderOutput(dataTable, element);\n",
              "        const docLink = document.createElement('div');\n",
              "        docLink.innerHTML = docLinkHtml;\n",
              "        element.appendChild(docLink);\n",
              "      }\n",
              "    </script>\n",
              "  </div>\n",
              "\n",
              "\n",
              "<div id=\"df-6aff5912-4960-44b3-8585-2ab822b85729\">\n",
              "  <button class=\"colab-df-quickchart\" onclick=\"quickchart('df-6aff5912-4960-44b3-8585-2ab822b85729')\"\n",
              "            title=\"Suggest charts\"\n",
              "            style=\"display:none;\">\n",
              "\n",
              "<svg xmlns=\"http://www.w3.org/2000/svg\" height=\"24px\"viewBox=\"0 0 24 24\"\n",
              "     width=\"24px\">\n",
              "    <g>\n",
              "        <path d=\"M19 3H5c-1.1 0-2 .9-2 2v14c0 1.1.9 2 2 2h14c1.1 0 2-.9 2-2V5c0-1.1-.9-2-2-2zM9 17H7v-7h2v7zm4 0h-2V7h2v10zm4 0h-2v-4h2v4z\"/>\n",
              "    </g>\n",
              "</svg>\n",
              "  </button>\n",
              "\n",
              "<style>\n",
              "  .colab-df-quickchart {\n",
              "      --bg-color: #E8F0FE;\n",
              "      --fill-color: #1967D2;\n",
              "      --hover-bg-color: #E2EBFA;\n",
              "      --hover-fill-color: #174EA6;\n",
              "      --disabled-fill-color: #AAA;\n",
              "      --disabled-bg-color: #DDD;\n",
              "  }\n",
              "\n",
              "  [theme=dark] .colab-df-quickchart {\n",
              "      --bg-color: #3B4455;\n",
              "      --fill-color: #D2E3FC;\n",
              "      --hover-bg-color: #434B5C;\n",
              "      --hover-fill-color: #FFFFFF;\n",
              "      --disabled-bg-color: #3B4455;\n",
              "      --disabled-fill-color: #666;\n",
              "  }\n",
              "\n",
              "  .colab-df-quickchart {\n",
              "    background-color: var(--bg-color);\n",
              "    border: none;\n",
              "    border-radius: 50%;\n",
              "    cursor: pointer;\n",
              "    display: none;\n",
              "    fill: var(--fill-color);\n",
              "    height: 32px;\n",
              "    padding: 0;\n",
              "    width: 32px;\n",
              "  }\n",
              "\n",
              "  .colab-df-quickchart:hover {\n",
              "    background-color: var(--hover-bg-color);\n",
              "    box-shadow: 0 1px 2px rgba(60, 64, 67, 0.3), 0 1px 3px 1px rgba(60, 64, 67, 0.15);\n",
              "    fill: var(--button-hover-fill-color);\n",
              "  }\n",
              "\n",
              "  .colab-df-quickchart-complete:disabled,\n",
              "  .colab-df-quickchart-complete:disabled:hover {\n",
              "    background-color: var(--disabled-bg-color);\n",
              "    fill: var(--disabled-fill-color);\n",
              "    box-shadow: none;\n",
              "  }\n",
              "\n",
              "  .colab-df-spinner {\n",
              "    border: 2px solid var(--fill-color);\n",
              "    border-color: transparent;\n",
              "    border-bottom-color: var(--fill-color);\n",
              "    animation:\n",
              "      spin 1s steps(1) infinite;\n",
              "  }\n",
              "\n",
              "  @keyframes spin {\n",
              "    0% {\n",
              "      border-color: transparent;\n",
              "      border-bottom-color: var(--fill-color);\n",
              "      border-left-color: var(--fill-color);\n",
              "    }\n",
              "    20% {\n",
              "      border-color: transparent;\n",
              "      border-left-color: var(--fill-color);\n",
              "      border-top-color: var(--fill-color);\n",
              "    }\n",
              "    30% {\n",
              "      border-color: transparent;\n",
              "      border-left-color: var(--fill-color);\n",
              "      border-top-color: var(--fill-color);\n",
              "      border-right-color: var(--fill-color);\n",
              "    }\n",
              "    40% {\n",
              "      border-color: transparent;\n",
              "      border-right-color: var(--fill-color);\n",
              "      border-top-color: var(--fill-color);\n",
              "    }\n",
              "    60% {\n",
              "      border-color: transparent;\n",
              "      border-right-color: var(--fill-color);\n",
              "    }\n",
              "    80% {\n",
              "      border-color: transparent;\n",
              "      border-right-color: var(--fill-color);\n",
              "      border-bottom-color: var(--fill-color);\n",
              "    }\n",
              "    90% {\n",
              "      border-color: transparent;\n",
              "      border-bottom-color: var(--fill-color);\n",
              "    }\n",
              "  }\n",
              "</style>\n",
              "\n",
              "  <script>\n",
              "    async function quickchart(key) {\n",
              "      const quickchartButtonEl =\n",
              "        document.querySelector('#' + key + ' button');\n",
              "      quickchartButtonEl.disabled = true;  // To prevent multiple clicks.\n",
              "      quickchartButtonEl.classList.add('colab-df-spinner');\n",
              "      try {\n",
              "        const charts = await google.colab.kernel.invokeFunction(\n",
              "            'suggestCharts', [key], {});\n",
              "      } catch (error) {\n",
              "        console.error('Error during call to suggestCharts:', error);\n",
              "      }\n",
              "      quickchartButtonEl.classList.remove('colab-df-spinner');\n",
              "      quickchartButtonEl.classList.add('colab-df-quickchart-complete');\n",
              "    }\n",
              "    (() => {\n",
              "      let quickchartButtonEl =\n",
              "        document.querySelector('#df-6aff5912-4960-44b3-8585-2ab822b85729 button');\n",
              "      quickchartButtonEl.style.display =\n",
              "        google.colab.kernel.accessAllowed ? 'block' : 'none';\n",
              "    })();\n",
              "  </script>\n",
              "</div>\n",
              "    </div>\n",
              "  </div>\n"
            ]
          },
          "metadata": {},
          "execution_count": 833
        }
      ]
    },
    {
      "cell_type": "code",
      "source": [
        "df['furnishingstatus'].value_counts().unique"
      ],
      "metadata": {
        "id": "IwHVstrMW8nN",
        "colab": {
          "base_uri": "https://localhost:8080/"
        },
        "outputId": "40a6ab9a-8c0d-45dc-908e-4f9ccf595a26"
      },
      "execution_count": 834,
      "outputs": [
        {
          "output_type": "execute_result",
          "data": {
            "text/plain": [
              "<bound method Series.unique of semi-furnished    227\n",
              "unfurnished       178\n",
              "furnished         140\n",
              "Name: furnishingstatus, dtype: int64>"
            ]
          },
          "metadata": {},
          "execution_count": 834
        }
      ]
    },
    {
      "cell_type": "code",
      "source": [
        "df = pd.get_dummies(df, columns=['furnishingstatus'], drop_first=False)\n",
        "df = df.drop('furnishingstatus_semi-furnished', axis=1)"
      ],
      "metadata": {
        "id": "7yNBkblyW9JQ"
      },
      "execution_count": 835,
      "outputs": []
    },
    {
      "cell_type": "code",
      "source": [
        "df.head()"
      ],
      "metadata": {
        "id": "Rib1eFUbdb1S",
        "colab": {
          "base_uri": "https://localhost:8080/",
          "height": 206
        },
        "outputId": "29cd548f-551d-47aa-b054-008da0d7883e"
      },
      "execution_count": 836,
      "outputs": [
        {
          "output_type": "execute_result",
          "data": {
            "text/plain": [
              "      price  area  bedrooms  bathrooms  stories mainroad guestroom basement  \\\n",
              "0  13300000  7420         4          2        3      yes        no       no   \n",
              "1  12250000  8960         4          4        4      yes        no       no   \n",
              "2  12250000  9960         3          2        2      yes        no      yes   \n",
              "3  12215000  7500         4          2        2      yes        no      yes   \n",
              "4  11410000  7420         4          1        2      yes       yes      yes   \n",
              "\n",
              "  hotwaterheating airconditioning  parking prefarea  \\\n",
              "0              no             yes        2      yes   \n",
              "1              no             yes        3       no   \n",
              "2              no              no        2      yes   \n",
              "3              no             yes        3      yes   \n",
              "4              no             yes        2       no   \n",
              "\n",
              "   furnishingstatus_furnished  furnishingstatus_unfurnished  \n",
              "0                           1                             0  \n",
              "1                           1                             0  \n",
              "2                           0                             0  \n",
              "3                           1                             0  \n",
              "4                           1                             0  "
            ],
            "text/html": [
              "\n",
              "  <div id=\"df-89f13d8e-a7ae-40da-9f7f-9c1a34f4f23e\" class=\"colab-df-container\">\n",
              "    <div>\n",
              "<style scoped>\n",
              "    .dataframe tbody tr th:only-of-type {\n",
              "        vertical-align: middle;\n",
              "    }\n",
              "\n",
              "    .dataframe tbody tr th {\n",
              "        vertical-align: top;\n",
              "    }\n",
              "\n",
              "    .dataframe thead th {\n",
              "        text-align: right;\n",
              "    }\n",
              "</style>\n",
              "<table border=\"1\" class=\"dataframe\">\n",
              "  <thead>\n",
              "    <tr style=\"text-align: right;\">\n",
              "      <th></th>\n",
              "      <th>price</th>\n",
              "      <th>area</th>\n",
              "      <th>bedrooms</th>\n",
              "      <th>bathrooms</th>\n",
              "      <th>stories</th>\n",
              "      <th>mainroad</th>\n",
              "      <th>guestroom</th>\n",
              "      <th>basement</th>\n",
              "      <th>hotwaterheating</th>\n",
              "      <th>airconditioning</th>\n",
              "      <th>parking</th>\n",
              "      <th>prefarea</th>\n",
              "      <th>furnishingstatus_furnished</th>\n",
              "      <th>furnishingstatus_unfurnished</th>\n",
              "    </tr>\n",
              "  </thead>\n",
              "  <tbody>\n",
              "    <tr>\n",
              "      <th>0</th>\n",
              "      <td>13300000</td>\n",
              "      <td>7420</td>\n",
              "      <td>4</td>\n",
              "      <td>2</td>\n",
              "      <td>3</td>\n",
              "      <td>yes</td>\n",
              "      <td>no</td>\n",
              "      <td>no</td>\n",
              "      <td>no</td>\n",
              "      <td>yes</td>\n",
              "      <td>2</td>\n",
              "      <td>yes</td>\n",
              "      <td>1</td>\n",
              "      <td>0</td>\n",
              "    </tr>\n",
              "    <tr>\n",
              "      <th>1</th>\n",
              "      <td>12250000</td>\n",
              "      <td>8960</td>\n",
              "      <td>4</td>\n",
              "      <td>4</td>\n",
              "      <td>4</td>\n",
              "      <td>yes</td>\n",
              "      <td>no</td>\n",
              "      <td>no</td>\n",
              "      <td>no</td>\n",
              "      <td>yes</td>\n",
              "      <td>3</td>\n",
              "      <td>no</td>\n",
              "      <td>1</td>\n",
              "      <td>0</td>\n",
              "    </tr>\n",
              "    <tr>\n",
              "      <th>2</th>\n",
              "      <td>12250000</td>\n",
              "      <td>9960</td>\n",
              "      <td>3</td>\n",
              "      <td>2</td>\n",
              "      <td>2</td>\n",
              "      <td>yes</td>\n",
              "      <td>no</td>\n",
              "      <td>yes</td>\n",
              "      <td>no</td>\n",
              "      <td>no</td>\n",
              "      <td>2</td>\n",
              "      <td>yes</td>\n",
              "      <td>0</td>\n",
              "      <td>0</td>\n",
              "    </tr>\n",
              "    <tr>\n",
              "      <th>3</th>\n",
              "      <td>12215000</td>\n",
              "      <td>7500</td>\n",
              "      <td>4</td>\n",
              "      <td>2</td>\n",
              "      <td>2</td>\n",
              "      <td>yes</td>\n",
              "      <td>no</td>\n",
              "      <td>yes</td>\n",
              "      <td>no</td>\n",
              "      <td>yes</td>\n",
              "      <td>3</td>\n",
              "      <td>yes</td>\n",
              "      <td>1</td>\n",
              "      <td>0</td>\n",
              "    </tr>\n",
              "    <tr>\n",
              "      <th>4</th>\n",
              "      <td>11410000</td>\n",
              "      <td>7420</td>\n",
              "      <td>4</td>\n",
              "      <td>1</td>\n",
              "      <td>2</td>\n",
              "      <td>yes</td>\n",
              "      <td>yes</td>\n",
              "      <td>yes</td>\n",
              "      <td>no</td>\n",
              "      <td>yes</td>\n",
              "      <td>2</td>\n",
              "      <td>no</td>\n",
              "      <td>1</td>\n",
              "      <td>0</td>\n",
              "    </tr>\n",
              "  </tbody>\n",
              "</table>\n",
              "</div>\n",
              "    <div class=\"colab-df-buttons\">\n",
              "\n",
              "  <div class=\"colab-df-container\">\n",
              "    <button class=\"colab-df-convert\" onclick=\"convertToInteractive('df-89f13d8e-a7ae-40da-9f7f-9c1a34f4f23e')\"\n",
              "            title=\"Convert this dataframe to an interactive table.\"\n",
              "            style=\"display:none;\">\n",
              "\n",
              "  <svg xmlns=\"http://www.w3.org/2000/svg\" height=\"24px\" viewBox=\"0 -960 960 960\">\n",
              "    <path d=\"M120-120v-720h720v720H120Zm60-500h600v-160H180v160Zm220 220h160v-160H400v160Zm0 220h160v-160H400v160ZM180-400h160v-160H180v160Zm440 0h160v-160H620v160ZM180-180h160v-160H180v160Zm440 0h160v-160H620v160Z\"/>\n",
              "  </svg>\n",
              "    </button>\n",
              "\n",
              "  <style>\n",
              "    .colab-df-container {\n",
              "      display:flex;\n",
              "      gap: 12px;\n",
              "    }\n",
              "\n",
              "    .colab-df-convert {\n",
              "      background-color: #E8F0FE;\n",
              "      border: none;\n",
              "      border-radius: 50%;\n",
              "      cursor: pointer;\n",
              "      display: none;\n",
              "      fill: #1967D2;\n",
              "      height: 32px;\n",
              "      padding: 0 0 0 0;\n",
              "      width: 32px;\n",
              "    }\n",
              "\n",
              "    .colab-df-convert:hover {\n",
              "      background-color: #E2EBFA;\n",
              "      box-shadow: 0px 1px 2px rgba(60, 64, 67, 0.3), 0px 1px 3px 1px rgba(60, 64, 67, 0.15);\n",
              "      fill: #174EA6;\n",
              "    }\n",
              "\n",
              "    .colab-df-buttons div {\n",
              "      margin-bottom: 4px;\n",
              "    }\n",
              "\n",
              "    [theme=dark] .colab-df-convert {\n",
              "      background-color: #3B4455;\n",
              "      fill: #D2E3FC;\n",
              "    }\n",
              "\n",
              "    [theme=dark] .colab-df-convert:hover {\n",
              "      background-color: #434B5C;\n",
              "      box-shadow: 0px 1px 3px 1px rgba(0, 0, 0, 0.15);\n",
              "      filter: drop-shadow(0px 1px 2px rgba(0, 0, 0, 0.3));\n",
              "      fill: #FFFFFF;\n",
              "    }\n",
              "  </style>\n",
              "\n",
              "    <script>\n",
              "      const buttonEl =\n",
              "        document.querySelector('#df-89f13d8e-a7ae-40da-9f7f-9c1a34f4f23e button.colab-df-convert');\n",
              "      buttonEl.style.display =\n",
              "        google.colab.kernel.accessAllowed ? 'block' : 'none';\n",
              "\n",
              "      async function convertToInteractive(key) {\n",
              "        const element = document.querySelector('#df-89f13d8e-a7ae-40da-9f7f-9c1a34f4f23e');\n",
              "        const dataTable =\n",
              "          await google.colab.kernel.invokeFunction('convertToInteractive',\n",
              "                                                    [key], {});\n",
              "        if (!dataTable) return;\n",
              "\n",
              "        const docLinkHtml = 'Like what you see? Visit the ' +\n",
              "          '<a target=\"_blank\" href=https://colab.research.google.com/notebooks/data_table.ipynb>data table notebook</a>'\n",
              "          + ' to learn more about interactive tables.';\n",
              "        element.innerHTML = '';\n",
              "        dataTable['output_type'] = 'display_data';\n",
              "        await google.colab.output.renderOutput(dataTable, element);\n",
              "        const docLink = document.createElement('div');\n",
              "        docLink.innerHTML = docLinkHtml;\n",
              "        element.appendChild(docLink);\n",
              "      }\n",
              "    </script>\n",
              "  </div>\n",
              "\n",
              "\n",
              "<div id=\"df-3f823053-3a7f-4050-9e6b-751c3c4d8f41\">\n",
              "  <button class=\"colab-df-quickchart\" onclick=\"quickchart('df-3f823053-3a7f-4050-9e6b-751c3c4d8f41')\"\n",
              "            title=\"Suggest charts\"\n",
              "            style=\"display:none;\">\n",
              "\n",
              "<svg xmlns=\"http://www.w3.org/2000/svg\" height=\"24px\"viewBox=\"0 0 24 24\"\n",
              "     width=\"24px\">\n",
              "    <g>\n",
              "        <path d=\"M19 3H5c-1.1 0-2 .9-2 2v14c0 1.1.9 2 2 2h14c1.1 0 2-.9 2-2V5c0-1.1-.9-2-2-2zM9 17H7v-7h2v7zm4 0h-2V7h2v10zm4 0h-2v-4h2v4z\"/>\n",
              "    </g>\n",
              "</svg>\n",
              "  </button>\n",
              "\n",
              "<style>\n",
              "  .colab-df-quickchart {\n",
              "      --bg-color: #E8F0FE;\n",
              "      --fill-color: #1967D2;\n",
              "      --hover-bg-color: #E2EBFA;\n",
              "      --hover-fill-color: #174EA6;\n",
              "      --disabled-fill-color: #AAA;\n",
              "      --disabled-bg-color: #DDD;\n",
              "  }\n",
              "\n",
              "  [theme=dark] .colab-df-quickchart {\n",
              "      --bg-color: #3B4455;\n",
              "      --fill-color: #D2E3FC;\n",
              "      --hover-bg-color: #434B5C;\n",
              "      --hover-fill-color: #FFFFFF;\n",
              "      --disabled-bg-color: #3B4455;\n",
              "      --disabled-fill-color: #666;\n",
              "  }\n",
              "\n",
              "  .colab-df-quickchart {\n",
              "    background-color: var(--bg-color);\n",
              "    border: none;\n",
              "    border-radius: 50%;\n",
              "    cursor: pointer;\n",
              "    display: none;\n",
              "    fill: var(--fill-color);\n",
              "    height: 32px;\n",
              "    padding: 0;\n",
              "    width: 32px;\n",
              "  }\n",
              "\n",
              "  .colab-df-quickchart:hover {\n",
              "    background-color: var(--hover-bg-color);\n",
              "    box-shadow: 0 1px 2px rgba(60, 64, 67, 0.3), 0 1px 3px 1px rgba(60, 64, 67, 0.15);\n",
              "    fill: var(--button-hover-fill-color);\n",
              "  }\n",
              "\n",
              "  .colab-df-quickchart-complete:disabled,\n",
              "  .colab-df-quickchart-complete:disabled:hover {\n",
              "    background-color: var(--disabled-bg-color);\n",
              "    fill: var(--disabled-fill-color);\n",
              "    box-shadow: none;\n",
              "  }\n",
              "\n",
              "  .colab-df-spinner {\n",
              "    border: 2px solid var(--fill-color);\n",
              "    border-color: transparent;\n",
              "    border-bottom-color: var(--fill-color);\n",
              "    animation:\n",
              "      spin 1s steps(1) infinite;\n",
              "  }\n",
              "\n",
              "  @keyframes spin {\n",
              "    0% {\n",
              "      border-color: transparent;\n",
              "      border-bottom-color: var(--fill-color);\n",
              "      border-left-color: var(--fill-color);\n",
              "    }\n",
              "    20% {\n",
              "      border-color: transparent;\n",
              "      border-left-color: var(--fill-color);\n",
              "      border-top-color: var(--fill-color);\n",
              "    }\n",
              "    30% {\n",
              "      border-color: transparent;\n",
              "      border-left-color: var(--fill-color);\n",
              "      border-top-color: var(--fill-color);\n",
              "      border-right-color: var(--fill-color);\n",
              "    }\n",
              "    40% {\n",
              "      border-color: transparent;\n",
              "      border-right-color: var(--fill-color);\n",
              "      border-top-color: var(--fill-color);\n",
              "    }\n",
              "    60% {\n",
              "      border-color: transparent;\n",
              "      border-right-color: var(--fill-color);\n",
              "    }\n",
              "    80% {\n",
              "      border-color: transparent;\n",
              "      border-right-color: var(--fill-color);\n",
              "      border-bottom-color: var(--fill-color);\n",
              "    }\n",
              "    90% {\n",
              "      border-color: transparent;\n",
              "      border-bottom-color: var(--fill-color);\n",
              "    }\n",
              "  }\n",
              "</style>\n",
              "\n",
              "  <script>\n",
              "    async function quickchart(key) {\n",
              "      const quickchartButtonEl =\n",
              "        document.querySelector('#' + key + ' button');\n",
              "      quickchartButtonEl.disabled = true;  // To prevent multiple clicks.\n",
              "      quickchartButtonEl.classList.add('colab-df-spinner');\n",
              "      try {\n",
              "        const charts = await google.colab.kernel.invokeFunction(\n",
              "            'suggestCharts', [key], {});\n",
              "      } catch (error) {\n",
              "        console.error('Error during call to suggestCharts:', error);\n",
              "      }\n",
              "      quickchartButtonEl.classList.remove('colab-df-spinner');\n",
              "      quickchartButtonEl.classList.add('colab-df-quickchart-complete');\n",
              "    }\n",
              "    (() => {\n",
              "      let quickchartButtonEl =\n",
              "        document.querySelector('#df-3f823053-3a7f-4050-9e6b-751c3c4d8f41 button');\n",
              "      quickchartButtonEl.style.display =\n",
              "        google.colab.kernel.accessAllowed ? 'block' : 'none';\n",
              "    })();\n",
              "  </script>\n",
              "</div>\n",
              "    </div>\n",
              "  </div>\n"
            ]
          },
          "metadata": {},
          "execution_count": 836
        }
      ]
    },
    {
      "cell_type": "code",
      "source": [
        "binary_columns = df.select_dtypes(include=['object']).columns\n",
        "binary_columns\n"
      ],
      "metadata": {
        "id": "oaaXOKF0dbx7",
        "colab": {
          "base_uri": "https://localhost:8080/"
        },
        "outputId": "8b26dd76-1c6c-41b8-a14e-69d8f8b3ba9f"
      },
      "execution_count": 837,
      "outputs": [
        {
          "output_type": "execute_result",
          "data": {
            "text/plain": [
              "Index(['mainroad', 'guestroom', 'basement', 'hotwaterheating',\n",
              "       'airconditioning', 'prefarea'],\n",
              "      dtype='object')"
            ]
          },
          "metadata": {},
          "execution_count": 837
        }
      ]
    },
    {
      "cell_type": "code",
      "source": [
        "df[binary_columns] = df[binary_columns].apply(lambda x: x.map({'yes': 1, 'no': 0}))"
      ],
      "metadata": {
        "id": "zpdnL6Kldbu1"
      },
      "execution_count": 838,
      "outputs": []
    },
    {
      "cell_type": "code",
      "source": [
        "df.info()"
      ],
      "metadata": {
        "id": "Gr1kjKkzdbrd",
        "colab": {
          "base_uri": "https://localhost:8080/"
        },
        "outputId": "db4783f7-dc11-44fa-8281-fd0d3a4155d2"
      },
      "execution_count": 839,
      "outputs": [
        {
          "output_type": "stream",
          "name": "stdout",
          "text": [
            "<class 'pandas.core.frame.DataFrame'>\n",
            "RangeIndex: 545 entries, 0 to 544\n",
            "Data columns (total 14 columns):\n",
            " #   Column                        Non-Null Count  Dtype\n",
            "---  ------                        --------------  -----\n",
            " 0   price                         545 non-null    int64\n",
            " 1   area                          545 non-null    int64\n",
            " 2   bedrooms                      545 non-null    int64\n",
            " 3   bathrooms                     545 non-null    int64\n",
            " 4   stories                       545 non-null    int64\n",
            " 5   mainroad                      545 non-null    int64\n",
            " 6   guestroom                     545 non-null    int64\n",
            " 7   basement                      545 non-null    int64\n",
            " 8   hotwaterheating               545 non-null    int64\n",
            " 9   airconditioning               545 non-null    int64\n",
            " 10  parking                       545 non-null    int64\n",
            " 11  prefarea                      545 non-null    int64\n",
            " 12  furnishingstatus_furnished    545 non-null    uint8\n",
            " 13  furnishingstatus_unfurnished  545 non-null    uint8\n",
            "dtypes: int64(12), uint8(2)\n",
            "memory usage: 52.3 KB\n"
          ]
        }
      ]
    },
    {
      "cell_type": "code",
      "source": [
        "scaler_x = MinMaxScaler()\n",
        "scaler_y = MinMaxScaler()"
      ],
      "metadata": {
        "id": "RdZgIP0KdboZ"
      },
      "execution_count": 840,
      "outputs": []
    },
    {
      "cell_type": "code",
      "source": [
        "X = df.drop('price', axis = 1)\n",
        "y = df[['price']]"
      ],
      "metadata": {
        "id": "5RcLvcj1dblQ"
      },
      "execution_count": 841,
      "outputs": []
    },
    {
      "cell_type": "code",
      "source": [
        "X = pd.DataFrame(scaler_x.fit_transform(X), columns=X.columns, index=X.index).values\n",
        "y = pd.DataFrame(scaler_y.fit_transform(y), columns=y.columns, index=y.index).values"
      ],
      "metadata": {
        "id": "6dklYtPddbh_"
      },
      "execution_count": 842,
      "outputs": []
    },
    {
      "cell_type": "code",
      "source": [
        "weights_adam_1, bias_adam_1, train_loss_adam_1, val_loss_adam_1 = model_training(X, y, epochs = 5000, optimizer = 'ADAM', learning_rate = 0.01)\n"
      ],
      "metadata": {
        "id": "hLbJ-jS6dbet",
        "colab": {
          "base_uri": "https://localhost:8080/"
        },
        "outputId": "8ad02df2-230b-439b-964a-3d93e41f1576"
      },
      "execution_count": 843,
      "outputs": [
        {
          "output_type": "stream",
          "name": "stdout",
          "text": [
            "Epoch 500, Training loss 0.0231, Validation loss 0.0386\n",
            "Epoch 1000, Training loss 0.0231, Validation loss 0.0386\n",
            "Epoch 1500, Training loss 0.0231, Validation loss 0.0386\n",
            "Epoch 2000, Training loss 0.0231, Validation loss 0.0386\n",
            "Epoch 2500, Training loss 0.0231, Validation loss 0.0386\n",
            "Epoch 3000, Training loss 0.0231, Validation loss 0.0386\n",
            "Epoch 3500, Training loss 0.0231, Validation loss 0.0386\n",
            "Epoch 4000, Training loss 0.0231, Validation loss 0.0386\n",
            "Epoch 4500, Training loss 0.0231, Validation loss 0.0386\n",
            "Epoch 5000, Training loss 0.0231, Validation loss 0.0386\n"
          ]
        }
      ]
    },
    {
      "cell_type": "code",
      "source": [
        "weights_adam_1, bias_adam_1"
      ],
      "metadata": {
        "id": "E2gxrrYWdbbG",
        "colab": {
          "base_uri": "https://localhost:8080/"
        },
        "outputId": "42952023-f671-4c01-9a28-4de55d53b35a"
      },
      "execution_count": 844,
      "outputs": [
        {
          "output_type": "execute_result",
          "data": {
            "text/plain": [
              "(tensor([ 5.4853e-09,  2.0843e-08, -4.5936e-09, -6.5771e-10,  7.4842e-09,\n",
              "         -3.9867e-10,  1.4340e-09,  1.3484e-09, -2.6016e-10, -1.4452e-10,\n",
              "         -9.6614e-10,  1.5285e-09,  3.6333e-09], requires_grad=True),\n",
              " tensor([0.2560], requires_grad=True))"
            ]
          },
          "metadata": {},
          "execution_count": 844
        }
      ]
    },
    {
      "cell_type": "code",
      "source": [
        "weights_adam_01, bias_adam_01, train_loss_adam_01, val_loss_adam_01 = model_training(X, y, epochs = 5000, optimizer = 'ADAM', learning_rate = 0.002)\n"
      ],
      "metadata": {
        "id": "tYusJUhedbQd",
        "colab": {
          "base_uri": "https://localhost:8080/"
        },
        "outputId": "849a5416-6bde-4464-c5c4-1cc927c29962"
      },
      "execution_count": 845,
      "outputs": [
        {
          "output_type": "stream",
          "name": "stdout",
          "text": [
            "Epoch 500, Training loss 0.0605, Validation loss 0.0784\n",
            "Epoch 1000, Training loss 0.0353, Validation loss 0.0518\n",
            "Epoch 1500, Training loss 0.0273, Validation loss 0.0433\n",
            "Epoch 2000, Training loss 0.0244, Validation loss 0.0401\n",
            "Epoch 2500, Training loss 0.0234, Validation loss 0.0390\n",
            "Epoch 3000, Training loss 0.0232, Validation loss 0.0387\n",
            "Epoch 3500, Training loss 0.0231, Validation loss 0.0386\n",
            "Epoch 4000, Training loss 0.0231, Validation loss 0.0386\n",
            "Epoch 4500, Training loss 0.0231, Validation loss 0.0386\n",
            "Epoch 5000, Training loss 0.0231, Validation loss 0.0386\n"
          ]
        }
      ]
    },
    {
      "cell_type": "code",
      "source": [
        "weights_adam_01, bias_adam_01"
      ],
      "metadata": {
        "id": "UQ6JCPJVdbE-",
        "colab": {
          "base_uri": "https://localhost:8080/"
        },
        "outputId": "3b502b8c-0e88-4507-fff5-3dfb7bdc3f48"
      },
      "execution_count": 846,
      "outputs": [
        {
          "output_type": "execute_result",
          "data": {
            "text/plain": [
              "(tensor([-2.0866e-07,  4.0596e-05, -1.0004e-05, -6.8162e-06,  6.8431e-06,\n",
              "          1.9621e-07, -6.6898e-07,  8.3814e-07, -1.6544e-08, -1.2367e-06,\n",
              "         -1.3017e-06,  1.0794e-06,  2.2106e-06], requires_grad=True),\n",
              " tensor([0.2560], requires_grad=True))"
            ]
          },
          "metadata": {},
          "execution_count": 846
        }
      ]
    },
    {
      "cell_type": "code",
      "source": [
        "weights_adam_001, bias_adam_001, train_loss_adam_001, val_loss_adam_001 = model_training(X, y, epochs = 5000, optimizer = 'ADAM', learning_rate = 0.003)\n"
      ],
      "metadata": {
        "id": "LVdn3LSida4X",
        "colab": {
          "base_uri": "https://localhost:8080/"
        },
        "outputId": "ec671912-e938-47d4-9515-eda5144ab0e8"
      },
      "execution_count": 847,
      "outputs": [
        {
          "output_type": "stream",
          "name": "stdout",
          "text": [
            "Epoch 500, Training loss 3.1856, Validation loss 3.1219\n",
            "Epoch 1000, Training loss 0.4633, Validation loss 0.4578\n",
            "Epoch 1500, Training loss 0.1503, Validation loss 0.1660\n",
            "Epoch 2000, Training loss 0.1138, Validation loss 0.1334\n",
            "Epoch 2500, Training loss 0.0929, Validation loss 0.1122\n",
            "Epoch 3000, Training loss 0.0768, Validation loss 0.0955\n",
            "Epoch 3500, Training loss 0.0642, Validation loss 0.0824\n",
            "Epoch 4000, Training loss 0.0545, Validation loss 0.0721\n",
            "Epoch 4500, Training loss 0.0469, Validation loss 0.0641\n",
            "Epoch 5000, Training loss 0.0408, Validation loss 0.0577\n"
          ]
        }
      ]
    },
    {
      "cell_type": "code",
      "source": [
        "weights_adam_001, bias_adam_001"
      ],
      "metadata": {
        "id": "Pb_VuETkeCps"
      },
      "execution_count": null,
      "outputs": []
    },
    {
      "cell_type": "code",
      "source": [
        "weights_adam_0001, bias_adam_0001, train_loss_adam_0001, val_loss_adam_0001 = model_training(X, y, epochs = 5000, optimizer = 'ADAM', learning_rate = 0.0001)\n"
      ],
      "metadata": {
        "id": "wigqHO9HeCmY"
      },
      "execution_count": null,
      "outputs": []
    },
    {
      "cell_type": "code",
      "source": [
        "weights_adam_0001, bias_adam_0001"
      ],
      "metadata": {
        "id": "nVzUmNZpeCjJ",
        "colab": {
          "base_uri": "https://localhost:8080/"
        },
        "outputId": "dbeb0446-7576-43e2-d16e-fb7797496fbe"
      },
      "execution_count": 848,
      "outputs": [
        {
          "output_type": "execute_result",
          "data": {
            "text/plain": [
              "(tensor([0.6064, 0.6119, 0.5784, 0.5884, 0.5866], requires_grad=True),\n",
              " tensor([-0.3670], requires_grad=True))"
            ]
          },
          "metadata": {},
          "execution_count": 848
        }
      ]
    },
    {
      "cell_type": "code",
      "source": [
        "weights_sgd_1, bias_sgd_1, train_loss_sgd_1, val_loss_sgd_1 = model_training(X, y, epochs = 5000, optimizer = 'SGD', learning_rate = 0.01)\n"
      ],
      "metadata": {
        "id": "byET6iDSeCgH"
      },
      "execution_count": null,
      "outputs": []
    },
    {
      "cell_type": "code",
      "source": [
        "weights_sgd_1, bias_sgd_1"
      ],
      "metadata": {
        "id": "604ZeHO3eCc-"
      },
      "execution_count": null,
      "outputs": []
    },
    {
      "cell_type": "code",
      "source": [
        "weights_sgd_01, bias_sgd_01, train_loss_sgd_01, val_loss_sgd_01 = model_training(X, y, epochs = 5000, optimizer = 'SGD', learning_rate = 0.002)\n"
      ],
      "metadata": {
        "id": "Xv2Hy40NeCZ0",
        "colab": {
          "base_uri": "https://localhost:8080/"
        },
        "outputId": "de00fe1b-996a-4788-8243-08d4d6d961b9"
      },
      "execution_count": 849,
      "outputs": [
        {
          "output_type": "stream",
          "name": "stdout",
          "text": [
            "Epoch 500, Training loss 0.1272, Validation loss 0.1449\n",
            "Epoch 1000, Training loss 0.0591, Validation loss 0.0757\n",
            "Epoch 1500, Training loss 0.0386, Validation loss 0.0547\n",
            "Epoch 2000, Training loss 0.0308, Validation loss 0.0467\n",
            "Epoch 2500, Training loss 0.0274, Validation loss 0.0431\n",
            "Epoch 3000, Training loss 0.0257, Validation loss 0.0413\n",
            "Epoch 3500, Training loss 0.0247, Validation loss 0.0403\n",
            "Epoch 4000, Training loss 0.0242, Validation loss 0.0397\n",
            "Epoch 4500, Training loss 0.0238, Validation loss 0.0394\n",
            "Epoch 5000, Training loss 0.0236, Validation loss 0.0391\n"
          ]
        }
      ]
    },
    {
      "cell_type": "code",
      "source": [
        "weights_sgd_01, bias_sgd_01"
      ],
      "metadata": {
        "id": "bIYPcR10eCWv"
      },
      "execution_count": null,
      "outputs": []
    },
    {
      "cell_type": "code",
      "source": [
        "weights_sgd_001, bias_sgd_001, train_loss_sgd_001, val_loss_sgd_001 = model_training(X, y, epochs = 5000, optimizer = 'SGD', learning_rate = 0.003)\n"
      ],
      "metadata": {
        "id": "gGwIqwMYeCTg"
      },
      "execution_count": null,
      "outputs": []
    },
    {
      "cell_type": "code",
      "source": [
        "weights_sgd_001, bias_sgd_001"
      ],
      "metadata": {
        "id": "VhAi0pIpeCQl"
      },
      "execution_count": null,
      "outputs": []
    },
    {
      "cell_type": "code",
      "source": [
        "weights_sgd_0001, bias_sgd_0001, train_loss_sgd_0001, val_loss_sgd_0001 = model_training(X, y, epochs = 5000, optimizer = 'SGD', learning_rate = 0.0001)\n"
      ],
      "metadata": {
        "id": "v_dwZaYHeCNi"
      },
      "execution_count": null,
      "outputs": []
    },
    {
      "cell_type": "code",
      "source": [
        "weights_sgd_0001, bias_sgd_0001"
      ],
      "metadata": {
        "id": "vaTguG_2eCKc",
        "colab": {
          "base_uri": "https://localhost:8080/"
        },
        "outputId": "8f1754a7-8753-4cd4-e229-c4b1de5246a6"
      },
      "execution_count": 850,
      "outputs": [
        {
          "output_type": "execute_result",
          "data": {
            "text/plain": [
              "(tensor([0.8369, 0.7544, 0.8998, 0.7654, 0.7854], requires_grad=True),\n",
              " tensor([-0.4963], requires_grad=True))"
            ]
          },
          "metadata": {},
          "execution_count": 850
        }
      ]
    },
    {
      "cell_type": "code",
      "source": [],
      "metadata": {
        "id": "OIqC4ZU_eCHd"
      },
      "execution_count": 850,
      "outputs": []
    },
    {
      "cell_type": "code",
      "source": [
        "\n",
        "plt.figure(figsize=(10, 10))\n",
        "plt.suptitle('Loss for optimizer for all inputs - ADAM')\n",
        "\n",
        "plt.subplot(2,2,1)\n",
        "plt.plot(epochs, np.array([item.detach().item() for item in train_loss_adam_1]), color='blue', label= 'training loss')\n",
        "plt.plot(epochs, np.array([item.detach().item() for item in val_loss_adam_1]), color='red', label= 'validation loss')\n",
        "plt.title('Loss with Learning Rate of 0.01')\n",
        "plt.legend()\n",
        "\n",
        "plt.subplot(2,2,2)\n",
        "plt.plot(epochs, np.array([item.detach().item() for item in train_loss_adam_01]), color='blue', label= 'training loss')\n",
        "plt.plot(epochs, np.array([item.detach().item() for item in val_loss_adam_01]), color='red', label= 'validation loss')\n",
        "plt.title('Loss with Learning Rate of 0.002')\n",
        "plt.legend()\n",
        "\n",
        "plt.subplot(2,2,3)\n",
        "plt.plot(epochs, np.array([item.detach().item() for item in train_loss_adam_001]), color='blue', label= 'training loss')\n",
        "plt.plot(epochs, np.array([item.detach().item() for item in val_loss_adam_001]), color='red', label= 'validation loss')\n",
        "plt.title('Loss with Learning Rate of 0.003')\n",
        "plt.legend()\n",
        "\n",
        "plt.subplot(2,2,4)\n",
        "plt.plot(epochs, np.array([item.detach().item() for item in train_loss_adam_0001]), color='blue', label= 'training loss')\n",
        "plt.plot(epochs, np.array([item.detach().item() for item in val_loss_adam_0001]), color='red', label= 'validation loss')\n",
        "plt.title('Loss with Learning Rate of 0.0001')\n",
        "plt.legend()\n",
        "\n",
        "plt.show()"
      ],
      "metadata": {
        "id": "zt62fFvqeCET"
      },
      "execution_count": null,
      "outputs": []
    },
    {
      "cell_type": "code",
      "source": [
        "plt.suptitle('Loss for optimizer for all inputs- SGD')\n",
        "\n",
        "plt.subplot(2,2,1)\n",
        "plt.plot(epochs, np.array([item.detach().item() for item in train_loss_sgd_1]), color='green', label= 'training loss')\n",
        "plt.plot(epochs, np.array([item.detach().item() for item in val_loss_sgd_1]), color='violet', label = 'validation loss')\n",
        "plt.title('Loss with Learning Rate of 0.01')\n",
        "plt.legend()\n",
        "\n",
        "plt.subplot(2,2,2)\n",
        "plt.plot(epochs, np.array([item.detach().item() for item in train_loss_sgd_01]), color='green', label= 'training loss')\n",
        "plt.plot(epochs, np.array([item.detach().item() for item in val_loss_sgd_01]), color='violet', label = 'validation loss')\n",
        "plt.title('Loss with Learning Rate of 0.002')\n",
        "plt.legend()\n",
        "\n",
        "plt.subplot(2,2,3)\n",
        "plt.plot(epochs, np.array([item.detach().item() for item in train_loss_sgd_001]), color='green', label= 'training loss')\n",
        "plt.plot(epochs, np.array([item.detach().item() for item in val_loss_sgd_001]), color='violet', label = 'validation loss')\n",
        "plt.title('Loss with Learning Rate of 0.003')\n",
        "plt.legend()\n",
        "\n",
        "plt.subplot(2,2,4)\n",
        "plt.plot(epochs, np.array([item.detach().item() for item in train_loss_sgd_0001]), color='green', label= 'training loss')\n",
        "plt.plot(epochs, np.array([item.detach().item() for item in val_loss_sgd_0001]), color='violet', label = 'validation loss')\n",
        "plt.title('Loss with Learning Rate of 0.0001')\n",
        "plt.legend()\n",
        "\n",
        "plt.show()\n"
      ],
      "metadata": {
        "id": "ab0ee2wYeCBD"
      },
      "execution_count": null,
      "outputs": []
    },
    {
      "cell_type": "code",
      "source": [],
      "metadata": {
        "id": "rK4Gw_xAeB-B"
      },
      "execution_count": 850,
      "outputs": []
    },
    {
      "cell_type": "code",
      "source": [],
      "metadata": {
        "id": "GWdssw40eB7G"
      },
      "execution_count": null,
      "outputs": []
    },
    {
      "cell_type": "code",
      "source": [],
      "metadata": {
        "id": "hSr-vU1EeB4O"
      },
      "execution_count": null,
      "outputs": []
    },
    {
      "cell_type": "code",
      "source": [
        "weights_sgd_01, bias_sgd_01"
      ],
      "metadata": {
        "id": "Gt5KignZeB0s",
        "colab": {
          "base_uri": "https://localhost:8080/"
        },
        "outputId": "3b3c11c3-0d5b-4acb-9012-81ebcf937ff7"
      },
      "execution_count": 851,
      "outputs": [
        {
          "output_type": "execute_result",
          "data": {
            "text/plain": [
              "(tensor([ 0.0908,  0.1152,  0.0146, -0.0318,  0.0100, -0.0054, -0.0024,  0.0098,\n",
              "         -0.0027, -0.0278, -0.0067,  0.0036,  0.0068], requires_grad=True),\n",
              " tensor([0.1933], requires_grad=True))"
            ]
          },
          "metadata": {},
          "execution_count": 851
        }
      ]
    },
    {
      "cell_type": "code",
      "source": [
        "weights_adam_0001, bias_adam_0001, train_loss_adam_0001, val_loss_adam_0001 = model_training(X, y, epochs = 5000, optimizer = 'ADAM', learning_rate = 0.0001)\n"
      ],
      "metadata": {
        "id": "BHOWkyCpeBxf",
        "colab": {
          "base_uri": "https://localhost:8080/"
        },
        "outputId": "2d7dcaf2-d841-4b2c-dd3c-d907d6dcb610"
      },
      "execution_count": 852,
      "outputs": [
        {
          "output_type": "stream",
          "name": "stdout",
          "text": [
            "Epoch 500, Training loss 13.0457, Validation loss 12.8904\n",
            "Epoch 1000, Training loss 11.3789, Validation loss 11.2355\n",
            "Epoch 1500, Training loss 9.8671, Validation loss 9.7352\n",
            "Epoch 2000, Training loss 8.4970, Validation loss 8.3764\n",
            "Epoch 2500, Training loss 7.2580, Validation loss 7.1485\n",
            "Epoch 3000, Training loss 6.1414, Validation loss 6.0428\n",
            "Epoch 3500, Training loss 5.1404, Validation loss 5.0523\n",
            "Epoch 4000, Training loss 4.2489, Validation loss 4.1712\n",
            "Epoch 4500, Training loss 3.4619, Validation loss 3.3943\n",
            "Epoch 5000, Training loss 2.7748, Validation loss 2.7171\n"
          ]
        }
      ]
    },
    {
      "cell_type": "code",
      "source": [
        "weights_sgd_1, bias_sgd_1, train_loss_sgd_1, val_loss_sgd_1 = model_training(X, y, epochs = 5000, optimizer = 'SGD', learning_rate = 0.01)"
      ],
      "metadata": {
        "id": "OU0pMxLoeBt6",
        "colab": {
          "base_uri": "https://localhost:8080/"
        },
        "outputId": "b2c50dc3-ed93-4982-99d4-5941f07b6f33"
      },
      "execution_count": 853,
      "outputs": [
        {
          "output_type": "stream",
          "name": "stdout",
          "text": [
            "Epoch 500, Training loss 0.1272, Validation loss 0.1449\n",
            "Epoch 1000, Training loss 0.0591, Validation loss 0.0757\n",
            "Epoch 1500, Training loss 0.0386, Validation loss 0.0547\n",
            "Epoch 2000, Training loss 0.0308, Validation loss 0.0467\n",
            "Epoch 2500, Training loss 0.0274, Validation loss 0.0431\n",
            "Epoch 3000, Training loss 0.0257, Validation loss 0.0413\n",
            "Epoch 3500, Training loss 0.0247, Validation loss 0.0403\n",
            "Epoch 4000, Training loss 0.0242, Validation loss 0.0397\n",
            "Epoch 4500, Training loss 0.0238, Validation loss 0.0394\n",
            "Epoch 5000, Training loss 0.0236, Validation loss 0.0391\n"
          ]
        }
      ]
    },
    {
      "cell_type": "code",
      "source": [
        "weights_sgd_1, bias_sgd_1, train_loss_sgd_1, val_loss_sgd_1 = model_training(X, y, epochs = 5000, optimizer = 'SGD', learning_rate = 0.003)"
      ],
      "metadata": {
        "id": "c6JyVnrzeBqb",
        "colab": {
          "base_uri": "https://localhost:8080/"
        },
        "outputId": "312f2e5d-f2df-4dc2-c638-48bb2634d119"
      },
      "execution_count": 854,
      "outputs": [
        {
          "output_type": "stream",
          "name": "stdout",
          "text": [
            "Epoch 500, Training loss 0.3472, Validation loss 0.3674\n",
            "Epoch 1000, Training loss 0.2058, Validation loss 0.2244\n",
            "Epoch 1500, Training loss 0.1413, Validation loss 0.1592\n",
            "Epoch 2000, Training loss 0.1050, Validation loss 0.1223\n",
            "Epoch 2500, Training loss 0.0820, Validation loss 0.0990\n",
            "Epoch 3000, Training loss 0.0666, Validation loss 0.0833\n",
            "Epoch 3500, Training loss 0.0559, Validation loss 0.0724\n",
            "Epoch 4000, Training loss 0.0483, Validation loss 0.0646\n",
            "Epoch 4500, Training loss 0.0427, Validation loss 0.0589\n",
            "Epoch 5000, Training loss 0.0386, Validation loss 0.0547\n"
          ]
        }
      ]
    },
    {
      "cell_type": "code",
      "source": [
        "weights_sgd_1, bias_sgd_1, train_loss_sgd_1, val_loss_sgd_1 = model_training(X, y, epochs = 5000, optimizer = 'SGD', learning_rate = 0.0001)"
      ],
      "metadata": {
        "colab": {
          "base_uri": "https://localhost:8080/"
        },
        "id": "_bi_lBnYyrwV",
        "outputId": "346fc073-8d8b-4838-be9c-f0a368b38e9b"
      },
      "execution_count": 855,
      "outputs": [
        {
          "output_type": "stream",
          "name": "stdout",
          "text": [
            "Epoch 500, Training loss 9.0245, Validation loss 8.9016\n",
            "Epoch 1000, Training loss 5.5765, Validation loss 5.4878\n",
            "Epoch 1500, Training loss 3.5477, Validation loss 3.4850\n",
            "Epoch 2000, Training loss 2.3504, Validation loss 2.3077\n",
            "Epoch 2500, Training loss 1.6407, Validation loss 1.6132\n",
            "Epoch 3000, Training loss 1.2170, Validation loss 1.2012\n",
            "Epoch 3500, Training loss 0.9612, Validation loss 0.9542\n",
            "Epoch 4000, Training loss 0.8040, Validation loss 0.8038\n",
            "Epoch 4500, Training loss 0.7050, Validation loss 0.7099\n",
            "Epoch 5000, Training loss 0.6403, Validation loss 0.6491\n"
          ]
        }
      ]
    },
    {
      "cell_type": "code",
      "source": [
        "\n",
        "plt.figure(figsize=(10, 10))\n",
        "plt.suptitle('Loss for optimizer for all inputs - ADAM')\n",
        "\n",
        "plt.subplot(2,2,1)\n",
        "plt.plot(epochs, np.array([item.detach().item() for item in train_loss_adam_1]), color='blue', label= 'training loss')\n",
        "plt.plot(epochs, np.array([item.detach().item() for item in val_loss_adam_1]), color='red', label= 'validation loss')\n",
        "plt.title('Loss with Learning Rate of 0.01')\n",
        "plt.legend()\n",
        "\n",
        "plt.subplot(2,2,2)\n",
        "plt.plot(epochs, np.array([item.detach().item() for item in train_loss_adam_01]), color='blue', label= 'training loss')\n",
        "plt.plot(epochs, np.array([item.detach().item() for item in val_loss_adam_01]), color='red', label= 'validation loss')\n",
        "plt.title('Loss with Learning Rate of 0.002')\n",
        "plt.legend()\n",
        "\n",
        "plt.subplot(2,2,3)\n",
        "plt.plot(epochs, np.array([item.detach().item() for item in train_loss_adam_001]), color='blue', label= 'training loss')\n",
        "plt.plot(epochs, np.array([item.detach().item() for item in val_loss_adam_001]), color='red', label= 'validation loss')\n",
        "plt.title('Loss with Learning Rate of 0.003')\n",
        "plt.legend()\n",
        "\n",
        "plt.subplot(2,2,4)\n",
        "plt.plot(epochs, np.array([item.detach().item() for item in train_loss_adam_0001]), color='blue', label= 'training loss')\n",
        "plt.plot(epochs, np.array([item.detach().item() for item in val_loss_adam_0001]), color='red', label= 'validation loss')\n",
        "plt.title('Loss with Learning Rate of 0.0001')\n",
        "plt.legend()\n",
        "\n",
        "plt.show()"
      ],
      "metadata": {
        "colab": {
          "base_uri": "https://localhost:8080/",
          "height": 930
        },
        "id": "64e4uVFyyxg-",
        "outputId": "bb889d40-a020-41b7-f0ac-cff20542e7da"
      },
      "execution_count": 856,
      "outputs": [
        {
          "output_type": "display_data",
          "data": {
            "text/plain": [
              "<Figure size 1000x1000 with 4 Axes>"
            ],
            "image/png": "[encoded data removed]"
          },
          "metadata": {}
        }
      ]
    },
    {
      "cell_type": "code",
      "source": [
        "plt.suptitle('Loss for optimizer for all inputs- SGD')\n",
        "\n",
        "plt.subplot(2,2,1)\n",
        "plt.plot(epochs, np.array([item.detach().item() for item in train_loss_sgd_1]), color='green', label= 'training loss')\n",
        "plt.plot(epochs, np.array([item.detach().item() for item in val_loss_sgd_1]), color='violet', label = 'validation loss')\n",
        "plt.title('Loss with Learning Rate of 0.01')\n",
        "plt.legend()\n",
        "\n",
        "plt.subplot(2,2,2)\n",
        "plt.plot(epochs, np.array([item.detach().item() for item in train_loss_sgd_01]), color='green', label= 'training loss')\n",
        "plt.plot(epochs, np.array([item.detach().item() for item in val_loss_sgd_01]), color='violet', label = 'validation loss')\n",
        "plt.title('Loss with Learning Rate of 0.002')\n",
        "plt.legend()\n",
        "\n",
        "plt.subplot(2,2,3)\n",
        "plt.plot(epochs, np.array([item.detach().item() for item in train_loss_sgd_001]), color='green', label= 'training loss')\n",
        "plt.plot(epochs, np.array([item.detach().item() for item in val_loss_sgd_001]), color='violet', label = 'validation loss')\n",
        "plt.title('Loss with Learning Rate of 0.003')\n",
        "plt.legend()\n",
        "\n",
        "plt.subplot(2,2,4)\n",
        "plt.plot(epochs, np.array([item.detach().item() for item in train_loss_sgd_0001]), color='green', label= 'training loss')\n",
        "plt.plot(epochs, np.array([item.detach().item() for item in val_loss_sgd_0001]), color='violet', label = 'validation loss')\n",
        "plt.title('Loss with Learning Rate of 0.0001')\n",
        "plt.legend()\n",
        "\n",
        "plt.show()\n"
      ],
      "metadata": {
        "colab": {
          "base_uri": "https://localhost:8080/",
          "height": 478
        },
        "id": "4zr2AhfgzIEt",
        "outputId": "53cd93d1-2874-4836-9363-909cdd7e2958"
      },
      "execution_count": 857,
      "outputs": [
        {
          "output_type": "display_data",
          "data": {
            "text/plain": [
              "<Figure size 640x480 with 4 Axes>"
            ],
            "image/png": "[encoded data removed]"
          },
          "metadata": {}
        }
      ]
    },
    {
      "cell_type": "code",
      "source": [],
      "metadata": {
        "id": "Ye0XF4F3zPK3"
      },
      "execution_count": null,
      "outputs": []
    }
  ],
  "metadata": {
    "colab": {
      "provenance": [],
      "mount_file_id": "1-oeGMadDvQ8aD-MZiHAtAi9HyijHtP9S",
      "authorship_tag": "ABX9TyOW785IVOlevRUEPiSB+J/n",
      "include_colab_link": true
    },
    "kernelspec": {
      "display_name": "Python 3",
      "name": "python3"
    },
    "language_info": {
      "name": "python"
    }
  },
  "nbformat": 4,
  "nbformat_minor": 0
}