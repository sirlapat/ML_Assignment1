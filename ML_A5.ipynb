{
  "cells": [
    {
      "cell_type": "markdown",
      "metadata": {
        "id": "view-in-github",
        "colab_type": "text"
      },
      "source": [
        "<a href=\"https://colab.research.google.com/github/sirlapat/ML_Assignment1/blob/main/ML_A5.ipynb\" target=\"_parent\"><img src=\"https://colab.research.google.com/assets/colab-badge.svg\" alt=\"Open In Colab\"/></a>"
      ]
    },
    {
      "cell_type": "code",
      "execution_count": 858,
      "metadata": {
        "id": "5PRRv4-Bs7Fy"
      },
      "outputs": [],
      "source": [
        "import numpy as np\n",
        "import matplotlib.pyplot as plt\n",
        "import torch"
      ]
    },
    {
      "cell_type": "code",
      "source": [
        "# Problem"
      ],
      "metadata": {
        "id": "9LbYHMdxUMAl"
      },
      "execution_count": 859,
      "outputs": []
    },
    {
      "cell_type": "code",
      "execution_count": 860,
      "metadata": {
        "id": "yp8UCsV0tA2E"
      },
      "outputs": [],
      "source": [
        "# t_u, t_c\n",
        "t_u = [35.7, 55.9, 58.2, 81.9, 56.3, 48.9, 33.9, 21.8, 48.4, 60.4, 68.4]\n",
        "t_c = [0.5, 14.0, 15.0, 28.0, 11.0, 8.0, 3.0, -4.0, 6.0, 13.0, 21.0]\n",
        "t_u = torch.tensor(t_u)\n",
        "t_c = torch.tensor(t_c)\n"
      ]
    },
    {
      "cell_type": "code",
      "source": [
        "# problem 1a"
      ],
      "metadata": {
        "id": "31oTw9EkUQQT"
      },
      "execution_count": 861,
      "outputs": []
    },
    {
      "cell_type": "code",
      "execution_count": 862,
      "metadata": {
        "id": "aY6dEjxNtH2Q"
      },
      "outputs": [],
      "source": [
        "def model(t_u, w1, w2, b):\n",
        "    return w2*t_u**2 + w1*t_u + b #w2 * t_u ** 2 + w1 * t_u + b."
      ]
    },
    {
      "cell_type": "code",
      "execution_count": 863,
      "metadata": {
        "id": "dGgP8NRYtROc"
      },
      "outputs": [],
      "source": [
        "def loss_fn(t_p, t_c):\n",
        "    squared_diffs = (t_p - t_c)**2\n",
        "    return squared_diffs.mean()\n"
      ]
    },
    {
      "cell_type": "code",
      "source": [
        "\n",
        "def training_loop(n_epochs, optimizer, params, t_u, t_c):\n",
        "    for epoch in range(1, n_epochs + 1):\n",
        "        t_p = model(t_u, *params)\n",
        "        loss = loss_fn(t_p, t_c)\n",
        "\n",
        "        optimizer.zero_grad()\n",
        "        loss.backward()\n",
        "        optimizer.step()\n",
        "\n",
        "        if epoch <= 1 or epoch % 500 ==0:\n",
        "            print(f\"Epoch {epoch}, loss {loss.item():.4f}\")\n",
        "\n",
        "    return params"
      ],
      "metadata": {
        "id": "-CPvoxVSZ3gT"
      },
      "execution_count": 864,
      "outputs": []
    },
    {
      "cell_type": "code",
      "execution_count": 865,
      "metadata": {
        "id": "wnuQ_l7Zt_cg",
        "colab": {
          "base_uri": "https://localhost:8080/"
        },
        "outputId": "304037c0-f3bb-4c8d-95c2-64dc0cd61c26"
      },
      "outputs": [
        {
          "output_type": "stream",
          "name": "stdout",
          "text": [
            "['ASGD', 'Adadelta', 'Adagrad', 'Adam', 'AdamW', 'Adamax', 'LBFGS', 'NAdam', 'Optimizer', 'RAdam', 'RMSprop', 'Rprop', 'SGD', 'SparseAdam', '__builtins__', '__cached__', '__doc__', '__file__', '__loader__', '__name__', '__package__', '__path__', '__spec__', '_functional', '_multi_tensor', 'lr_scheduler', 'swa_utils']\n"
          ]
        }
      ],
      "source": [
        "import torch.optim as optim\n",
        "optim_attributes_and_methods = dir(optim)\n",
        "print(optim_attributes_and_methods)\n",
        "\n"
      ]
    },
    {
      "cell_type": "code",
      "source": [
        "# 1b"
      ],
      "metadata": {
        "id": "PGYjMKpdUFFg"
      },
      "execution_count": 866,
      "outputs": []
    },
    {
      "cell_type": "code",
      "execution_count": 867,
      "metadata": {
        "id": "bl3aYNEcuQXn",
        "colab": {
          "base_uri": "https://localhost:8080/"
        },
        "outputId": "339fad88-b98d-4964-93e3-8f426da18fd3"
      },
      "outputs": [
        {
          "output_type": "stream",
          "name": "stdout",
          "text": [
            "Epoch 1, Loss: 129.7270\n",
            "Epoch 500, Loss: 23.9044\n",
            "Epoch 1000, Loss: 15.6724\n",
            "Epoch 1500, Loss: 9.2102\n",
            "Epoch 2000, Loss: 5.1632\n",
            "Epoch 2500, Loss: 3.1983\n",
            "Epoch 3000, Loss: 2.4866\n",
            "Epoch 3500, Loss: 2.3052\n",
            "Epoch 4000, Loss: 2.2710\n",
            "Epoch 4500, Loss: 2.2599\n",
            "Epoch 5000, Loss: 2.2491\n",
            "tensor([ 5.9713, 10.1040, -7.5652], requires_grad=True)\n"
          ]
        }
      ],
      "source": [
        "t_un = 0.02 * t_u\n",
        "params = torch.tensor([1.0, 1.0, 0.0], requires_grad=True)\n",
        "learning_rate = 0.01\n",
        "optimizer = optim.Adam([params], lr=learning_rate)\n",
        "\n",
        "num_epochs = 5000\n",
        "for epoch in range(1, num_epochs + 1):\n",
        "    predictions = model(t_un, *params)\n",
        "    loss = loss_fn(predictions, t_c)\n",
        "\n",
        "    optimizer.zero_grad()\n",
        "    loss.backward()\n",
        "    optimizer.step()\n",
        "\n",
        "    if epoch <= 1 or epoch % 500 == 0:\n",
        "        print(f\"Epoch {epoch}, Loss: {loss.item():.4f}\")\n",
        "\n",
        "print(params)\n"
      ]
    },
    {
      "cell_type": "code",
      "execution_count": 868,
      "metadata": {
        "id": "Wy9ZYMlPv6kJ",
        "colab": {
          "base_uri": "https://localhost:8080/",
          "height": 449
        },
        "outputId": "443f5e9e-64e0-42ba-bde0-c9a5ff6a3946"
      },
      "outputs": [
        {
          "output_type": "display_data",
          "data": {
            "text/plain": [
              "<Figure size 640x480 with 1 Axes>"
            ],
            "image/png": "[encoded data removed]"
          },
          "metadata": {}
        }
      ],
      "source": [
        "predictions = model(t_un, *params)\n",
        "\n",
        "# Create a new figure for the plot\n",
        "plt.figure()\n",
        "\n",
        "# Set labels for the axes\n",
        "plt.xlabel('Temperature (Fahrenheit)')\n",
        "plt.ylabel('Temperature (Celsius)')\n",
        "\n",
        "# Plot the model's predictions in green\n",
        "plt.plot(t_u.numpy(), predictions.detach().numpy(), color='green', label='Model Predictions')\n",
        "\n",
        "# Plot the actual data as points\n",
        "plt.plot(t_u.numpy(), t_c.numpy(), 'p', label='Actual Data')\n",
        "\n",
        "# Add a legend to the plot\n",
        "plt.legend()\n",
        "\n",
        "# Show the plot\n",
        "plt.show()\n"
      ]
    },
    {
      "cell_type": "code",
      "execution_count": 869,
      "metadata": {
        "id": "8Gv6QCTjv8TZ",
        "colab": {
          "base_uri": "https://localhost:8080/"
        },
        "outputId": "e93ad9ae-d7c8-4f45-9214-1646dacfca95"
      },
      "outputs": [
        {
          "output_type": "stream",
          "name": "stdout",
          "text": [
            "Epoch 1, loss 129.7270\n",
            "Epoch 500, loss 76.3203\n",
            "Epoch 1000, loss 46.7395\n",
            "Epoch 1500, loss 32.3924\n",
            "Epoch 2000, loss 26.1682\n",
            "Epoch 2500, loss 23.0872\n",
            "Epoch 3000, loss 20.6621\n",
            "Epoch 3500, loss 18.2022\n",
            "Epoch 4000, loss 15.6920\n",
            "Epoch 4500, loss 13.2379\n",
            "Epoch 5000, loss 10.9432\n"
          ]
        },
        {
          "output_type": "execute_result",
          "data": {
            "text/plain": [
              "tensor([ 4.5900,  6.5184, -1.1306], requires_grad=True)"
            ]
          },
          "metadata": {},
          "execution_count": 869
        }
      ],
      "source": [
        "t_un = 0.02 * t_u\n",
        "params = torch.tensor([1.0,1.0,0.0], requires_grad=True)\n",
        "learning_rate = 0.002\n",
        "optimizer = optim.Adam([params], lr = learning_rate)\n",
        "\n",
        "training_loop(\n",
        "    n_epochs=5000,\n",
        "    optimizer = optimizer,\n",
        "    params = params,\n",
        "    t_u = t_un,\n",
        "    t_c = t_c)\n"
      ]
    },
    {
      "cell_type": "code",
      "source": [
        "t_un.numpy()"
      ],
      "metadata": {
        "id": "x7kCPVHpZk7t",
        "colab": {
          "base_uri": "https://localhost:8080/"
        },
        "outputId": "b00a3e5a-a6ab-4c34-8f64-81426c95aa58"
      },
      "execution_count": 870,
      "outputs": [
        {
          "output_type": "execute_result",
          "data": {
            "text/plain": [
              "array([0.714     , 1.118     , 1.164     , 1.638     , 1.1259999 ,\n",
              "       0.978     , 0.67800003, 0.436     , 0.968     , 1.208     ,\n",
              "       1.368     ], dtype=float32)"
            ]
          },
          "metadata": {},
          "execution_count": 870
        }
      ]
    },
    {
      "cell_type": "code",
      "source": [
        "t_p.detach().numpy()"
      ],
      "metadata": {
        "id": "ZuSMIMw_Zp_1",
        "colab": {
          "base_uri": "https://localhost:8080/"
        },
        "outputId": "3ce8bbe6-fcf8-4b54-de66-100bb652c506"
      },
      "execution_count": 871,
      "outputs": [
        {
          "output_type": "execute_result",
          "data": {
            "text/plain": [
              "array([20.321878, 19.243414, 18.544188,  4.475416, 19.130278, 20.646362,\n",
              "       19.976889, 15.784334, 20.7048  , 17.765089, 14.023081],\n",
              "      dtype=float32)"
            ]
          },
          "metadata": {},
          "execution_count": 871
        }
      ]
    },
    {
      "cell_type": "code",
      "execution_count": 872,
      "metadata": {
        "id": "MYMbmdPPxDEW"
      },
      "outputs": [],
      "source": [
        "t_p = model(t_un, *params)\n",
        "\n"
      ]
    },
    {
      "cell_type": "code",
      "execution_count": 873,
      "metadata": {
        "id": "jY7En1DUzFkY",
        "colab": {
          "base_uri": "https://localhost:8080/",
          "height": 449
        },
        "outputId": "608436bc-81a7-46c0-e689-6729053c723f"
      },
      "outputs": [
        {
          "output_type": "display_data",
          "data": {
            "text/plain": [
              "<Figure size 640x480 with 1 Axes>"
            ],
            "image/png": "[encoded data removed]"
          },
          "metadata": {}
        }
      ],
      "source": [
        "predictions = model(t_un, *params)\n",
        "\n",
        "# Create a new figure for the plot\n",
        "plt.figure()\n",
        "\n",
        "# Set labels for the axes\n",
        "plt.xlabel('Temperature (Fahrenheit)')\n",
        "plt.ylabel('Temperature (Celsius)')\n",
        "\n",
        "# Plot the model's predictions in green\n",
        "plt.plot(t_u.numpy(), predictions.detach().numpy(), color='green', label='Model Predictions')\n",
        "\n",
        "# Plot the actual data as points\n",
        "plt.plot(t_u.numpy(), t_c.numpy(), 'p', label='Actual Data')\n",
        "\n",
        "# Add a legend to the plot\n",
        "plt.legend()\n",
        "\n",
        "# Show the plot\n",
        "plt.show()"
      ]
    },
    {
      "cell_type": "code",
      "execution_count": 874,
      "metadata": {
        "id": "_5kN79VE04xG",
        "colab": {
          "base_uri": "https://localhost:8080/"
        },
        "outputId": "fd683e60-1249-4ad8-8a36-75980145d937"
      },
      "outputs": [
        {
          "output_type": "stream",
          "name": "stdout",
          "text": [
            "Epoch 1, Loss: 129.7270\n",
            "Epoch 500, Loss: 59.1598\n",
            "Epoch 1000, Loss: 32.6967\n",
            "Epoch 1500, Loss: 24.7968\n",
            "Epoch 2000, Loss: 21.3325\n",
            "Epoch 2500, Loss: 18.2082\n",
            "Epoch 3000, Loss: 15.0603\n",
            "Epoch 3500, Loss: 12.0579\n",
            "Epoch 4000, Loss: 9.3680\n",
            "Epoch 4500, Loss: 7.1066\n",
            "Epoch 5000, Loss: 5.3300\n",
            "tensor([ 4.8529,  8.1287, -3.6001], requires_grad=True)\n"
          ]
        }
      ],
      "source": [
        "# Multiply t_u by 0.1 to get t_un\n",
        "t_un = 0.02 * t_u\n",
        "params = torch.tensor([1.0, 1.0, 0.0], requires_grad=True)\n",
        "learning_rate = 0.003\n",
        "\n",
        "optimizer = optim.Adam([params], lr=learning_rate)\n",
        "for epoch in range(1, 5001):\n",
        "    predictions = model(t_un, *params)\n",
        "    loss = loss_fn(predictions, t_c)\n",
        "\n",
        "    optimizer.zero_grad()\n",
        "    loss.backward()\n",
        "    optimizer.step()\n",
        "\n",
        "    if epoch <= 1 or epoch % 500 == 0:\n",
        "        print(f\"Epoch {epoch}, Loss: {loss.item():.4f}\")\n",
        "\n",
        "print(params)\n"
      ]
    },
    {
      "cell_type": "code",
      "execution_count": 875,
      "metadata": {
        "id": "K3ufkOxs05gn",
        "colab": {
          "base_uri": "https://localhost:8080/",
          "height": 449
        },
        "outputId": "d6f4843e-d88c-41d9-83e6-de61da32e761"
      },
      "outputs": [
        {
          "output_type": "display_data",
          "data": {
            "text/plain": [
              "<Figure size 640x480 with 1 Axes>"
            ],
            "image/png": "[encoded data removed]"
          },
          "metadata": {}
        }
      ],
      "source": [
        "# predictions = model(t_un, *params)\n",
        "t_p = model(t_u, *params)\n",
        "\n",
        "# Create a new figure for the plot\n",
        "plt.figure()\n",
        "\n",
        "# Set labels for the axes\n",
        "plt.xlabel('Temperature (Fahrenheit)')\n",
        "plt.ylabel('Temperature (Celsius)')\n",
        "\n",
        "# Plot the model's predictions in green\n",
        "plt.plot(t_u.numpy(), t_p.detach().numpy(), color='green', label='Model Predictions')\n",
        "\n",
        "# Plot the actual data as points\n",
        "plt.plot(t_u.numpy(), t_c.numpy(), 'p', label='Actual Data')\n",
        "\n",
        "# Add a legend to the plot\n",
        "plt.legend()\n",
        "\n",
        "# Show the plot\n",
        "plt.show()"
      ]
    },
    {
      "cell_type": "code",
      "execution_count": 875,
      "metadata": {
        "id": "BnD8i1im1G93"
      },
      "outputs": [],
      "source": [
        "\n"
      ]
    },
    {
      "cell_type": "code",
      "execution_count": 875,
      "metadata": {
        "id": "AWISV0ou1pJs"
      },
      "outputs": [],
      "source": []
    },
    {
      "cell_type": "code",
      "execution_count": 876,
      "metadata": {
        "id": "CgVgqiq82lbV",
        "colab": {
          "base_uri": "https://localhost:8080/"
        },
        "outputId": "5eb20e70-ad34-4f04-c2a3-82c524913cd4"
      },
      "outputs": [
        {
          "output_type": "stream",
          "name": "stdout",
          "text": [
            "Epoch 1, loss 675.7944\n",
            "Epoch 500, loss 578.2527\n",
            "Epoch 1000, loss 491.2365\n",
            "Epoch 1500, loss 413.8677\n",
            "Epoch 2000, loss 345.2539\n",
            "Epoch 2500, loss 284.6672\n",
            "Epoch 3000, loss 231.5106\n",
            "Epoch 3500, loss 185.2833\n",
            "Epoch 4000, loss 145.5521\n",
            "Epoch 4500, loss 111.9216\n",
            "Epoch 5000, loss 84.0093\n"
          ]
        },
        {
          "output_type": "execute_result",
          "data": {
            "text/plain": [
              "tensor([ 0.5698,  0.5721, -0.4337], requires_grad=True)"
            ]
          },
          "metadata": {},
          "execution_count": 876
        }
      ],
      "source": [
        "\n",
        "t_un = 0.1 * t_u\n",
        "params = torch.tensor([1.0,1.0,0.0], requires_grad=True)\n",
        "learning_rate = 0.0001\n",
        "optimizer = optim.Adam([params], lr = learning_rate)\n",
        "\n",
        "training_loop(\n",
        "    n_epochs=5000,\n",
        "    optimizer = optimizer,\n",
        "    params = params,\n",
        "    t_u = t_un,\n",
        "    t_c = t_c)\n"
      ]
    },
    {
      "cell_type": "code",
      "source": [
        "plt.figure()\n",
        "\n",
        "# Set labels for the axes\n",
        "plt.xlabel('Temperature (Fahrenheit)')\n",
        "plt.ylabel('Temperature (Celsius)')\n",
        "\n",
        "# Plot the model's predictions in peachpuff color\n",
        "plt.plot(t_u.numpy(), t_p.detach().numpy(), color='green', label='Model Predictions')\n",
        "\n",
        "# Plot the actual data as points\n",
        "plt.plot(t_u.numpy(), t_c.numpy(), 'p', label='Actual Data')\n",
        "plt.title(\"Adam optimizer with learning rate - 0.0001\")\n",
        "\n",
        "# Add a legend to the plot\n",
        "plt.legend()\n",
        "\n",
        "# Show the plot\n",
        "plt.show()\n"
      ],
      "metadata": {
        "id": "T4K2nCCFLf_4",
        "colab": {
          "base_uri": "https://localhost:8080/",
          "height": 472
        },
        "outputId": "767b1664-57f5-43bf-bfe1-32e2cfafee09"
      },
      "execution_count": 877,
      "outputs": [
        {
          "output_type": "display_data",
          "data": {
            "text/plain": [
              "<Figure size 640x480 with 1 Axes>"
            ],
            "image/png": "[encoded data removed]"
          },
          "metadata": {}
        }
      ]
    },
    {
      "cell_type": "code",
      "source": [
        "# Set t_un equal to t_u\n",
        "t_un = t_u\n",
        "params = torch.tensor([1.0, 1.0, 0.0], requires_grad=True)\n",
        "learning_rate = 0.023\n",
        "optimizer = optim.SGD([params], lr=learning_rate)\n",
        "\n",
        "for epoch in range(1, 5001):\n",
        "    predictions = model(t_un, *params)\n",
        "    loss = loss_fn(predictions, t_c)\n",
        "    optimizer.zero_grad()\n",
        "    loss.backward()\n",
        "    optimizer.step()\n",
        "\n",
        "    if epoch <= 1 or epoch % 500 == 0:\n",
        "        print(f\"Epoch {epoch}, Loss: {loss.item():.4f}\")\n",
        "\n",
        "print(params)"
      ],
      "metadata": {
        "id": "biMMe8z5La_I",
        "colab": {
          "base_uri": "https://localhost:8080/"
        },
        "outputId": "4a576201-ef5f-4cba-d545-515159e0123a"
      },
      "execution_count": 878,
      "outputs": [
        {
          "output_type": "stream",
          "name": "stdout",
          "text": [
            "Epoch 1, Loss: 11709471.0000\n",
            "Epoch 500, Loss: nan\n",
            "Epoch 1000, Loss: nan\n",
            "Epoch 1500, Loss: nan\n",
            "Epoch 2000, Loss: nan\n",
            "Epoch 2500, Loss: nan\n",
            "Epoch 3000, Loss: nan\n",
            "Epoch 3500, Loss: nan\n",
            "Epoch 4000, Loss: nan\n",
            "Epoch 4500, Loss: nan\n",
            "Epoch 5000, Loss: nan\n",
            "tensor([nan, nan, nan], requires_grad=True)\n"
          ]
        }
      ]
    },
    {
      "cell_type": "code",
      "execution_count": 879,
      "metadata": {
        "id": "JztGVILI4J4d",
        "colab": {
          "base_uri": "https://localhost:8080/",
          "height": 449
        },
        "outputId": "70b29487-cf32-4875-f1ed-cd9bbd3a7455"
      },
      "outputs": [
        {
          "output_type": "display_data",
          "data": {
            "text/plain": [
              "<Figure size 640x480 with 1 Axes>"
            ],
            "image/png": "[encoded data removed]"
          },
          "metadata": {}
        }
      ],
      "source": [
        "# predictions = model(t_un, *params)\n",
        "t_p = model(t_un, *params)\n",
        "\n",
        "# Create a new figure for the plot\n",
        "plt.figure()\n",
        "\n",
        "# Set labels for the axes\n",
        "plt.xlabel('Temperature (Fahrenheit)')\n",
        "plt.ylabel('Temperature (Celsius)')\n",
        "\n",
        "# Plot the model's predictions in green\n",
        "plt.plot(t_u.numpy(), t_p.detach().numpy(), color='green', label='Model Predictions')\n",
        "\n",
        "# Plot the actual data as points\n",
        "plt.plot(t_u.numpy(), t_c.numpy(), 'p', label='Actual Data')\n",
        "\n",
        "# Add a legend to the plot\n",
        "plt.legend()\n",
        "\n",
        "# Show the plot\n",
        "plt.show()"
      ]
    },
    {
      "cell_type": "code",
      "execution_count": 880,
      "metadata": {
        "id": "GoDc_u555vyG",
        "colab": {
          "base_uri": "https://localhost:8080/"
        },
        "outputId": "ceafd51e-3e9d-44b6-c5cf-f3317d1f181e"
      },
      "outputs": [
        {
          "output_type": "stream",
          "name": "stdout",
          "text": [
            "Epoch 1, Loss: 11709471.0000\n",
            "Epoch 500, Loss: 203.5310\n",
            "Epoch 1000, Loss: 202.9296\n",
            "Epoch 1500, Loss: 202.3291\n",
            "Epoch 2000, Loss: 201.7295\n",
            "Epoch 2500, Loss: 201.1309\n",
            "Epoch 3000, Loss: 200.5331\n",
            "Epoch 3500, Loss: 199.9362\n",
            "Epoch 4000, Loss: 199.3402\n",
            "Epoch 4500, Loss: 198.7452\n",
            "Epoch 5000, Loss: 198.1511\n",
            "tensor([ 9.6692e-01, -1.1139e-02, -9.4794e-04], requires_grad=True)\n"
          ]
        }
      ],
      "source": [
        "# Set t_un equal to t_u\n",
        "t_un = t_u\n",
        "params = torch.tensor([1.0, 1.0, 0.0], requires_grad=True)\n",
        "learning_rate = 0.00000001\n",
        "optimizer = optim.SGD([params], lr=learning_rate)\n",
        "\n",
        "for epoch in range(1, 5001):\n",
        "    predictions = model(t_un, *params)\n",
        "    loss = loss_fn(predictions, t_c)\n",
        "    optimizer.zero_grad()\n",
        "    loss.backward()\n",
        "    optimizer.step()\n",
        "\n",
        "    if epoch <= 1 or epoch % 500 == 0:\n",
        "        print(f\"Epoch {epoch}, Loss: {loss.item():.4f}\")\n",
        "\n",
        "print(params)"
      ]
    },
    {
      "cell_type": "code",
      "source": [
        "t_p = model(t_un, *params)\n",
        "\n",
        "plt.figure()\n",
        "\n",
        "# Set labels for the axes\n",
        "plt.xlabel('Temperature (Fahrenheit)')\n",
        "plt.ylabel('Temperature (Celsius)')\n",
        "\n",
        "# Plot the model's predictions in peachpuff color\n",
        "plt.plot(t_u.numpy(), t_p.detach().numpy(), color='green', label='Model Predictions')\n",
        "\n",
        "# Plot the actual data as points\n",
        "plt.plot(t_u.numpy(), t_c.numpy(), 'p', label='Actual Data')\n",
        "\n",
        "\n",
        "# Add a legend to the plot\n",
        "plt.legend()\n",
        "\n",
        "# Show the plot\n",
        "plt.show()"
      ],
      "metadata": {
        "id": "wGzUtZ4WkncD",
        "colab": {
          "base_uri": "https://localhost:8080/",
          "height": 449
        },
        "outputId": "925ca6ae-ddd5-4150-ff90-b76f9670584f"
      },
      "execution_count": 881,
      "outputs": [
        {
          "output_type": "display_data",
          "data": {
            "text/plain": [
              "<Figure size 640x480 with 1 Axes>"
            ],
            "image/png": "[encoded data removed]"
          },
          "metadata": {}
        }
      ]
    },
    {
      "cell_type": "code",
      "source": [
        "#Problem 2"
      ],
      "metadata": {
        "id": "tVDZCPs2bnJy"
      },
      "execution_count": 882,
      "outputs": []
    },
    {
      "cell_type": "code",
      "execution_count": 883,
      "metadata": {
        "id": "WrpWAu5755jJ"
      },
      "outputs": [],
      "source": [
        "import pandas as pd\n",
        "from sklearn.preprocessing import MinMaxScaler\n",
        "from sklearn.model_selection import train_test_split\n",
        "np.random.seed(0)"
      ]
    },
    {
      "cell_type": "code",
      "execution_count": 884,
      "metadata": {
        "id": "3RZqv9ZF8CW9",
        "colab": {
          "base_uri": "https://localhost:8080/",
          "height": 206
        },
        "outputId": "4568190d-f9d5-453f-f314-0703dfe57538"
      },
      "outputs": [
        {
          "output_type": "execute_result",
          "data": {
            "text/plain": [
              "      price  area  bedrooms  bathrooms  stories mainroad guestroom basement  \\\n",
              "0  13300000  7420         4          2        3      yes        no       no   \n",
              "1  12250000  8960         4          4        4      yes        no       no   \n",
              "2  12250000  9960         3          2        2      yes        no      yes   \n",
              "3  12215000  7500         4          2        2      yes        no      yes   \n",
              "4  11410000  7420         4          1        2      yes       yes      yes   \n",
              "\n",
              "  hotwaterheating airconditioning  parking prefarea furnishingstatus  \n",
              "0              no             yes        2      yes        furnished  \n",
              "1              no             yes        3       no        furnished  \n",
              "2              no              no        2      yes   semi-furnished  \n",
              "3              no             yes        3      yes        furnished  \n",
              "4              no             yes        2       no        furnished  "
            ],
            "text/html": [
              "\n",
              "  <div id=\"df-90b4b979-75f8-43c0-aa3c-c1c732cccdf7\" class=\"colab-df-container\">\n",
              "    <div>\n",
              "<style scoped>\n",
              "    .dataframe tbody tr th:only-of-type {\n",
              "        vertical-align: middle;\n",
              "    }\n",
              "\n",
              "    .dataframe tbody tr th {\n",
              "        vertical-align: top;\n",
              "    }\n",
              "\n",
              "    .dataframe thead th {\n",
              "        text-align: right;\n",
              "    }\n",
              "</style>\n",
              "<table border=\"1\" class=\"dataframe\">\n",
              "  <thead>\n",
              "    <tr style=\"text-align: right;\">\n",
              "      <th></th>\n",
              "      <th>price</th>\n",
              "      <th>area</th>\n",
              "      <th>bedrooms</th>\n",
              "      <th>bathrooms</th>\n",
              "      <th>stories</th>\n",
              "      <th>mainroad</th>\n",
              "      <th>guestroom</th>\n",
              "      <th>basement</th>\n",
              "      <th>hotwaterheating</th>\n",
              "      <th>airconditioning</th>\n",
              "      <th>parking</th>\n",
              "      <th>prefarea</th>\n",
              "      <th>furnishingstatus</th>\n",
              "    </tr>\n",
              "  </thead>\n",
              "  <tbody>\n",
              "    <tr>\n",
              "      <th>0</th>\n",
              "      <td>13300000</td>\n",
              "      <td>7420</td>\n",
              "      <td>4</td>\n",
              "      <td>2</td>\n",
              "      <td>3</td>\n",
              "      <td>yes</td>\n",
              "      <td>no</td>\n",
              "      <td>no</td>\n",
              "      <td>no</td>\n",
              "      <td>yes</td>\n",
              "      <td>2</td>\n",
              "      <td>yes</td>\n",
              "      <td>furnished</td>\n",
              "    </tr>\n",
              "    <tr>\n",
              "      <th>1</th>\n",
              "      <td>12250000</td>\n",
              "      <td>8960</td>\n",
              "      <td>4</td>\n",
              "      <td>4</td>\n",
              "      <td>4</td>\n",
              "      <td>yes</td>\n",
              "      <td>no</td>\n",
              "      <td>no</td>\n",
              "      <td>no</td>\n",
              "      <td>yes</td>\n",
              "      <td>3</td>\n",
              "      <td>no</td>\n",
              "      <td>furnished</td>\n",
              "    </tr>\n",
              "    <tr>\n",
              "      <th>2</th>\n",
              "      <td>12250000</td>\n",
              "      <td>9960</td>\n",
              "      <td>3</td>\n",
              "      <td>2</td>\n",
              "      <td>2</td>\n",
              "      <td>yes</td>\n",
              "      <td>no</td>\n",
              "      <td>yes</td>\n",
              "      <td>no</td>\n",
              "      <td>no</td>\n",
              "      <td>2</td>\n",
              "      <td>yes</td>\n",
              "      <td>semi-furnished</td>\n",
              "    </tr>\n",
              "    <tr>\n",
              "      <th>3</th>\n",
              "      <td>12215000</td>\n",
              "      <td>7500</td>\n",
              "      <td>4</td>\n",
              "      <td>2</td>\n",
              "      <td>2</td>\n",
              "      <td>yes</td>\n",
              "      <td>no</td>\n",
              "      <td>yes</td>\n",
              "      <td>no</td>\n",
              "      <td>yes</td>\n",
              "      <td>3</td>\n",
              "      <td>yes</td>\n",
              "      <td>furnished</td>\n",
              "    </tr>\n",
              "    <tr>\n",
              "      <th>4</th>\n",
              "      <td>11410000</td>\n",
              "      <td>7420</td>\n",
              "      <td>4</td>\n",
              "      <td>1</td>\n",
              "      <td>2</td>\n",
              "      <td>yes</td>\n",
              "      <td>yes</td>\n",
              "      <td>yes</td>\n",
              "      <td>no</td>\n",
              "      <td>yes</td>\n",
              "      <td>2</td>\n",
              "      <td>no</td>\n",
              "      <td>furnished</td>\n",
              "    </tr>\n",
              "  </tbody>\n",
              "</table>\n",
              "</div>\n",
              "    <div class=\"colab-df-buttons\">\n",
              "\n",
              "  <div class=\"colab-df-container\">\n",
              "    <button class=\"colab-df-convert\" onclick=\"convertToInteractive('df-90b4b979-75f8-43c0-aa3c-c1c732cccdf7')\"\n",
              "            title=\"Convert this dataframe to an interactive table.\"\n",
              "            style=\"display:none;\">\n",
              "\n",
              "  <svg xmlns=\"http://www.w3.org/2000/svg\" height=\"24px\" viewBox=\"0 -960 960 960\">\n",
              "    <path d=\"M120-120v-720h720v720H120Zm60-500h600v-160H180v160Zm220 220h160v-160H400v160Zm0 220h160v-160H400v160ZM180-400h160v-160H180v160Zm440 0h160v-160H620v160ZM180-180h160v-160H180v160Zm440 0h160v-160H620v160Z\"/>\n",
              "  </svg>\n",
              "    </button>\n",
              "\n",
              "  <style>\n",
              "    .colab-df-container {\n",
              "      display:flex;\n",
              "      gap: 12px;\n",
              "    }\n",
              "\n",
              "    .colab-df-convert {\n",
              "      background-color: #E8F0FE;\n",
              "      border: none;\n",
              "      border-radius: 50%;\n",
              "      cursor: pointer;\n",
              "      display: none;\n",
              "      fill: #1967D2;\n",
              "      height: 32px;\n",
              "      padding: 0 0 0 0;\n",
              "      width: 32px;\n",
              "    }\n",
              "\n",
              "    .colab-df-convert:hover {\n",
              "      background-color: #E2EBFA;\n",
              "      box-shadow: 0px 1px 2px rgba(60, 64, 67, 0.3), 0px 1px 3px 1px rgba(60, 64, 67, 0.15);\n",
              "      fill: #174EA6;\n",
              "    }\n",
              "\n",
              "    .colab-df-buttons div {\n",
              "      margin-bottom: 4px;\n",
              "    }\n",
              "\n",
              "    [theme=dark] .colab-df-convert {\n",
              "      background-color: #3B4455;\n",
              "      fill: #D2E3FC;\n",
              "    }\n",
              "\n",
              "    [theme=dark] .colab-df-convert:hover {\n",
              "      background-color: #434B5C;\n",
              "      box-shadow: 0px 1px 3px 1px rgba(0, 0, 0, 0.15);\n",
              "      filter: drop-shadow(0px 1px 2px rgba(0, 0, 0, 0.3));\n",
              "      fill: #FFFFFF;\n",
              "    }\n",
              "  </style>\n",
              "\n",
              "    <script>\n",
              "      const buttonEl =\n",
              "        document.querySelector('#df-90b4b979-75f8-43c0-aa3c-c1c732cccdf7 button.colab-df-convert');\n",
              "      buttonEl.style.display =\n",
              "        google.colab.kernel.accessAllowed ? 'block' : 'none';\n",
              "\n",
              "      async function convertToInteractive(key) {\n",
              "        const element = document.querySelector('#df-90b4b979-75f8-43c0-aa3c-c1c732cccdf7');\n",
              "        const dataTable =\n",
              "          await google.colab.kernel.invokeFunction('convertToInteractive',\n",
              "                                                    [key], {});\n",
              "        if (!dataTable) return;\n",
              "\n",
              "        const docLinkHtml = 'Like what you see? Visit the ' +\n",
              "          '<a target=\"_blank\" href=https://colab.research.google.com/notebooks/data_table.ipynb>data table notebook</a>'\n",
              "          + ' to learn more about interactive tables.';\n",
              "        element.innerHTML = '';\n",
              "        dataTable['output_type'] = 'display_data';\n",
              "        await google.colab.output.renderOutput(dataTable, element);\n",
              "        const docLink = document.createElement('div');\n",
              "        docLink.innerHTML = docLinkHtml;\n",
              "        element.appendChild(docLink);\n",
              "      }\n",
              "    </script>\n",
              "  </div>\n",
              "\n",
              "\n",
              "<div id=\"df-684b59cb-2d20-4a8c-bae6-c69692a4c644\">\n",
              "  <button class=\"colab-df-quickchart\" onclick=\"quickchart('df-684b59cb-2d20-4a8c-bae6-c69692a4c644')\"\n",
              "            title=\"Suggest charts\"\n",
              "            style=\"display:none;\">\n",
              "\n",
              "<svg xmlns=\"http://www.w3.org/2000/svg\" height=\"24px\"viewBox=\"0 0 24 24\"\n",
              "     width=\"24px\">\n",
              "    <g>\n",
              "        <path d=\"M19 3H5c-1.1 0-2 .9-2 2v14c0 1.1.9 2 2 2h14c1.1 0 2-.9 2-2V5c0-1.1-.9-2-2-2zM9 17H7v-7h2v7zm4 0h-2V7h2v10zm4 0h-2v-4h2v4z\"/>\n",
              "    </g>\n",
              "</svg>\n",
              "  </button>\n",
              "\n",
              "<style>\n",
              "  .colab-df-quickchart {\n",
              "      --bg-color: #E8F0FE;\n",
              "      --fill-color: #1967D2;\n",
              "      --hover-bg-color: #E2EBFA;\n",
              "      --hover-fill-color: #174EA6;\n",
              "      --disabled-fill-color: #AAA;\n",
              "      --disabled-bg-color: #DDD;\n",
              "  }\n",
              "\n",
              "  [theme=dark] .colab-df-quickchart {\n",
              "      --bg-color: #3B4455;\n",
              "      --fill-color: #D2E3FC;\n",
              "      --hover-bg-color: #434B5C;\n",
              "      --hover-fill-color: #FFFFFF;\n",
              "      --disabled-bg-color: #3B4455;\n",
              "      --disabled-fill-color: #666;\n",
              "  }\n",
              "\n",
              "  .colab-df-quickchart {\n",
              "    background-color: var(--bg-color);\n",
              "    border: none;\n",
              "    border-radius: 50%;\n",
              "    cursor: pointer;\n",
              "    display: none;\n",
              "    fill: var(--fill-color);\n",
              "    height: 32px;\n",
              "    padding: 0;\n",
              "    width: 32px;\n",
              "  }\n",
              "\n",
              "  .colab-df-quickchart:hover {\n",
              "    background-color: var(--hover-bg-color);\n",
              "    box-shadow: 0 1px 2px rgba(60, 64, 67, 0.3), 0 1px 3px 1px rgba(60, 64, 67, 0.15);\n",
              "    fill: var(--button-hover-fill-color);\n",
              "  }\n",
              "\n",
              "  .colab-df-quickchart-complete:disabled,\n",
              "  .colab-df-quickchart-complete:disabled:hover {\n",
              "    background-color: var(--disabled-bg-color);\n",
              "    fill: var(--disabled-fill-color);\n",
              "    box-shadow: none;\n",
              "  }\n",
              "\n",
              "  .colab-df-spinner {\n",
              "    border: 2px solid var(--fill-color);\n",
              "    border-color: transparent;\n",
              "    border-bottom-color: var(--fill-color);\n",
              "    animation:\n",
              "      spin 1s steps(1) infinite;\n",
              "  }\n",
              "\n",
              "  @keyframes spin {\n",
              "    0% {\n",
              "      border-color: transparent;\n",
              "      border-bottom-color: var(--fill-color);\n",
              "      border-left-color: var(--fill-color);\n",
              "    }\n",
              "    20% {\n",
              "      border-color: transparent;\n",
              "      border-left-color: var(--fill-color);\n",
              "      border-top-color: var(--fill-color);\n",
              "    }\n",
              "    30% {\n",
              "      border-color: transparent;\n",
              "      border-left-color: var(--fill-color);\n",
              "      border-top-color: var(--fill-color);\n",
              "      border-right-color: var(--fill-color);\n",
              "    }\n",
              "    40% {\n",
              "      border-color: transparent;\n",
              "      border-right-color: var(--fill-color);\n",
              "      border-top-color: var(--fill-color);\n",
              "    }\n",
              "    60% {\n",
              "      border-color: transparent;\n",
              "      border-right-color: var(--fill-color);\n",
              "    }\n",
              "    80% {\n",
              "      border-color: transparent;\n",
              "      border-right-color: var(--fill-color);\n",
              "      border-bottom-color: var(--fill-color);\n",
              "    }\n",
              "    90% {\n",
              "      border-color: transparent;\n",
              "      border-bottom-color: var(--fill-color);\n",
              "    }\n",
              "  }\n",
              "</style>\n",
              "\n",
              "  <script>\n",
              "    async function quickchart(key) {\n",
              "      const quickchartButtonEl =\n",
              "        document.querySelector('#' + key + ' button');\n",
              "      quickchartButtonEl.disabled = true;  // To prevent multiple clicks.\n",
              "      quickchartButtonEl.classList.add('colab-df-spinner');\n",
              "      try {\n",
              "        const charts = await google.colab.kernel.invokeFunction(\n",
              "            'suggestCharts', [key], {});\n",
              "      } catch (error) {\n",
              "        console.error('Error during call to suggestCharts:', error);\n",
              "      }\n",
              "      quickchartButtonEl.classList.remove('colab-df-spinner');\n",
              "      quickchartButtonEl.classList.add('colab-df-quickchart-complete');\n",
              "    }\n",
              "    (() => {\n",
              "      let quickchartButtonEl =\n",
              "        document.querySelector('#df-684b59cb-2d20-4a8c-bae6-c69692a4c644 button');\n",
              "      quickchartButtonEl.style.display =\n",
              "        google.colab.kernel.accessAllowed ? 'block' : 'none';\n",
              "    })();\n",
              "  </script>\n",
              "</div>\n",
              "    </div>\n",
              "  </div>\n"
            ]
          },
          "metadata": {},
          "execution_count": 884
        }
      ],
      "source": [
        "# Use the URL for the raw CSV data\n",
        "\n",
        "df = pd.read_csv('/content/drive/MyDrive/Housing.csv')\n",
        "\n",
        "# Display the first 5 rows of the DataFrame\n",
        "df.head()"
      ]
    },
    {
      "cell_type": "code",
      "execution_count": 885,
      "metadata": {
        "id": "axcrlK038b2i"
      },
      "outputs": [],
      "source": [
        "input_features = ['area', 'bedrooms', 'bathrooms', 'stories', 'parking']\n",
        "output_feature = 'price'"
      ]
    },
    {
      "cell_type": "code",
      "execution_count": 886,
      "metadata": {
        "id": "HvwzSh9C8sdF"
      },
      "outputs": [],
      "source": [
        "scaler = MinMaxScaler()\n",
        "df[input_features + [output_feature]] = scaler.fit_transform(df[input_features + [output_feature]])\n",
        "\n"
      ]
    },
    {
      "cell_type": "code",
      "source": [
        "scaler_x = MinMaxScaler()\n",
        "scaler_y = MinMaxScaler()\n",
        "df[input_features] = scaler_x.fit_transform(df[input_features])\n",
        "df[[output_feature]] = scaler_y.fit_transform(df[[output_feature]])"
      ],
      "metadata": {
        "id": "Q2RlbE4Cb2Mk"
      },
      "execution_count": 887,
      "outputs": []
    },
    {
      "cell_type": "code",
      "source": [
        "df.head()"
      ],
      "metadata": {
        "id": "lVtPeZZ-Y4O2",
        "colab": {
          "base_uri": "https://localhost:8080/",
          "height": 206
        },
        "outputId": "29991bdf-fec0-4c66-a33e-9534040e6d00"
      },
      "execution_count": 888,
      "outputs": [
        {
          "output_type": "execute_result",
          "data": {
            "text/plain": [
              "      price      area  bedrooms  bathrooms   stories mainroad guestroom  \\\n",
              "0  1.000000  0.396564       0.6   0.333333  0.666667      yes        no   \n",
              "1  0.909091  0.502405       0.6   1.000000  1.000000      yes        no   \n",
              "2  0.909091  0.571134       0.4   0.333333  0.333333      yes        no   \n",
              "3  0.906061  0.402062       0.6   0.333333  0.333333      yes        no   \n",
              "4  0.836364  0.396564       0.6   0.000000  0.333333      yes       yes   \n",
              "\n",
              "  basement hotwaterheating airconditioning   parking prefarea furnishingstatus  \n",
              "0       no              no             yes  0.666667      yes        furnished  \n",
              "1       no              no             yes  1.000000       no        furnished  \n",
              "2      yes              no              no  0.666667      yes   semi-furnished  \n",
              "3      yes              no             yes  1.000000      yes        furnished  \n",
              "4      yes              no             yes  0.666667       no        furnished  "
            ],
            "text/html": [
              "\n",
              "  <div id=\"df-184a42b9-f7c6-4754-baa7-7ffb9862bfa4\" class=\"colab-df-container\">\n",
              "    <div>\n",
              "<style scoped>\n",
              "    .dataframe tbody tr th:only-of-type {\n",
              "        vertical-align: middle;\n",
              "    }\n",
              "\n",
              "    .dataframe tbody tr th {\n",
              "        vertical-align: top;\n",
              "    }\n",
              "\n",
              "    .dataframe thead th {\n",
              "        text-align: right;\n",
              "    }\n",
              "</style>\n",
              "<table border=\"1\" class=\"dataframe\">\n",
              "  <thead>\n",
              "    <tr style=\"text-align: right;\">\n",
              "      <th></th>\n",
              "      <th>price</th>\n",
              "      <th>area</th>\n",
              "      <th>bedrooms</th>\n",
              "      <th>bathrooms</th>\n",
              "      <th>stories</th>\n",
              "      <th>mainroad</th>\n",
              "      <th>guestroom</th>\n",
              "      <th>basement</th>\n",
              "      <th>hotwaterheating</th>\n",
              "      <th>airconditioning</th>\n",
              "      <th>parking</th>\n",
              "      <th>prefarea</th>\n",
              "      <th>furnishingstatus</th>\n",
              "    </tr>\n",
              "  </thead>\n",
              "  <tbody>\n",
              "    <tr>\n",
              "      <th>0</th>\n",
              "      <td>1.000000</td>\n",
              "      <td>0.396564</td>\n",
              "      <td>0.6</td>\n",
              "      <td>0.333333</td>\n",
              "      <td>0.666667</td>\n",
              "      <td>yes</td>\n",
              "      <td>no</td>\n",
              "      <td>no</td>\n",
              "      <td>no</td>\n",
              "      <td>yes</td>\n",
              "      <td>0.666667</td>\n",
              "      <td>yes</td>\n",
              "      <td>furnished</td>\n",
              "    </tr>\n",
              "    <tr>\n",
              "      <th>1</th>\n",
              "      <td>0.909091</td>\n",
              "      <td>0.502405</td>\n",
              "      <td>0.6</td>\n",
              "      <td>1.000000</td>\n",
              "      <td>1.000000</td>\n",
              "      <td>yes</td>\n",
              "      <td>no</td>\n",
              "      <td>no</td>\n",
              "      <td>no</td>\n",
              "      <td>yes</td>\n",
              "      <td>1.000000</td>\n",
              "      <td>no</td>\n",
              "      <td>furnished</td>\n",
              "    </tr>\n",
              "    <tr>\n",
              "      <th>2</th>\n",
              "      <td>0.909091</td>\n",
              "      <td>0.571134</td>\n",
              "      <td>0.4</td>\n",
              "      <td>0.333333</td>\n",
              "      <td>0.333333</td>\n",
              "      <td>yes</td>\n",
              "      <td>no</td>\n",
              "      <td>yes</td>\n",
              "      <td>no</td>\n",
              "      <td>no</td>\n",
              "      <td>0.666667</td>\n",
              "      <td>yes</td>\n",
              "      <td>semi-furnished</td>\n",
              "    </tr>\n",
              "    <tr>\n",
              "      <th>3</th>\n",
              "      <td>0.906061</td>\n",
              "      <td>0.402062</td>\n",
              "      <td>0.6</td>\n",
              "      <td>0.333333</td>\n",
              "      <td>0.333333</td>\n",
              "      <td>yes</td>\n",
              "      <td>no</td>\n",
              "      <td>yes</td>\n",
              "      <td>no</td>\n",
              "      <td>yes</td>\n",
              "      <td>1.000000</td>\n",
              "      <td>yes</td>\n",
              "      <td>furnished</td>\n",
              "    </tr>\n",
              "    <tr>\n",
              "      <th>4</th>\n",
              "      <td>0.836364</td>\n",
              "      <td>0.396564</td>\n",
              "      <td>0.6</td>\n",
              "      <td>0.000000</td>\n",
              "      <td>0.333333</td>\n",
              "      <td>yes</td>\n",
              "      <td>yes</td>\n",
              "      <td>yes</td>\n",
              "      <td>no</td>\n",
              "      <td>yes</td>\n",
              "      <td>0.666667</td>\n",
              "      <td>no</td>\n",
              "      <td>furnished</td>\n",
              "    </tr>\n",
              "  </tbody>\n",
              "</table>\n",
              "</div>\n",
              "    <div class=\"colab-df-buttons\">\n",
              "\n",
              "  <div class=\"colab-df-container\">\n",
              "    <button class=\"colab-df-convert\" onclick=\"convertToInteractive('df-184a42b9-f7c6-4754-baa7-7ffb9862bfa4')\"\n",
              "            title=\"Convert this dataframe to an interactive table.\"\n",
              "            style=\"display:none;\">\n",
              "\n",
              "  <svg xmlns=\"http://www.w3.org/2000/svg\" height=\"24px\" viewBox=\"0 -960 960 960\">\n",
              "    <path d=\"M120-120v-720h720v720H120Zm60-500h600v-160H180v160Zm220 220h160v-160H400v160Zm0 220h160v-160H400v160ZM180-400h160v-160H180v160Zm440 0h160v-160H620v160ZM180-180h160v-160H180v160Zm440 0h160v-160H620v160Z\"/>\n",
              "  </svg>\n",
              "    </button>\n",
              "\n",
              "  <style>\n",
              "    .colab-df-container {\n",
              "      display:flex;\n",
              "      gap: 12px;\n",
              "    }\n",
              "\n",
              "    .colab-df-convert {\n",
              "      background-color: #E8F0FE;\n",
              "      border: none;\n",
              "      border-radius: 50%;\n",
              "      cursor: pointer;\n",
              "      display: none;\n",
              "      fill: #1967D2;\n",
              "      height: 32px;\n",
              "      padding: 0 0 0 0;\n",
              "      width: 32px;\n",
              "    }\n",
              "\n",
              "    .colab-df-convert:hover {\n",
              "      background-color: #E2EBFA;\n",
              "      box-shadow: 0px 1px 2px rgba(60, 64, 67, 0.3), 0px 1px 3px 1px rgba(60, 64, 67, 0.15);\n",
              "      fill: #174EA6;\n",
              "    }\n",
              "\n",
              "    .colab-df-buttons div {\n",
              "      margin-bottom: 4px;\n",
              "    }\n",
              "\n",
              "    [theme=dark] .colab-df-convert {\n",
              "      background-color: #3B4455;\n",
              "      fill: #D2E3FC;\n",
              "    }\n",
              "\n",
              "    [theme=dark] .colab-df-convert:hover {\n",
              "      background-color: #434B5C;\n",
              "      box-shadow: 0px 1px 3px 1px rgba(0, 0, 0, 0.15);\n",
              "      filter: drop-shadow(0px 1px 2px rgba(0, 0, 0, 0.3));\n",
              "      fill: #FFFFFF;\n",
              "    }\n",
              "  </style>\n",
              "\n",
              "    <script>\n",
              "      const buttonEl =\n",
              "        document.querySelector('#df-184a42b9-f7c6-4754-baa7-7ffb9862bfa4 button.colab-df-convert');\n",
              "      buttonEl.style.display =\n",
              "        google.colab.kernel.accessAllowed ? 'block' : 'none';\n",
              "\n",
              "      async function convertToInteractive(key) {\n",
              "        const element = document.querySelector('#df-184a42b9-f7c6-4754-baa7-7ffb9862bfa4');\n",
              "        const dataTable =\n",
              "          await google.colab.kernel.invokeFunction('convertToInteractive',\n",
              "                                                    [key], {});\n",
              "        if (!dataTable) return;\n",
              "\n",
              "        const docLinkHtml = 'Like what you see? Visit the ' +\n",
              "          '<a target=\"_blank\" href=https://colab.research.google.com/notebooks/data_table.ipynb>data table notebook</a>'\n",
              "          + ' to learn more about interactive tables.';\n",
              "        element.innerHTML = '';\n",
              "        dataTable['output_type'] = 'display_data';\n",
              "        await google.colab.output.renderOutput(dataTable, element);\n",
              "        const docLink = document.createElement('div');\n",
              "        docLink.innerHTML = docLinkHtml;\n",
              "        element.appendChild(docLink);\n",
              "      }\n",
              "    </script>\n",
              "  </div>\n",
              "\n",
              "\n",
              "<div id=\"df-219b782a-a609-48c9-b29b-9b5aac04cab4\">\n",
              "  <button class=\"colab-df-quickchart\" onclick=\"quickchart('df-219b782a-a609-48c9-b29b-9b5aac04cab4')\"\n",
              "            title=\"Suggest charts\"\n",
              "            style=\"display:none;\">\n",
              "\n",
              "<svg xmlns=\"http://www.w3.org/2000/svg\" height=\"24px\"viewBox=\"0 0 24 24\"\n",
              "     width=\"24px\">\n",
              "    <g>\n",
              "        <path d=\"M19 3H5c-1.1 0-2 .9-2 2v14c0 1.1.9 2 2 2h14c1.1 0 2-.9 2-2V5c0-1.1-.9-2-2-2zM9 17H7v-7h2v7zm4 0h-2V7h2v10zm4 0h-2v-4h2v4z\"/>\n",
              "    </g>\n",
              "</svg>\n",
              "  </button>\n",
              "\n",
              "<style>\n",
              "  .colab-df-quickchart {\n",
              "      --bg-color: #E8F0FE;\n",
              "      --fill-color: #1967D2;\n",
              "      --hover-bg-color: #E2EBFA;\n",
              "      --hover-fill-color: #174EA6;\n",
              "      --disabled-fill-color: #AAA;\n",
              "      --disabled-bg-color: #DDD;\n",
              "  }\n",
              "\n",
              "  [theme=dark] .colab-df-quickchart {\n",
              "      --bg-color: #3B4455;\n",
              "      --fill-color: #D2E3FC;\n",
              "      --hover-bg-color: #434B5C;\n",
              "      --hover-fill-color: #FFFFFF;\n",
              "      --disabled-bg-color: #3B4455;\n",
              "      --disabled-fill-color: #666;\n",
              "  }\n",
              "\n",
              "  .colab-df-quickchart {\n",
              "    background-color: var(--bg-color);\n",
              "    border: none;\n",
              "    border-radius: 50%;\n",
              "    cursor: pointer;\n",
              "    display: none;\n",
              "    fill: var(--fill-color);\n",
              "    height: 32px;\n",
              "    padding: 0;\n",
              "    width: 32px;\n",
              "  }\n",
              "\n",
              "  .colab-df-quickchart:hover {\n",
              "    background-color: var(--hover-bg-color);\n",
              "    box-shadow: 0 1px 2px rgba(60, 64, 67, 0.3), 0 1px 3px 1px rgba(60, 64, 67, 0.15);\n",
              "    fill: var(--button-hover-fill-color);\n",
              "  }\n",
              "\n",
              "  .colab-df-quickchart-complete:disabled,\n",
              "  .colab-df-quickchart-complete:disabled:hover {\n",
              "    background-color: var(--disabled-bg-color);\n",
              "    fill: var(--disabled-fill-color);\n",
              "    box-shadow: none;\n",
              "  }\n",
              "\n",
              "  .colab-df-spinner {\n",
              "    border: 2px solid var(--fill-color);\n",
              "    border-color: transparent;\n",
              "    border-bottom-color: var(--fill-color);\n",
              "    animation:\n",
              "      spin 1s steps(1) infinite;\n",
              "  }\n",
              "\n",
              "  @keyframes spin {\n",
              "    0% {\n",
              "      border-color: transparent;\n",
              "      border-bottom-color: var(--fill-color);\n",
              "      border-left-color: var(--fill-color);\n",
              "    }\n",
              "    20% {\n",
              "      border-color: transparent;\n",
              "      border-left-color: var(--fill-color);\n",
              "      border-top-color: var(--fill-color);\n",
              "    }\n",
              "    30% {\n",
              "      border-color: transparent;\n",
              "      border-left-color: var(--fill-color);\n",
              "      border-top-color: var(--fill-color);\n",
              "      border-right-color: var(--fill-color);\n",
              "    }\n",
              "    40% {\n",
              "      border-color: transparent;\n",
              "      border-right-color: var(--fill-color);\n",
              "      border-top-color: var(--fill-color);\n",
              "    }\n",
              "    60% {\n",
              "      border-color: transparent;\n",
              "      border-right-color: var(--fill-color);\n",
              "    }\n",
              "    80% {\n",
              "      border-color: transparent;\n",
              "      border-right-color: var(--fill-color);\n",
              "      border-bottom-color: var(--fill-color);\n",
              "    }\n",
              "    90% {\n",
              "      border-color: transparent;\n",
              "      border-bottom-color: var(--fill-color);\n",
              "    }\n",
              "  }\n",
              "</style>\n",
              "\n",
              "  <script>\n",
              "    async function quickchart(key) {\n",
              "      const quickchartButtonEl =\n",
              "        document.querySelector('#' + key + ' button');\n",
              "      quickchartButtonEl.disabled = true;  // To prevent multiple clicks.\n",
              "      quickchartButtonEl.classList.add('colab-df-spinner');\n",
              "      try {\n",
              "        const charts = await google.colab.kernel.invokeFunction(\n",
              "            'suggestCharts', [key], {});\n",
              "      } catch (error) {\n",
              "        console.error('Error during call to suggestCharts:', error);\n",
              "      }\n",
              "      quickchartButtonEl.classList.remove('colab-df-spinner');\n",
              "      quickchartButtonEl.classList.add('colab-df-quickchart-complete');\n",
              "    }\n",
              "    (() => {\n",
              "      let quickchartButtonEl =\n",
              "        document.querySelector('#df-219b782a-a609-48c9-b29b-9b5aac04cab4 button');\n",
              "      quickchartButtonEl.style.display =\n",
              "        google.colab.kernel.accessAllowed ? 'block' : 'none';\n",
              "    })();\n",
              "  </script>\n",
              "</div>\n",
              "    </div>\n",
              "  </div>\n"
            ]
          },
          "metadata": {},
          "execution_count": 888
        }
      ]
    },
    {
      "cell_type": "code",
      "execution_count": 889,
      "metadata": {
        "id": "sIrLiGl-88w0"
      },
      "outputs": [],
      "source": [
        "from sklearn.model_selection import train_test_split\n",
        "\n",
        "# We specify this so that the train and test data set always have the same rows, respectively\n",
        "np.random.seed(0)\n",
        "\n",
        "X = df[input_features].values\n",
        "y = df[[output_feature]].values"
      ]
    },
    {
      "cell_type": "code",
      "execution_count": 890,
      "metadata": {
        "id": "GMOC3fEn9jjA"
      },
      "outputs": [],
      "source": [
        "X_t = torch.tensor(X)\n",
        "Y_t = torch.tensor(y)"
      ]
    },
    {
      "cell_type": "code",
      "execution_count": 891,
      "metadata": {
        "id": "UGBr1Sax9wml",
        "colab": {
          "base_uri": "https://localhost:8080/"
        },
        "outputId": "dc939991-37e0-4a99-e8d0-e3535085533e"
      },
      "outputs": [
        {
          "output_type": "execute_result",
          "data": {
            "text/plain": [
              "tensor([[0.3966, 0.6000, 0.3333, 0.6667, 0.6667],\n",
              "        [0.5024, 0.6000, 1.0000, 1.0000, 1.0000],\n",
              "        [0.5711, 0.4000, 0.3333, 0.3333, 0.6667],\n",
              "        ...,\n",
              "        [0.1354, 0.2000, 0.0000, 0.0000, 0.0000],\n",
              "        [0.0866, 0.4000, 0.0000, 0.0000, 0.0000],\n",
              "        [0.1512, 0.4000, 0.0000, 0.3333, 0.0000]], dtype=torch.float64)"
            ]
          },
          "metadata": {},
          "execution_count": 891
        }
      ],
      "source": [
        "X_t"
      ]
    },
    {
      "cell_type": "code",
      "execution_count": 891,
      "metadata": {
        "id": "WA9aeYU09xCn"
      },
      "outputs": [],
      "source": []
    },
    {
      "cell_type": "code",
      "source": [
        "X = df[input_features].values\n",
        "y = df[[output_feature]].values"
      ],
      "metadata": {
        "id": "fgDCqFHjcAJ1"
      },
      "execution_count": 892,
      "outputs": []
    },
    {
      "cell_type": "code",
      "execution_count": 893,
      "metadata": {
        "id": "1RxnfCVi95vf"
      },
      "outputs": [],
      "source": [
        "def model(X, W, B):\n",
        "    return torch.sum(X * W, dim=1) + B"
      ]
    },
    {
      "cell_type": "code",
      "execution_count": 894,
      "metadata": {
        "id": "oBFPsOmH-NOW"
      },
      "outputs": [],
      "source": [
        "weights = torch.ones(5)  # Consolidating W1, W2, W3, W4, W5 into a single tensor, because of 5 inputs\n",
        "bias = torch.zeros(1)    # Bias as a single value"
      ]
    },
    {
      "cell_type": "code",
      "execution_count": 895,
      "metadata": {
        "id": "MsmIImB6-S8Z"
      },
      "outputs": [],
      "source": [
        "train_X, val_X, train_Y, val_Y = train_test_split(X, y, test_size=0.2, random_state=42)"
      ]
    },
    {
      "cell_type": "code",
      "execution_count": 896,
      "metadata": {
        "id": "R4tFzROJ-Wg7",
        "colab": {
          "base_uri": "https://localhost:8080/"
        },
        "outputId": "a9ca8324-8cea-47b6-df02-50268ac272c3"
      },
      "outputs": [
        {
          "output_type": "execute_result",
          "data": {
            "text/plain": [
              "((436, 5), (436, 1), (109, 5), (109, 1))"
            ]
          },
          "metadata": {},
          "execution_count": 896
        }
      ],
      "source": [
        "train_X.shape, train_Y.shape, val_X.shape, val_Y.shape"
      ]
    },
    {
      "cell_type": "code",
      "execution_count": 897,
      "metadata": {
        "id": "P9FS9uMF-ZDC"
      },
      "outputs": [],
      "source": [
        "X_train = torch.tensor(train_X)\n",
        "y_train =  torch.tensor(train_Y)\n",
        "X_val =  torch.tensor(val_X)\n",
        "y_val =  torch.tensor(val_Y)"
      ]
    },
    {
      "cell_type": "code",
      "source": [
        "def training_loop(n_epochs, optimizer, weights, bias, X_train, X_val, y_train, y_val):\n",
        "    loss_train = []\n",
        "    loss_val = []\n",
        "    for epoch in range(1, n_epochs + 1):\n",
        "        y_train_p = model(X_train, weights, bias)\n",
        "        train_loss = loss_fn(y_train_p, y_train)\n",
        "\n",
        "        y_val_p = model(X_train, weights, bias)\n",
        "        val_loss = loss_fn(y_val_p, y_val)\n",
        "\n",
        "        optimizer.zero_grad()\n",
        "        train_loss.backward()\n",
        "        optimizer.step()\n",
        "\n",
        "        if epoch % 500 == 0:\n",
        "            loss_train.append(train_loss)\n",
        "            loss_val.append(val_loss)\n",
        "            print(f\"Epoch {epoch}, Training loss {train_loss.item():.4f},\"\n",
        "                  f\" Validation loss {val_loss.item():.4f}\")\n",
        "\n",
        "    return weights, bias, loss_train, loss_val"
      ],
      "metadata": {
        "id": "ydng2rAHVidj"
      },
      "execution_count": 898,
      "outputs": []
    },
    {
      "cell_type": "code",
      "source": [
        "def model_training(X, y, epochs, optimizer, learning_rate):\n",
        "  train_X, val_X, train_Y, val_Y = train_test_split(X, y, test_size=0.2, random_state=42)\n",
        "  X_train = torch.tensor(train_X)\n",
        "  y_train =  torch.tensor(train_Y)\n",
        "  X_val =  torch.tensor(val_X)\n",
        "  y_val =  torch.tensor(val_Y)\n",
        "\n",
        "  n_w = X.shape[1]\n",
        "  weights = torch.tensor([1.0] * n_w, requires_grad=True)\n",
        "  bias = torch.tensor([0.0], requires_grad=True)\n",
        "  if optimizer == 'SGD':\n",
        "    optimizer = optim.SGD([weights, bias], lr=learning_rate)\n",
        "  elif optimizer == 'ADAM':\n",
        "    optimizer = optim.Adam([weights, bias], lr=learning_rate)\n",
        "\n",
        "  w, b, train_loss, val_loss = training_loop(\n",
        "                                n_epochs = epochs,\n",
        "                                optimizer = optimizer,\n",
        "                                weights = weights,\n",
        "                                bias = bias,\n",
        "                                X_train = X_train,\n",
        "                                X_val = X_val,\n",
        "                                y_train = y_train,\n",
        "                                y_val = y_val)\n",
        "  return w, b, train_loss, val_loss"
      ],
      "metadata": {
        "id": "ReUMuixEVodP"
      },
      "execution_count": 899,
      "outputs": []
    },
    {
      "cell_type": "code",
      "source": [
        "weights_adam_1, bias_adam_1, train_loss_adam_1, val_loss_adam_1 = model_training(X, y, epochs = 5000, optimizer = 'ADAM', learning_rate = 0.01)\n"
      ],
      "metadata": {
        "id": "gr4urhxKVqDk",
        "colab": {
          "base_uri": "https://localhost:8080/"
        },
        "outputId": "96cd6b67-0a43-458f-849c-a1d666050551"
      },
      "execution_count": 900,
      "outputs": [
        {
          "output_type": "stream",
          "name": "stdout",
          "text": [
            "Epoch 500, Training loss 0.0266, Validation loss 0.0424\n",
            "Epoch 1000, Training loss 0.0234, Validation loss 0.0389\n",
            "Epoch 1500, Training loss 0.0231, Validation loss 0.0386\n",
            "Epoch 2000, Training loss 0.0231, Validation loss 0.0386\n",
            "Epoch 2500, Training loss 0.0231, Validation loss 0.0386\n",
            "Epoch 3000, Training loss 0.0231, Validation loss 0.0386\n",
            "Epoch 3500, Training loss 0.0231, Validation loss 0.0386\n",
            "Epoch 4000, Training loss 0.0231, Validation loss 0.0386\n",
            "Epoch 4500, Training loss 0.0231, Validation loss 0.0386\n",
            "Epoch 5000, Training loss 0.0231, Validation loss 0.0386\n"
          ]
        }
      ]
    },
    {
      "cell_type": "code",
      "source": [
        "weights_adam_1, bias_adam_1"
      ],
      "metadata": {
        "id": "47h8EXbtVzjp",
        "colab": {
          "base_uri": "https://localhost:8080/"
        },
        "outputId": "d6381624-bcf3-4602-9d28-fb1d1bd460f4"
      },
      "execution_count": 901,
      "outputs": [
        {
          "output_type": "execute_result",
          "data": {
            "text/plain": [
              "(tensor([ 1.1828e-07,  2.5502e-07, -6.8351e-08, -2.1430e-09,  6.7796e-09],\n",
              "        requires_grad=True),\n",
              " tensor([0.2560], requires_grad=True))"
            ]
          },
          "metadata": {},
          "execution_count": 901
        }
      ]
    },
    {
      "cell_type": "code",
      "source": [
        "weights_adam_01, bias_adam_01, train_loss_adam_01, val_loss_adam_01 = model_training(X, y, epochs = 5000, optimizer = 'ADAM', learning_rate = 0.002)\n"
      ],
      "metadata": {
        "id": "zwZGcCJjV42E",
        "colab": {
          "base_uri": "https://localhost:8080/"
        },
        "outputId": "221a4878-33a4-4a6b-de93-d6b9c5f029df"
      },
      "execution_count": 958,
      "outputs": [
        {
          "output_type": "stream",
          "name": "stdout",
          "text": [
            "Epoch 500, Training loss 0.4713, Validation loss 0.4656\n",
            "Epoch 1000, Training loss 0.1191, Validation loss 0.1386\n",
            "Epoch 1500, Training loss 0.0860, Validation loss 0.1051\n",
            "Epoch 2000, Training loss 0.0657, Validation loss 0.0839\n",
            "Epoch 2500, Training loss 0.0526, Validation loss 0.0701\n",
            "Epoch 3000, Training loss 0.0436, Validation loss 0.0606\n",
            "Epoch 3500, Training loss 0.0372, Validation loss 0.0538\n",
            "Epoch 4000, Training loss 0.0324, Validation loss 0.0487\n",
            "Epoch 4500, Training loss 0.0290, Validation loss 0.0450\n",
            "Epoch 5000, Training loss 0.0266, Validation loss 0.0425\n"
          ]
        }
      ]
    },
    {
      "cell_type": "code",
      "source": [
        "weights_adam_01, bias_adam_01"
      ],
      "metadata": {
        "id": "qrtUwG_9V9hc",
        "colab": {
          "base_uri": "https://localhost:8080/"
        },
        "outputId": "8cee31f6-cbe0-4569-bdc9-d5309ede7b3d"
      },
      "execution_count": 903,
      "outputs": [
        {
          "output_type": "execute_result",
          "data": {
            "text/plain": [
              "(tensor([0.4758, 0.5180, 0.3094, 0.3627, 0.3532], requires_grad=True),\n",
              " tensor([-0.3121], requires_grad=True))"
            ]
          },
          "metadata": {},
          "execution_count": 903
        }
      ]
    },
    {
      "cell_type": "code",
      "source": [
        "weights_adam_001, bias_adam_001, train_loss_adam_001, val_loss_adam_001 = model_training(X, y, epochs = 5000, optimizer = 'ADAM', learning_rate = 0.003)\n"
      ],
      "metadata": {
        "id": "SsTyS2fxV-40",
        "colab": {
          "base_uri": "https://localhost:8080/"
        },
        "outputId": "92a72ca7-90b2-44ba-a432-8453e2466baf"
      },
      "execution_count": 904,
      "outputs": [
        {
          "output_type": "stream",
          "name": "stdout",
          "text": [
            "Epoch 500, Training loss 0.0762, Validation loss 0.0943\n",
            "Epoch 1000, Training loss 0.0341, Validation loss 0.0507\n",
            "Epoch 1500, Training loss 0.0268, Validation loss 0.0426\n",
            "Epoch 2000, Training loss 0.0246, Validation loss 0.0402\n",
            "Epoch 2500, Training loss 0.0236, Validation loss 0.0391\n",
            "Epoch 3000, Training loss 0.0232, Validation loss 0.0387\n",
            "Epoch 3500, Training loss 0.0231, Validation loss 0.0386\n",
            "Epoch 4000, Training loss 0.0231, Validation loss 0.0386\n",
            "Epoch 4500, Training loss 0.0231, Validation loss 0.0386\n",
            "Epoch 5000, Training loss 0.0231, Validation loss 0.0386\n"
          ]
        }
      ]
    },
    {
      "cell_type": "code",
      "source": [
        "weights_adam_001, bias_adam_001"
      ],
      "metadata": {
        "id": "nG7x_BeJWLnr",
        "colab": {
          "base_uri": "https://localhost:8080/"
        },
        "outputId": "a51723e4-710b-47f6-a888-9c9a43b6465a"
      },
      "execution_count": 905,
      "outputs": [
        {
          "output_type": "execute_result",
          "data": {
            "text/plain": [
              "(tensor([ 2.5402e-05,  3.0891e-04, -1.0130e-04, -4.5751e-05, -6.7066e-06],\n",
              "        requires_grad=True),\n",
              " tensor([0.2559], requires_grad=True))"
            ]
          },
          "metadata": {},
          "execution_count": 905
        }
      ]
    },
    {
      "cell_type": "code",
      "source": [
        "weights_adam_0001, bias_adam_0001, train_loss_adam_0001, val_loss_adam_0001 = model_training(X, y, epochs = 5000, optimizer = 'ADAM', learning_rate = 0.0001)\n"
      ],
      "metadata": {
        "id": "6KQHI9c5WOpy",
        "colab": {
          "base_uri": "https://localhost:8080/"
        },
        "outputId": "bbded535-5008-4d8c-f56f-07af083e6fc9"
      },
      "execution_count": 906,
      "outputs": [
        {
          "output_type": "stream",
          "name": "stdout",
          "text": [
            "Epoch 500, Training loss 1.1064, Validation loss 1.0777\n",
            "Epoch 1000, Training loss 0.9080, Validation loss 0.8847\n",
            "Epoch 1500, Training loss 0.7402, Validation loss 0.7219\n",
            "Epoch 2000, Training loss 0.5992, Validation loss 0.5858\n",
            "Epoch 2500, Training loss 0.4823, Validation loss 0.4735\n",
            "Epoch 3000, Training loss 0.3869, Validation loss 0.3825\n",
            "Epoch 3500, Training loss 0.3107, Validation loss 0.3104\n",
            "Epoch 4000, Training loss 0.2516, Validation loss 0.2551\n",
            "Epoch 4500, Training loss 0.2072, Validation loss 0.2143\n",
            "Epoch 5000, Training loss 0.1752, Validation loss 0.1854\n"
          ]
        }
      ]
    },
    {
      "cell_type": "code",
      "source": [
        "weights_adam_0001, bias_adam_0001"
      ],
      "metadata": {
        "id": "Wb8lmBdVWUJk",
        "colab": {
          "base_uri": "https://localhost:8080/"
        },
        "outputId": "fe9385f3-2995-424c-811f-1c3a64506d56"
      },
      "execution_count": 907,
      "outputs": [
        {
          "output_type": "execute_result",
          "data": {
            "text/plain": [
              "(tensor([0.6064, 0.6119, 0.5784, 0.5884, 0.5866], requires_grad=True),\n",
              " tensor([-0.3670], requires_grad=True))"
            ]
          },
          "metadata": {},
          "execution_count": 907
        }
      ]
    },
    {
      "cell_type": "code",
      "source": [
        "weights_sgd_1, bias_sgd_1, train_loss_sgd_1, val_loss_sgd_1 = model_training(X, y, epochs = 5000, optimizer = 'SGD', learning_rate = 0.01)\n"
      ],
      "metadata": {
        "id": "DCIV8uI6WX2H",
        "colab": {
          "base_uri": "https://localhost:8080/"
        },
        "outputId": "a08ee4bc-5cdd-4d5d-a2c7-ec45c1b27fed"
      },
      "execution_count": 908,
      "outputs": [
        {
          "output_type": "stream",
          "name": "stdout",
          "text": [
            "Epoch 500, Training loss 0.0900, Validation loss 0.1071\n",
            "Epoch 1000, Training loss 0.0447, Validation loss 0.0610\n",
            "Epoch 1500, Training loss 0.0326, Validation loss 0.0485\n",
            "Epoch 2000, Training loss 0.0284, Validation loss 0.0441\n",
            "Epoch 2500, Training loss 0.0263, Validation loss 0.0420\n",
            "Epoch 3000, Training loss 0.0252, Validation loss 0.0407\n",
            "Epoch 3500, Training loss 0.0245, Validation loss 0.0400\n",
            "Epoch 4000, Training loss 0.0240, Validation loss 0.0395\n",
            "Epoch 4500, Training loss 0.0237, Validation loss 0.0392\n",
            "Epoch 5000, Training loss 0.0235, Validation loss 0.0390\n"
          ]
        }
      ]
    },
    {
      "cell_type": "code",
      "source": [
        "weights_sgd_1, bias_sgd_1"
      ],
      "metadata": {
        "id": "EPsgFr5MWbo1",
        "colab": {
          "base_uri": "https://localhost:8080/"
        },
        "outputId": "77a65931-ff11-4882-e342-14252962b84a"
      },
      "execution_count": 909,
      "outputs": [
        {
          "output_type": "execute_result",
          "data": {
            "text/plain": [
              "(tensor([ 0.0912,  0.0961,  0.0113, -0.0293, -0.0281], requires_grad=True),\n",
              " tensor([0.2086], requires_grad=True))"
            ]
          },
          "metadata": {},
          "execution_count": 909
        }
      ]
    },
    {
      "cell_type": "code",
      "source": [
        "weights_sgd_01, bias_sgd_01, train_loss_sgd_01, val_loss_sgd_01 =  model_training(X, y, epochs = 5000, optimizer = 'SGD', learning_rate = 0.002)\n"
      ],
      "metadata": {
        "id": "KMx9_h1JWe_z",
        "colab": {
          "base_uri": "https://localhost:8080/"
        },
        "outputId": "8ec5b329-0eba-4ded-b906-c96dd8b312e1"
      },
      "execution_count": 910,
      "outputs": [
        {
          "output_type": "stream",
          "name": "stdout",
          "text": [
            "Epoch 500, Training loss 0.2274, Validation loss 0.2421\n",
            "Epoch 1000, Training loss 0.1733, Validation loss 0.1909\n",
            "Epoch 1500, Training loss 0.1368, Validation loss 0.1543\n",
            "Epoch 2000, Training loss 0.1099, Validation loss 0.1271\n",
            "Epoch 2500, Training loss 0.0900, Validation loss 0.1070\n",
            "Epoch 3000, Training loss 0.0752, Validation loss 0.0920\n",
            "Epoch 3500, Training loss 0.0641, Validation loss 0.0807\n",
            "Epoch 4000, Training loss 0.0558, Validation loss 0.0723\n",
            "Epoch 4500, Training loss 0.0495, Validation loss 0.0659\n",
            "Epoch 5000, Training loss 0.0447, Validation loss 0.0609\n"
          ]
        }
      ]
    },
    {
      "cell_type": "code",
      "source": [
        "weights_sgd_01, bias_sgd_01"
      ],
      "metadata": {
        "id": "hYUaMOsyWkcN",
        "colab": {
          "base_uri": "https://localhost:8080/"
        },
        "outputId": "df5ae938-a5ce-4406-dbff-45321a934c9b"
      },
      "execution_count": 911,
      "outputs": [
        {
          "output_type": "execute_result",
          "data": {
            "text/plain": [
              "(tensor([0.4766, 0.4146, 0.3760, 0.0358, 0.0539], requires_grad=True),\n",
              " tensor([-0.0915], requires_grad=True))"
            ]
          },
          "metadata": {},
          "execution_count": 911
        }
      ]
    },
    {
      "cell_type": "code",
      "source": [
        "weights_sgd_001, bias_sgd_001, train_loss_sgd_001, val_loss_sgd_001 = model_training(X, y, epochs = 5000, optimizer = 'SGD', learning_rate = 0.003)\n"
      ],
      "metadata": {
        "id": "lkSqWbgRWn-_",
        "colab": {
          "base_uri": "https://localhost:8080/"
        },
        "outputId": "1a28b899-9bd5-40d1-97e4-c06b5e9c5fa2"
      },
      "execution_count": 912,
      "outputs": [
        {
          "output_type": "stream",
          "name": "stdout",
          "text": [
            "Epoch 500, Training loss 0.1965, Validation loss 0.2136\n",
            "Epoch 1000, Training loss 0.1368, Validation loss 0.1543\n",
            "Epoch 1500, Training loss 0.0992, Validation loss 0.1163\n",
            "Epoch 2000, Training loss 0.0752, Validation loss 0.0920\n",
            "Epoch 2500, Training loss 0.0596, Validation loss 0.0762\n",
            "Epoch 3000, Training loss 0.0495, Validation loss 0.0659\n",
            "Epoch 3500, Training loss 0.0427, Validation loss 0.0589\n",
            "Epoch 4000, Training loss 0.0381, Validation loss 0.0542\n",
            "Epoch 4500, Training loss 0.0349, Validation loss 0.0509\n",
            "Epoch 5000, Training loss 0.0326, Validation loss 0.0485\n"
          ]
        }
      ]
    },
    {
      "cell_type": "code",
      "source": [
        "weights_sgd_001, bias_sgd_001"
      ],
      "metadata": {
        "id": "Dhq58p-tWsU_",
        "colab": {
          "base_uri": "https://localhost:8080/"
        },
        "outputId": "07081d8d-3971-4248-d0e1-1413d73e9dbf"
      },
      "execution_count": 913,
      "outputs": [
        {
          "output_type": "execute_result",
          "data": {
            "text/plain": [
              "(tensor([ 0.3787,  0.3344,  0.2542, -0.0463, -0.0334], requires_grad=True),\n",
              " tensor([0.0226], requires_grad=True))"
            ]
          },
          "metadata": {},
          "execution_count": 913
        }
      ]
    },
    {
      "cell_type": "code",
      "source": [
        "weights_sgd_0001, bias_sgd_0001, train_loss_sgd_0001, val_loss_sgd_0001 = model_training(X, y, epochs = 5000, optimizer = 'SGD', learning_rate = 0.0001)\n"
      ],
      "metadata": {
        "id": "rfW6X-oYWtSF",
        "colab": {
          "base_uri": "https://localhost:8080/"
        },
        "outputId": "f2983682-d8d6-4204-b3e5-f2815b90b71d"
      },
      "execution_count": 914,
      "outputs": [
        {
          "output_type": "stream",
          "name": "stdout",
          "text": [
            "Epoch 500, Training loss 1.0859, Validation loss 1.0583\n",
            "Epoch 1000, Training loss 0.8918, Validation loss 0.8700\n",
            "Epoch 1500, Training loss 0.7430, Validation loss 0.7263\n",
            "Epoch 2000, Training loss 0.6288, Validation loss 0.6166\n",
            "Epoch 2500, Training loss 0.5409, Validation loss 0.5326\n",
            "Epoch 3000, Training loss 0.4732, Validation loss 0.4683\n",
            "Epoch 3500, Training loss 0.4207, Validation loss 0.4188\n",
            "Epoch 4000, Training loss 0.3800, Validation loss 0.3806\n",
            "Epoch 4500, Training loss 0.3482, Validation loss 0.3510\n",
            "Epoch 5000, Training loss 0.3231, Validation loss 0.3280\n"
          ]
        }
      ]
    },
    {
      "cell_type": "code",
      "source": [
        "weights_sgd_0001, bias_sgd_0001"
      ],
      "metadata": {
        "id": "XVPPfUHIWyzr",
        "colab": {
          "base_uri": "https://localhost:8080/"
        },
        "outputId": "2a5e1d67-eb89-4780-d8ae-b28d0e31bd59"
      },
      "execution_count": 915,
      "outputs": [
        {
          "output_type": "execute_result",
          "data": {
            "text/plain": [
              "(tensor([0.8369, 0.7544, 0.8998, 0.7654, 0.7854], requires_grad=True),\n",
              " tensor([-0.4963], requires_grad=True))"
            ]
          },
          "metadata": {},
          "execution_count": 915
        }
      ]
    },
    {
      "cell_type": "code",
      "source": [
        "epochs = range(1, 500 * len(train_loss_sgd_1), 500)\n",
        "epochs"
      ],
      "metadata": {
        "id": "cnM_qqvwWyoL",
        "colab": {
          "base_uri": "https://localhost:8080/"
        },
        "outputId": "04730d71-751d-40af-f8b6-f6e09e2523f8"
      },
      "execution_count": 916,
      "outputs": [
        {
          "output_type": "execute_result",
          "data": {
            "text/plain": [
              "range(1, 5000, 500)"
            ]
          },
          "metadata": {},
          "execution_count": 916
        }
      ]
    },
    {
      "cell_type": "code",
      "source": [
        "# Problem 3"
      ],
      "metadata": {
        "id": "0otycv6IW5tq"
      },
      "execution_count": 957,
      "outputs": []
    },
    {
      "cell_type": "code",
      "source": [
        "# Use the URL for the raw CSV data\n",
        "\n",
        "df = pd.read_csv('/content/drive/MyDrive/Housing.csv')\n",
        "\n",
        "# Display the first 5 rows of the DataFrame\n",
        "df.head()"
      ],
      "metadata": {
        "id": "4-M7pIABW76Z",
        "colab": {
          "base_uri": "https://localhost:8080/",
          "height": 206
        },
        "outputId": "faed905d-580d-4ece-fbf2-6842732b76f3"
      },
      "execution_count": 920,
      "outputs": [
        {
          "output_type": "execute_result",
          "data": {
            "text/plain": [
              "      price  area  bedrooms  bathrooms  stories mainroad guestroom basement  \\\n",
              "0  13300000  7420         4          2        3      yes        no       no   \n",
              "1  12250000  8960         4          4        4      yes        no       no   \n",
              "2  12250000  9960         3          2        2      yes        no      yes   \n",
              "3  12215000  7500         4          2        2      yes        no      yes   \n",
              "4  11410000  7420         4          1        2      yes       yes      yes   \n",
              "\n",
              "  hotwaterheating airconditioning  parking prefarea furnishingstatus  \n",
              "0              no             yes        2      yes        furnished  \n",
              "1              no             yes        3       no        furnished  \n",
              "2              no              no        2      yes   semi-furnished  \n",
              "3              no             yes        3      yes        furnished  \n",
              "4              no             yes        2       no        furnished  "
            ],
            "text/html": [
              "\n",
              "  <div id=\"df-bfd68a80-4b7f-4839-a9be-2eeabf51dea7\" class=\"colab-df-container\">\n",
              "    <div>\n",
              "<style scoped>\n",
              "    .dataframe tbody tr th:only-of-type {\n",
              "        vertical-align: middle;\n",
              "    }\n",
              "\n",
              "    .dataframe tbody tr th {\n",
              "        vertical-align: top;\n",
              "    }\n",
              "\n",
              "    .dataframe thead th {\n",
              "        text-align: right;\n",
              "    }\n",
              "</style>\n",
              "<table border=\"1\" class=\"dataframe\">\n",
              "  <thead>\n",
              "    <tr style=\"text-align: right;\">\n",
              "      <th></th>\n",
              "      <th>price</th>\n",
              "      <th>area</th>\n",
              "      <th>bedrooms</th>\n",
              "      <th>bathrooms</th>\n",
              "      <th>stories</th>\n",
              "      <th>mainroad</th>\n",
              "      <th>guestroom</th>\n",
              "      <th>basement</th>\n",
              "      <th>hotwaterheating</th>\n",
              "      <th>airconditioning</th>\n",
              "      <th>parking</th>\n",
              "      <th>prefarea</th>\n",
              "      <th>furnishingstatus</th>\n",
              "    </tr>\n",
              "  </thead>\n",
              "  <tbody>\n",
              "    <tr>\n",
              "      <th>0</th>\n",
              "      <td>13300000</td>\n",
              "      <td>7420</td>\n",
              "      <td>4</td>\n",
              "      <td>2</td>\n",
              "      <td>3</td>\n",
              "      <td>yes</td>\n",
              "      <td>no</td>\n",
              "      <td>no</td>\n",
              "      <td>no</td>\n",
              "      <td>yes</td>\n",
              "      <td>2</td>\n",
              "      <td>yes</td>\n",
              "      <td>furnished</td>\n",
              "    </tr>\n",
              "    <tr>\n",
              "      <th>1</th>\n",
              "      <td>12250000</td>\n",
              "      <td>8960</td>\n",
              "      <td>4</td>\n",
              "      <td>4</td>\n",
              "      <td>4</td>\n",
              "      <td>yes</td>\n",
              "      <td>no</td>\n",
              "      <td>no</td>\n",
              "      <td>no</td>\n",
              "      <td>yes</td>\n",
              "      <td>3</td>\n",
              "      <td>no</td>\n",
              "      <td>furnished</td>\n",
              "    </tr>\n",
              "    <tr>\n",
              "      <th>2</th>\n",
              "      <td>12250000</td>\n",
              "      <td>9960</td>\n",
              "      <td>3</td>\n",
              "      <td>2</td>\n",
              "      <td>2</td>\n",
              "      <td>yes</td>\n",
              "      <td>no</td>\n",
              "      <td>yes</td>\n",
              "      <td>no</td>\n",
              "      <td>no</td>\n",
              "      <td>2</td>\n",
              "      <td>yes</td>\n",
              "      <td>semi-furnished</td>\n",
              "    </tr>\n",
              "    <tr>\n",
              "      <th>3</th>\n",
              "      <td>12215000</td>\n",
              "      <td>7500</td>\n",
              "      <td>4</td>\n",
              "      <td>2</td>\n",
              "      <td>2</td>\n",
              "      <td>yes</td>\n",
              "      <td>no</td>\n",
              "      <td>yes</td>\n",
              "      <td>no</td>\n",
              "      <td>yes</td>\n",
              "      <td>3</td>\n",
              "      <td>yes</td>\n",
              "      <td>furnished</td>\n",
              "    </tr>\n",
              "    <tr>\n",
              "      <th>4</th>\n",
              "      <td>11410000</td>\n",
              "      <td>7420</td>\n",
              "      <td>4</td>\n",
              "      <td>1</td>\n",
              "      <td>2</td>\n",
              "      <td>yes</td>\n",
              "      <td>yes</td>\n",
              "      <td>yes</td>\n",
              "      <td>no</td>\n",
              "      <td>yes</td>\n",
              "      <td>2</td>\n",
              "      <td>no</td>\n",
              "      <td>furnished</td>\n",
              "    </tr>\n",
              "  </tbody>\n",
              "</table>\n",
              "</div>\n",
              "    <div class=\"colab-df-buttons\">\n",
              "\n",
              "  <div class=\"colab-df-container\">\n",
              "    <button class=\"colab-df-convert\" onclick=\"convertToInteractive('df-bfd68a80-4b7f-4839-a9be-2eeabf51dea7')\"\n",
              "            title=\"Convert this dataframe to an interactive table.\"\n",
              "            style=\"display:none;\">\n",
              "\n",
              "  <svg xmlns=\"http://www.w3.org/2000/svg\" height=\"24px\" viewBox=\"0 -960 960 960\">\n",
              "    <path d=\"M120-120v-720h720v720H120Zm60-500h600v-160H180v160Zm220 220h160v-160H400v160Zm0 220h160v-160H400v160ZM180-400h160v-160H180v160Zm440 0h160v-160H620v160ZM180-180h160v-160H180v160Zm440 0h160v-160H620v160Z\"/>\n",
              "  </svg>\n",
              "    </button>\n",
              "\n",
              "  <style>\n",
              "    .colab-df-container {\n",
              "      display:flex;\n",
              "      gap: 12px;\n",
              "    }\n",
              "\n",
              "    .colab-df-convert {\n",
              "      background-color: #E8F0FE;\n",
              "      border: none;\n",
              "      border-radius: 50%;\n",
              "      cursor: pointer;\n",
              "      display: none;\n",
              "      fill: #1967D2;\n",
              "      height: 32px;\n",
              "      padding: 0 0 0 0;\n",
              "      width: 32px;\n",
              "    }\n",
              "\n",
              "    .colab-df-convert:hover {\n",
              "      background-color: #E2EBFA;\n",
              "      box-shadow: 0px 1px 2px rgba(60, 64, 67, 0.3), 0px 1px 3px 1px rgba(60, 64, 67, 0.15);\n",
              "      fill: #174EA6;\n",
              "    }\n",
              "\n",
              "    .colab-df-buttons div {\n",
              "      margin-bottom: 4px;\n",
              "    }\n",
              "\n",
              "    [theme=dark] .colab-df-convert {\n",
              "      background-color: #3B4455;\n",
              "      fill: #D2E3FC;\n",
              "    }\n",
              "\n",
              "    [theme=dark] .colab-df-convert:hover {\n",
              "      background-color: #434B5C;\n",
              "      box-shadow: 0px 1px 3px 1px rgba(0, 0, 0, 0.15);\n",
              "      filter: drop-shadow(0px 1px 2px rgba(0, 0, 0, 0.3));\n",
              "      fill: #FFFFFF;\n",
              "    }\n",
              "  </style>\n",
              "\n",
              "    <script>\n",
              "      const buttonEl =\n",
              "        document.querySelector('#df-bfd68a80-4b7f-4839-a9be-2eeabf51dea7 button.colab-df-convert');\n",
              "      buttonEl.style.display =\n",
              "        google.colab.kernel.accessAllowed ? 'block' : 'none';\n",
              "\n",
              "      async function convertToInteractive(key) {\n",
              "        const element = document.querySelector('#df-bfd68a80-4b7f-4839-a9be-2eeabf51dea7');\n",
              "        const dataTable =\n",
              "          await google.colab.kernel.invokeFunction('convertToInteractive',\n",
              "                                                    [key], {});\n",
              "        if (!dataTable) return;\n",
              "\n",
              "        const docLinkHtml = 'Like what you see? Visit the ' +\n",
              "          '<a target=\"_blank\" href=https://colab.research.google.com/notebooks/data_table.ipynb>data table notebook</a>'\n",
              "          + ' to learn more about interactive tables.';\n",
              "        element.innerHTML = '';\n",
              "        dataTable['output_type'] = 'display_data';\n",
              "        await google.colab.output.renderOutput(dataTable, element);\n",
              "        const docLink = document.createElement('div');\n",
              "        docLink.innerHTML = docLinkHtml;\n",
              "        element.appendChild(docLink);\n",
              "      }\n",
              "    </script>\n",
              "  </div>\n",
              "\n",
              "\n",
              "<div id=\"df-a01d3b58-5752-45a0-ab69-a82f2cb6ca2f\">\n",
              "  <button class=\"colab-df-quickchart\" onclick=\"quickchart('df-a01d3b58-5752-45a0-ab69-a82f2cb6ca2f')\"\n",
              "            title=\"Suggest charts\"\n",
              "            style=\"display:none;\">\n",
              "\n",
              "<svg xmlns=\"http://www.w3.org/2000/svg\" height=\"24px\"viewBox=\"0 0 24 24\"\n",
              "     width=\"24px\">\n",
              "    <g>\n",
              "        <path d=\"M19 3H5c-1.1 0-2 .9-2 2v14c0 1.1.9 2 2 2h14c1.1 0 2-.9 2-2V5c0-1.1-.9-2-2-2zM9 17H7v-7h2v7zm4 0h-2V7h2v10zm4 0h-2v-4h2v4z\"/>\n",
              "    </g>\n",
              "</svg>\n",
              "  </button>\n",
              "\n",
              "<style>\n",
              "  .colab-df-quickchart {\n",
              "      --bg-color: #E8F0FE;\n",
              "      --fill-color: #1967D2;\n",
              "      --hover-bg-color: #E2EBFA;\n",
              "      --hover-fill-color: #174EA6;\n",
              "      --disabled-fill-color: #AAA;\n",
              "      --disabled-bg-color: #DDD;\n",
              "  }\n",
              "\n",
              "  [theme=dark] .colab-df-quickchart {\n",
              "      --bg-color: #3B4455;\n",
              "      --fill-color: #D2E3FC;\n",
              "      --hover-bg-color: #434B5C;\n",
              "      --hover-fill-color: #FFFFFF;\n",
              "      --disabled-bg-color: #3B4455;\n",
              "      --disabled-fill-color: #666;\n",
              "  }\n",
              "\n",
              "  .colab-df-quickchart {\n",
              "    background-color: var(--bg-color);\n",
              "    border: none;\n",
              "    border-radius: 50%;\n",
              "    cursor: pointer;\n",
              "    display: none;\n",
              "    fill: var(--fill-color);\n",
              "    height: 32px;\n",
              "    padding: 0;\n",
              "    width: 32px;\n",
              "  }\n",
              "\n",
              "  .colab-df-quickchart:hover {\n",
              "    background-color: var(--hover-bg-color);\n",
              "    box-shadow: 0 1px 2px rgba(60, 64, 67, 0.3), 0 1px 3px 1px rgba(60, 64, 67, 0.15);\n",
              "    fill: var(--button-hover-fill-color);\n",
              "  }\n",
              "\n",
              "  .colab-df-quickchart-complete:disabled,\n",
              "  .colab-df-quickchart-complete:disabled:hover {\n",
              "    background-color: var(--disabled-bg-color);\n",
              "    fill: var(--disabled-fill-color);\n",
              "    box-shadow: none;\n",
              "  }\n",
              "\n",
              "  .colab-df-spinner {\n",
              "    border: 2px solid var(--fill-color);\n",
              "    border-color: transparent;\n",
              "    border-bottom-color: var(--fill-color);\n",
              "    animation:\n",
              "      spin 1s steps(1) infinite;\n",
              "  }\n",
              "\n",
              "  @keyframes spin {\n",
              "    0% {\n",
              "      border-color: transparent;\n",
              "      border-bottom-color: var(--fill-color);\n",
              "      border-left-color: var(--fill-color);\n",
              "    }\n",
              "    20% {\n",
              "      border-color: transparent;\n",
              "      border-left-color: var(--fill-color);\n",
              "      border-top-color: var(--fill-color);\n",
              "    }\n",
              "    30% {\n",
              "      border-color: transparent;\n",
              "      border-left-color: var(--fill-color);\n",
              "      border-top-color: var(--fill-color);\n",
              "      border-right-color: var(--fill-color);\n",
              "    }\n",
              "    40% {\n",
              "      border-color: transparent;\n",
              "      border-right-color: var(--fill-color);\n",
              "      border-top-color: var(--fill-color);\n",
              "    }\n",
              "    60% {\n",
              "      border-color: transparent;\n",
              "      border-right-color: var(--fill-color);\n",
              "    }\n",
              "    80% {\n",
              "      border-color: transparent;\n",
              "      border-right-color: var(--fill-color);\n",
              "      border-bottom-color: var(--fill-color);\n",
              "    }\n",
              "    90% {\n",
              "      border-color: transparent;\n",
              "      border-bottom-color: var(--fill-color);\n",
              "    }\n",
              "  }\n",
              "</style>\n",
              "\n",
              "  <script>\n",
              "    async function quickchart(key) {\n",
              "      const quickchartButtonEl =\n",
              "        document.querySelector('#' + key + ' button');\n",
              "      quickchartButtonEl.disabled = true;  // To prevent multiple clicks.\n",
              "      quickchartButtonEl.classList.add('colab-df-spinner');\n",
              "      try {\n",
              "        const charts = await google.colab.kernel.invokeFunction(\n",
              "            'suggestCharts', [key], {});\n",
              "      } catch (error) {\n",
              "        console.error('Error during call to suggestCharts:', error);\n",
              "      }\n",
              "      quickchartButtonEl.classList.remove('colab-df-spinner');\n",
              "      quickchartButtonEl.classList.add('colab-df-quickchart-complete');\n",
              "    }\n",
              "    (() => {\n",
              "      let quickchartButtonEl =\n",
              "        document.querySelector('#df-a01d3b58-5752-45a0-ab69-a82f2cb6ca2f button');\n",
              "      quickchartButtonEl.style.display =\n",
              "        google.colab.kernel.accessAllowed ? 'block' : 'none';\n",
              "    })();\n",
              "  </script>\n",
              "</div>\n",
              "    </div>\n",
              "  </div>\n"
            ]
          },
          "metadata": {},
          "execution_count": 920
        }
      ]
    },
    {
      "cell_type": "code",
      "source": [
        "df['furnishingstatus'].value_counts().unique"
      ],
      "metadata": {
        "id": "IwHVstrMW8nN",
        "colab": {
          "base_uri": "https://localhost:8080/"
        },
        "outputId": "516bad6c-5bd0-4dd1-ecbb-48b4fc57b00c"
      },
      "execution_count": 921,
      "outputs": [
        {
          "output_type": "execute_result",
          "data": {
            "text/plain": [
              "<bound method Series.unique of semi-furnished    227\n",
              "unfurnished       178\n",
              "furnished         140\n",
              "Name: furnishingstatus, dtype: int64>"
            ]
          },
          "metadata": {},
          "execution_count": 921
        }
      ]
    },
    {
      "cell_type": "code",
      "source": [
        "df = pd.get_dummies(df, columns=['furnishingstatus'], drop_first=False)\n",
        "df = df.drop('furnishingstatus_semi-furnished', axis=1)"
      ],
      "metadata": {
        "id": "7yNBkblyW9JQ"
      },
      "execution_count": 922,
      "outputs": []
    },
    {
      "cell_type": "code",
      "source": [
        "df.head()"
      ],
      "metadata": {
        "id": "Rib1eFUbdb1S",
        "colab": {
          "base_uri": "https://localhost:8080/",
          "height": 206
        },
        "outputId": "3017dd99-3c3e-4ade-9f02-4cd592842624"
      },
      "execution_count": 923,
      "outputs": [
        {
          "output_type": "execute_result",
          "data": {
            "text/plain": [
              "      price  area  bedrooms  bathrooms  stories mainroad guestroom basement  \\\n",
              "0  13300000  7420         4          2        3      yes        no       no   \n",
              "1  12250000  8960         4          4        4      yes        no       no   \n",
              "2  12250000  9960         3          2        2      yes        no      yes   \n",
              "3  12215000  7500         4          2        2      yes        no      yes   \n",
              "4  11410000  7420         4          1        2      yes       yes      yes   \n",
              "\n",
              "  hotwaterheating airconditioning  parking prefarea  \\\n",
              "0              no             yes        2      yes   \n",
              "1              no             yes        3       no   \n",
              "2              no              no        2      yes   \n",
              "3              no             yes        3      yes   \n",
              "4              no             yes        2       no   \n",
              "\n",
              "   furnishingstatus_furnished  furnishingstatus_unfurnished  \n",
              "0                           1                             0  \n",
              "1                           1                             0  \n",
              "2                           0                             0  \n",
              "3                           1                             0  \n",
              "4                           1                             0  "
            ],
            "text/html": [
              "\n",
              "  <div id=\"df-f9ef5957-8d05-4c07-bd8b-66e0a874e80b\" class=\"colab-df-container\">\n",
              "    <div>\n",
              "<style scoped>\n",
              "    .dataframe tbody tr th:only-of-type {\n",
              "        vertical-align: middle;\n",
              "    }\n",
              "\n",
              "    .dataframe tbody tr th {\n",
              "        vertical-align: top;\n",
              "    }\n",
              "\n",
              "    .dataframe thead th {\n",
              "        text-align: right;\n",
              "    }\n",
              "</style>\n",
              "<table border=\"1\" class=\"dataframe\">\n",
              "  <thead>\n",
              "    <tr style=\"text-align: right;\">\n",
              "      <th></th>\n",
              "      <th>price</th>\n",
              "      <th>area</th>\n",
              "      <th>bedrooms</th>\n",
              "      <th>bathrooms</th>\n",
              "      <th>stories</th>\n",
              "      <th>mainroad</th>\n",
              "      <th>guestroom</th>\n",
              "      <th>basement</th>\n",
              "      <th>hotwaterheating</th>\n",
              "      <th>airconditioning</th>\n",
              "      <th>parking</th>\n",
              "      <th>prefarea</th>\n",
              "      <th>furnishingstatus_furnished</th>\n",
              "      <th>furnishingstatus_unfurnished</th>\n",
              "    </tr>\n",
              "  </thead>\n",
              "  <tbody>\n",
              "    <tr>\n",
              "      <th>0</th>\n",
              "      <td>13300000</td>\n",
              "      <td>7420</td>\n",
              "      <td>4</td>\n",
              "      <td>2</td>\n",
              "      <td>3</td>\n",
              "      <td>yes</td>\n",
              "      <td>no</td>\n",
              "      <td>no</td>\n",
              "      <td>no</td>\n",
              "      <td>yes</td>\n",
              "      <td>2</td>\n",
              "      <td>yes</td>\n",
              "      <td>1</td>\n",
              "      <td>0</td>\n",
              "    </tr>\n",
              "    <tr>\n",
              "      <th>1</th>\n",
              "      <td>12250000</td>\n",
              "      <td>8960</td>\n",
              "      <td>4</td>\n",
              "      <td>4</td>\n",
              "      <td>4</td>\n",
              "      <td>yes</td>\n",
              "      <td>no</td>\n",
              "      <td>no</td>\n",
              "      <td>no</td>\n",
              "      <td>yes</td>\n",
              "      <td>3</td>\n",
              "      <td>no</td>\n",
              "      <td>1</td>\n",
              "      <td>0</td>\n",
              "    </tr>\n",
              "    <tr>\n",
              "      <th>2</th>\n",
              "      <td>12250000</td>\n",
              "      <td>9960</td>\n",
              "      <td>3</td>\n",
              "      <td>2</td>\n",
              "      <td>2</td>\n",
              "      <td>yes</td>\n",
              "      <td>no</td>\n",
              "      <td>yes</td>\n",
              "      <td>no</td>\n",
              "      <td>no</td>\n",
              "      <td>2</td>\n",
              "      <td>yes</td>\n",
              "      <td>0</td>\n",
              "      <td>0</td>\n",
              "    </tr>\n",
              "    <tr>\n",
              "      <th>3</th>\n",
              "      <td>12215000</td>\n",
              "      <td>7500</td>\n",
              "      <td>4</td>\n",
              "      <td>2</td>\n",
              "      <td>2</td>\n",
              "      <td>yes</td>\n",
              "      <td>no</td>\n",
              "      <td>yes</td>\n",
              "      <td>no</td>\n",
              "      <td>yes</td>\n",
              "      <td>3</td>\n",
              "      <td>yes</td>\n",
              "      <td>1</td>\n",
              "      <td>0</td>\n",
              "    </tr>\n",
              "    <tr>\n",
              "      <th>4</th>\n",
              "      <td>11410000</td>\n",
              "      <td>7420</td>\n",
              "      <td>4</td>\n",
              "      <td>1</td>\n",
              "      <td>2</td>\n",
              "      <td>yes</td>\n",
              "      <td>yes</td>\n",
              "      <td>yes</td>\n",
              "      <td>no</td>\n",
              "      <td>yes</td>\n",
              "      <td>2</td>\n",
              "      <td>no</td>\n",
              "      <td>1</td>\n",
              "      <td>0</td>\n",
              "    </tr>\n",
              "  </tbody>\n",
              "</table>\n",
              "</div>\n",
              "    <div class=\"colab-df-buttons\">\n",
              "\n",
              "  <div class=\"colab-df-container\">\n",
              "    <button class=\"colab-df-convert\" onclick=\"convertToInteractive('df-f9ef5957-8d05-4c07-bd8b-66e0a874e80b')\"\n",
              "            title=\"Convert this dataframe to an interactive table.\"\n",
              "            style=\"display:none;\">\n",
              "\n",
              "  <svg xmlns=\"http://www.w3.org/2000/svg\" height=\"24px\" viewBox=\"0 -960 960 960\">\n",
              "    <path d=\"M120-120v-720h720v720H120Zm60-500h600v-160H180v160Zm220 220h160v-160H400v160Zm0 220h160v-160H400v160ZM180-400h160v-160H180v160Zm440 0h160v-160H620v160ZM180-180h160v-160H180v160Zm440 0h160v-160H620v160Z\"/>\n",
              "  </svg>\n",
              "    </button>\n",
              "\n",
              "  <style>\n",
              "    .colab-df-container {\n",
              "      display:flex;\n",
              "      gap: 12px;\n",
              "    }\n",
              "\n",
              "    .colab-df-convert {\n",
              "      background-color: #E8F0FE;\n",
              "      border: none;\n",
              "      border-radius: 50%;\n",
              "      cursor: pointer;\n",
              "      display: none;\n",
              "      fill: #1967D2;\n",
              "      height: 32px;\n",
              "      padding: 0 0 0 0;\n",
              "      width: 32px;\n",
              "    }\n",
              "\n",
              "    .colab-df-convert:hover {\n",
              "      background-color: #E2EBFA;\n",
              "      box-shadow: 0px 1px 2px rgba(60, 64, 67, 0.3), 0px 1px 3px 1px rgba(60, 64, 67, 0.15);\n",
              "      fill: #174EA6;\n",
              "    }\n",
              "\n",
              "    .colab-df-buttons div {\n",
              "      margin-bottom: 4px;\n",
              "    }\n",
              "\n",
              "    [theme=dark] .colab-df-convert {\n",
              "      background-color: #3B4455;\n",
              "      fill: #D2E3FC;\n",
              "    }\n",
              "\n",
              "    [theme=dark] .colab-df-convert:hover {\n",
              "      background-color: #434B5C;\n",
              "      box-shadow: 0px 1px 3px 1px rgba(0, 0, 0, 0.15);\n",
              "      filter: drop-shadow(0px 1px 2px rgba(0, 0, 0, 0.3));\n",
              "      fill: #FFFFFF;\n",
              "    }\n",
              "  </style>\n",
              "\n",
              "    <script>\n",
              "      const buttonEl =\n",
              "        document.querySelector('#df-f9ef5957-8d05-4c07-bd8b-66e0a874e80b button.colab-df-convert');\n",
              "      buttonEl.style.display =\n",
              "        google.colab.kernel.accessAllowed ? 'block' : 'none';\n",
              "\n",
              "      async function convertToInteractive(key) {\n",
              "        const element = document.querySelector('#df-f9ef5957-8d05-4c07-bd8b-66e0a874e80b');\n",
              "        const dataTable =\n",
              "          await google.colab.kernel.invokeFunction('convertToInteractive',\n",
              "                                                    [key], {});\n",
              "        if (!dataTable) return;\n",
              "\n",
              "        const docLinkHtml = 'Like what you see? Visit the ' +\n",
              "          '<a target=\"_blank\" href=https://colab.research.google.com/notebooks/data_table.ipynb>data table notebook</a>'\n",
              "          + ' to learn more about interactive tables.';\n",
              "        element.innerHTML = '';\n",
              "        dataTable['output_type'] = 'display_data';\n",
              "        await google.colab.output.renderOutput(dataTable, element);\n",
              "        const docLink = document.createElement('div');\n",
              "        docLink.innerHTML = docLinkHtml;\n",
              "        element.appendChild(docLink);\n",
              "      }\n",
              "    </script>\n",
              "  </div>\n",
              "\n",
              "\n",
              "<div id=\"df-9fe7e11e-f8b1-4973-86c2-532c7f8729e0\">\n",
              "  <button class=\"colab-df-quickchart\" onclick=\"quickchart('df-9fe7e11e-f8b1-4973-86c2-532c7f8729e0')\"\n",
              "            title=\"Suggest charts\"\n",
              "            style=\"display:none;\">\n",
              "\n",
              "<svg xmlns=\"http://www.w3.org/2000/svg\" height=\"24px\"viewBox=\"0 0 24 24\"\n",
              "     width=\"24px\">\n",
              "    <g>\n",
              "        <path d=\"M19 3H5c-1.1 0-2 .9-2 2v14c0 1.1.9 2 2 2h14c1.1 0 2-.9 2-2V5c0-1.1-.9-2-2-2zM9 17H7v-7h2v7zm4 0h-2V7h2v10zm4 0h-2v-4h2v4z\"/>\n",
              "    </g>\n",
              "</svg>\n",
              "  </button>\n",
              "\n",
              "<style>\n",
              "  .colab-df-quickchart {\n",
              "      --bg-color: #E8F0FE;\n",
              "      --fill-color: #1967D2;\n",
              "      --hover-bg-color: #E2EBFA;\n",
              "      --hover-fill-color: #174EA6;\n",
              "      --disabled-fill-color: #AAA;\n",
              "      --disabled-bg-color: #DDD;\n",
              "  }\n",
              "\n",
              "  [theme=dark] .colab-df-quickchart {\n",
              "      --bg-color: #3B4455;\n",
              "      --fill-color: #D2E3FC;\n",
              "      --hover-bg-color: #434B5C;\n",
              "      --hover-fill-color: #FFFFFF;\n",
              "      --disabled-bg-color: #3B4455;\n",
              "      --disabled-fill-color: #666;\n",
              "  }\n",
              "\n",
              "  .colab-df-quickchart {\n",
              "    background-color: var(--bg-color);\n",
              "    border: none;\n",
              "    border-radius: 50%;\n",
              "    cursor: pointer;\n",
              "    display: none;\n",
              "    fill: var(--fill-color);\n",
              "    height: 32px;\n",
              "    padding: 0;\n",
              "    width: 32px;\n",
              "  }\n",
              "\n",
              "  .colab-df-quickchart:hover {\n",
              "    background-color: var(--hover-bg-color);\n",
              "    box-shadow: 0 1px 2px rgba(60, 64, 67, 0.3), 0 1px 3px 1px rgba(60, 64, 67, 0.15);\n",
              "    fill: var(--button-hover-fill-color);\n",
              "  }\n",
              "\n",
              "  .colab-df-quickchart-complete:disabled,\n",
              "  .colab-df-quickchart-complete:disabled:hover {\n",
              "    background-color: var(--disabled-bg-color);\n",
              "    fill: var(--disabled-fill-color);\n",
              "    box-shadow: none;\n",
              "  }\n",
              "\n",
              "  .colab-df-spinner {\n",
              "    border: 2px solid var(--fill-color);\n",
              "    border-color: transparent;\n",
              "    border-bottom-color: var(--fill-color);\n",
              "    animation:\n",
              "      spin 1s steps(1) infinite;\n",
              "  }\n",
              "\n",
              "  @keyframes spin {\n",
              "    0% {\n",
              "      border-color: transparent;\n",
              "      border-bottom-color: var(--fill-color);\n",
              "      border-left-color: var(--fill-color);\n",
              "    }\n",
              "    20% {\n",
              "      border-color: transparent;\n",
              "      border-left-color: var(--fill-color);\n",
              "      border-top-color: var(--fill-color);\n",
              "    }\n",
              "    30% {\n",
              "      border-color: transparent;\n",
              "      border-left-color: var(--fill-color);\n",
              "      border-top-color: var(--fill-color);\n",
              "      border-right-color: var(--fill-color);\n",
              "    }\n",
              "    40% {\n",
              "      border-color: transparent;\n",
              "      border-right-color: var(--fill-color);\n",
              "      border-top-color: var(--fill-color);\n",
              "    }\n",
              "    60% {\n",
              "      border-color: transparent;\n",
              "      border-right-color: var(--fill-color);\n",
              "    }\n",
              "    80% {\n",
              "      border-color: transparent;\n",
              "      border-right-color: var(--fill-color);\n",
              "      border-bottom-color: var(--fill-color);\n",
              "    }\n",
              "    90% {\n",
              "      border-color: transparent;\n",
              "      border-bottom-color: var(--fill-color);\n",
              "    }\n",
              "  }\n",
              "</style>\n",
              "\n",
              "  <script>\n",
              "    async function quickchart(key) {\n",
              "      const quickchartButtonEl =\n",
              "        document.querySelector('#' + key + ' button');\n",
              "      quickchartButtonEl.disabled = true;  // To prevent multiple clicks.\n",
              "      quickchartButtonEl.classList.add('colab-df-spinner');\n",
              "      try {\n",
              "        const charts = await google.colab.kernel.invokeFunction(\n",
              "            'suggestCharts', [key], {});\n",
              "      } catch (error) {\n",
              "        console.error('Error during call to suggestCharts:', error);\n",
              "      }\n",
              "      quickchartButtonEl.classList.remove('colab-df-spinner');\n",
              "      quickchartButtonEl.classList.add('colab-df-quickchart-complete');\n",
              "    }\n",
              "    (() => {\n",
              "      let quickchartButtonEl =\n",
              "        document.querySelector('#df-9fe7e11e-f8b1-4973-86c2-532c7f8729e0 button');\n",
              "      quickchartButtonEl.style.display =\n",
              "        google.colab.kernel.accessAllowed ? 'block' : 'none';\n",
              "    })();\n",
              "  </script>\n",
              "</div>\n",
              "    </div>\n",
              "  </div>\n"
            ]
          },
          "metadata": {},
          "execution_count": 923
        }
      ]
    },
    {
      "cell_type": "code",
      "source": [
        "binary_columns = df.select_dtypes(include=['object']).columns\n",
        "binary_columns\n"
      ],
      "metadata": {
        "id": "oaaXOKF0dbx7",
        "colab": {
          "base_uri": "https://localhost:8080/"
        },
        "outputId": "72592606-2af1-4c28-b5ff-3f12856c2e3f"
      },
      "execution_count": 924,
      "outputs": [
        {
          "output_type": "execute_result",
          "data": {
            "text/plain": [
              "Index(['mainroad', 'guestroom', 'basement', 'hotwaterheating',\n",
              "       'airconditioning', 'prefarea'],\n",
              "      dtype='object')"
            ]
          },
          "metadata": {},
          "execution_count": 924
        }
      ]
    },
    {
      "cell_type": "code",
      "source": [
        "df[binary_columns] = df[binary_columns].apply(lambda x: x.map({'yes': 1, 'no': 0}))"
      ],
      "metadata": {
        "id": "zpdnL6Kldbu1"
      },
      "execution_count": 925,
      "outputs": []
    },
    {
      "cell_type": "code",
      "source": [
        "df.info()"
      ],
      "metadata": {
        "id": "Gr1kjKkzdbrd",
        "colab": {
          "base_uri": "https://localhost:8080/"
        },
        "outputId": "ed64238b-9a1c-4d38-cc8c-51c5738e3eaa"
      },
      "execution_count": 926,
      "outputs": [
        {
          "output_type": "stream",
          "name": "stdout",
          "text": [
            "<class 'pandas.core.frame.DataFrame'>\n",
            "RangeIndex: 545 entries, 0 to 544\n",
            "Data columns (total 14 columns):\n",
            " #   Column                        Non-Null Count  Dtype\n",
            "---  ------                        --------------  -----\n",
            " 0   price                         545 non-null    int64\n",
            " 1   area                          545 non-null    int64\n",
            " 2   bedrooms                      545 non-null    int64\n",
            " 3   bathrooms                     545 non-null    int64\n",
            " 4   stories                       545 non-null    int64\n",
            " 5   mainroad                      545 non-null    int64\n",
            " 6   guestroom                     545 non-null    int64\n",
            " 7   basement                      545 non-null    int64\n",
            " 8   hotwaterheating               545 non-null    int64\n",
            " 9   airconditioning               545 non-null    int64\n",
            " 10  parking                       545 non-null    int64\n",
            " 11  prefarea                      545 non-null    int64\n",
            " 12  furnishingstatus_furnished    545 non-null    uint8\n",
            " 13  furnishingstatus_unfurnished  545 non-null    uint8\n",
            "dtypes: int64(12), uint8(2)\n",
            "memory usage: 52.3 KB\n"
          ]
        }
      ]
    },
    {
      "cell_type": "code",
      "source": [
        "scaler_x = MinMaxScaler()\n",
        "scaler_y = MinMaxScaler()"
      ],
      "metadata": {
        "id": "RdZgIP0KdboZ"
      },
      "execution_count": 927,
      "outputs": []
    },
    {
      "cell_type": "code",
      "source": [
        "X = df.drop('price', axis = 1)\n",
        "y = df[['price']]"
      ],
      "metadata": {
        "id": "5RcLvcj1dblQ"
      },
      "execution_count": 928,
      "outputs": []
    },
    {
      "cell_type": "code",
      "source": [
        "X = pd.DataFrame(scaler_x.fit_transform(X), columns=X.columns, index=X.index).values\n",
        "y = pd.DataFrame(scaler_y.fit_transform(y), columns=y.columns, index=y.index).values"
      ],
      "metadata": {
        "id": "6dklYtPddbh_"
      },
      "execution_count": 929,
      "outputs": []
    },
    {
      "cell_type": "code",
      "source": [
        "weights_adam_1, bias_adam_1, train_loss_adam_1, val_loss_adam_1 = model_training(X, y, epochs = 5000, optimizer = 'ADAM', learning_rate = 0.01)\n"
      ],
      "metadata": {
        "id": "hLbJ-jS6dbet",
        "colab": {
          "base_uri": "https://localhost:8080/"
        },
        "outputId": "a2d85b14-377c-43b7-b97a-d846d984b547"
      },
      "execution_count": 930,
      "outputs": [
        {
          "output_type": "stream",
          "name": "stdout",
          "text": [
            "Epoch 500, Training loss 0.0605, Validation loss 0.0784\n",
            "Epoch 1000, Training loss 0.0353, Validation loss 0.0518\n",
            "Epoch 1500, Training loss 0.0273, Validation loss 0.0433\n",
            "Epoch 2000, Training loss 0.0244, Validation loss 0.0401\n",
            "Epoch 2500, Training loss 0.0234, Validation loss 0.0390\n",
            "Epoch 3000, Training loss 0.0232, Validation loss 0.0387\n",
            "Epoch 3500, Training loss 0.0231, Validation loss 0.0386\n",
            "Epoch 4000, Training loss 0.0231, Validation loss 0.0386\n",
            "Epoch 4500, Training loss 0.0231, Validation loss 0.0386\n",
            "Epoch 5000, Training loss 0.0231, Validation loss 0.0386\n"
          ]
        }
      ]
    },
    {
      "cell_type": "code",
      "source": [
        "weights_adam_1, bias_adam_1"
      ],
      "metadata": {
        "id": "E2gxrrYWdbbG",
        "colab": {
          "base_uri": "https://localhost:8080/"
        },
        "outputId": "3fd73bec-1f9e-4ed2-b8be-af3e1ab19058"
      },
      "execution_count": 931,
      "outputs": [
        {
          "output_type": "execute_result",
          "data": {
            "text/plain": [
              "(tensor([-2.0866e-07,  4.0596e-05, -1.0004e-05, -6.8162e-06,  6.8431e-06,\n",
              "          1.9621e-07, -6.6898e-07,  8.3814e-07, -1.6544e-08, -1.2367e-06,\n",
              "         -1.3017e-06,  1.0794e-06,  2.2106e-06], requires_grad=True),\n",
              " tensor([0.2560], requires_grad=True))"
            ]
          },
          "metadata": {},
          "execution_count": 931
        }
      ]
    },
    {
      "cell_type": "code",
      "source": [
        "weights_adam_01, bias_adam_01, train_loss_adam_01, val_loss_adam_01 = model_training(X, y, epochs = 5000, optimizer = 'ADAM', learning_rate = 0.002)\n"
      ],
      "metadata": {
        "id": "tYusJUhedbQd",
        "colab": {
          "base_uri": "https://localhost:8080/"
        },
        "outputId": "74de6f80-9f3a-453f-b40d-ed2133e41b8c"
      },
      "execution_count": 932,
      "outputs": [
        {
          "output_type": "stream",
          "name": "stdout",
          "text": [
            "Epoch 500, Training loss 0.4713, Validation loss 0.4656\n",
            "Epoch 1000, Training loss 0.1191, Validation loss 0.1386\n",
            "Epoch 1500, Training loss 0.0860, Validation loss 0.1051\n",
            "Epoch 2000, Training loss 0.0657, Validation loss 0.0839\n",
            "Epoch 2500, Training loss 0.0526, Validation loss 0.0701\n",
            "Epoch 3000, Training loss 0.0436, Validation loss 0.0606\n",
            "Epoch 3500, Training loss 0.0372, Validation loss 0.0538\n",
            "Epoch 4000, Training loss 0.0324, Validation loss 0.0487\n",
            "Epoch 4500, Training loss 0.0290, Validation loss 0.0450\n",
            "Epoch 5000, Training loss 0.0266, Validation loss 0.0425\n"
          ]
        }
      ]
    },
    {
      "cell_type": "code",
      "source": [
        "weights_adam_01, bias_adam_01"
      ],
      "metadata": {
        "id": "UQ6JCPJVdbE-",
        "colab": {
          "base_uri": "https://localhost:8080/"
        },
        "outputId": "391882f6-6a89-445e-f10c-b68d3c613f74"
      },
      "execution_count": 933,
      "outputs": [
        {
          "output_type": "execute_result",
          "data": {
            "text/plain": [
              "(tensor([ 0.0836,  0.3351, -0.0917, -0.0311,  0.1028, -0.0087,  0.0115,  0.0118,\n",
              "         -0.0073, -0.0207, -0.0215,  0.0130,  0.0351], requires_grad=True),\n",
              " tensor([0.0188], requires_grad=True))"
            ]
          },
          "metadata": {},
          "execution_count": 933
        }
      ]
    },
    {
      "cell_type": "code",
      "source": [
        "weights_adam_001, bias_adam_001, train_loss_adam_001, val_loss_adam_001 = model_training(X, y, epochs = 5000, optimizer = 'ADAM', learning_rate = 0.003)\n"
      ],
      "metadata": {
        "id": "LVdn3LSida4X",
        "colab": {
          "base_uri": "https://localhost:8080/"
        },
        "outputId": "64e7e2aa-ded7-4679-eee8-14ade249e351"
      },
      "execution_count": 945,
      "outputs": [
        {
          "output_type": "stream",
          "name": "stdout",
          "text": [
            "Epoch 500, Training loss 0.1558, Validation loss 0.1711\n",
            "Epoch 1000, Training loss 0.0886, Validation loss 0.1077\n",
            "Epoch 1500, Training loss 0.0621, Validation loss 0.0801\n",
            "Epoch 2000, Training loss 0.0476, Validation loss 0.0648\n",
            "Epoch 2500, Training loss 0.0387, Validation loss 0.0554\n",
            "Epoch 3000, Training loss 0.0328, Validation loss 0.0491\n",
            "Epoch 3500, Training loss 0.0288, Validation loss 0.0449\n",
            "Epoch 4000, Training loss 0.0263, Validation loss 0.0422\n",
            "Epoch 4500, Training loss 0.0247, Validation loss 0.0405\n",
            "Epoch 5000, Training loss 0.0238, Validation loss 0.0395\n"
          ]
        }
      ]
    },
    {
      "cell_type": "code",
      "source": [
        "weights_adam_001, bias_adam_001, train_loss_adam_001, val_loss_adam_001 = model_training(X, y, epochs = 5000, optimizer = 'ADAM', learning_rate = 0.0001)\n"
      ],
      "metadata": {
        "colab": {
          "base_uri": "https://localhost:8080/"
        },
        "id": "FYMMXmWU2SgY",
        "outputId": "cc9a2724-ca8b-49b8-b4f6-ea36882391f6"
      },
      "execution_count": 946,
      "outputs": [
        {
          "output_type": "stream",
          "name": "stdout",
          "text": [
            "Epoch 500, Training loss 13.0457, Validation loss 12.8904\n",
            "Epoch 1000, Training loss 11.3789, Validation loss 11.2355\n",
            "Epoch 1500, Training loss 9.8671, Validation loss 9.7352\n",
            "Epoch 2000, Training loss 8.4970, Validation loss 8.3764\n",
            "Epoch 2500, Training loss 7.2580, Validation loss 7.1485\n",
            "Epoch 3000, Training loss 6.1414, Validation loss 6.0428\n",
            "Epoch 3500, Training loss 5.1404, Validation loss 5.0523\n",
            "Epoch 4000, Training loss 4.2489, Validation loss 4.1712\n",
            "Epoch 4500, Training loss 3.4619, Validation loss 3.3943\n",
            "Epoch 5000, Training loss 2.7748, Validation loss 2.7171\n"
          ]
        }
      ]
    },
    {
      "cell_type": "code",
      "source": [
        "weights_adam_0001, bias_adam_0001"
      ],
      "metadata": {
        "colab": {
          "base_uri": "https://localhost:8080/"
        },
        "id": "vl4KCJ6T2aZt",
        "outputId": "59ec177b-3314-41cf-9034-9d7fb5fb8993"
      },
      "execution_count": 947,
      "outputs": [
        {
          "output_type": "execute_result",
          "data": {
            "text/plain": [
              "(tensor([0.5580, 0.5592, 0.5553, 0.5571, 0.5588, 0.5530, 0.5554, 0.5571, 0.5542,\n",
              "         0.5563, 0.5540, 0.5553, 0.5615], requires_grad=True),\n",
              " tensor([-0.4394], requires_grad=True))"
            ]
          },
          "metadata": {},
          "execution_count": 947
        }
      ]
    },
    {
      "cell_type": "code",
      "source": [
        "weights_sgd_1, bias_sgd_1, train_loss_sgd_1, val_loss_sgd_1 = model_training(X, y, epochs = 5000, optimizer = 'SGD', learning_rate = 0.01)\n",
        ""
      ],
      "metadata": {
        "colab": {
          "base_uri": "https://localhost:8080/"
        },
        "id": "Pa09cuXP2vYj",
        "outputId": "bc7bb409-074e-4c6e-8845-bf1930e4c9d8"
      },
      "execution_count": 948,
      "outputs": [
        {
          "output_type": "stream",
          "name": "stdout",
          "text": [
            "Epoch 500, Training loss 0.1272, Validation loss 0.1449\n",
            "Epoch 1000, Training loss 0.0591, Validation loss 0.0757\n",
            "Epoch 1500, Training loss 0.0386, Validation loss 0.0547\n",
            "Epoch 2000, Training loss 0.0308, Validation loss 0.0467\n",
            "Epoch 2500, Training loss 0.0274, Validation loss 0.0431\n",
            "Epoch 3000, Training loss 0.0257, Validation loss 0.0413\n",
            "Epoch 3500, Training loss 0.0247, Validation loss 0.0403\n",
            "Epoch 4000, Training loss 0.0242, Validation loss 0.0397\n",
            "Epoch 4500, Training loss 0.0238, Validation loss 0.0394\n",
            "Epoch 5000, Training loss 0.0236, Validation loss 0.0391\n"
          ]
        }
      ]
    },
    {
      "cell_type": "code",
      "source": [
        "weights_sgd_1, bias_sgd_1"
      ],
      "metadata": {
        "colab": {
          "base_uri": "https://localhost:8080/"
        },
        "id": "stRe1jAQ20pL",
        "outputId": "0070f493-fe2e-44c0-abb5-ac96eb2c92d1"
      },
      "execution_count": 949,
      "outputs": [
        {
          "output_type": "execute_result",
          "data": {
            "text/plain": [
              "(tensor([ 0.0908,  0.1152,  0.0146, -0.0318,  0.0100, -0.0054, -0.0024,  0.0098,\n",
              "         -0.0027, -0.0278, -0.0067,  0.0036,  0.0068], requires_grad=True),\n",
              " tensor([0.1933], requires_grad=True))"
            ]
          },
          "metadata": {},
          "execution_count": 949
        }
      ]
    },
    {
      "cell_type": "code",
      "source": [
        "weights_sgd_1, bias_sgd_1, train_loss_sgd_1, val_loss_sgd_1 = model_training(X, y, epochs = 5000, optimizer = 'SGD', learning_rate = 0.002)\n",
        ""
      ],
      "metadata": {
        "colab": {
          "base_uri": "https://localhost:8080/"
        },
        "id": "vSZm2wlb25Qz",
        "outputId": "c9896bf7-8f8f-4cea-b81e-401562fa68f2"
      },
      "execution_count": 950,
      "outputs": [
        {
          "output_type": "stream",
          "name": "stdout",
          "text": [
            "Epoch 500, Training loss 0.0591, Validation loss 0.0757\n",
            "Epoch 1000, Training loss 0.0308, Validation loss 0.0467\n",
            "Epoch 1500, Training loss 0.0257, Validation loss 0.0413\n",
            "Epoch 2000, Training loss 0.0242, Validation loss 0.0397\n",
            "Epoch 2500, Training loss 0.0236, Validation loss 0.0391\n",
            "Epoch 3000, Training loss 0.0233, Validation loss 0.0388\n",
            "Epoch 3500, Training loss 0.0232, Validation loss 0.0387\n",
            "Epoch 4000, Training loss 0.0232, Validation loss 0.0386\n",
            "Epoch 4500, Training loss 0.0231, Validation loss 0.0386\n",
            "Epoch 5000, Training loss 0.0231, Validation loss 0.0386\n"
          ]
        }
      ]
    },
    {
      "cell_type": "code",
      "source": [
        "weights_sgd_01, bias_sgd_01"
      ],
      "metadata": {
        "colab": {
          "base_uri": "https://localhost:8080/"
        },
        "id": "B3dTCHOD29XD",
        "outputId": "78f4f940-51f8-4133-deb3-5ccc98f049e8"
      },
      "execution_count": 951,
      "outputs": [
        {
          "output_type": "execute_result",
          "data": {
            "text/plain": [
              "(tensor([ 0.4190,  0.3811,  0.3898,  0.0902,  0.1185, -0.0021,  0.0461,  0.3843,\n",
              "         -0.0755,  0.0711, -0.0039,  0.0898,  0.2047], requires_grad=True),\n",
              " tensor([-0.2905], requires_grad=True))"
            ]
          },
          "metadata": {},
          "execution_count": 951
        }
      ]
    },
    {
      "cell_type": "code",
      "source": [
        "weights_sgd_001, bias_sgd_001, train_loss_sgd_001, val_loss_sgd_001 = model_training(X, y, epochs = 5000, optimizer = 'SGD', learning_rate = 0.003)\n",
        ""
      ],
      "metadata": {
        "colab": {
          "base_uri": "https://localhost:8080/"
        },
        "id": "kk-RlHCA3BeZ",
        "outputId": "d7fe76ec-2b0f-4ac6-b7dc-4b334a12ad29"
      },
      "execution_count": 952,
      "outputs": [
        {
          "output_type": "stream",
          "name": "stdout",
          "text": [
            "Epoch 500, Training loss 0.3472, Validation loss 0.3674\n",
            "Epoch 1000, Training loss 0.2058, Validation loss 0.2244\n",
            "Epoch 1500, Training loss 0.1413, Validation loss 0.1592\n",
            "Epoch 2000, Training loss 0.1050, Validation loss 0.1223\n",
            "Epoch 2500, Training loss 0.0820, Validation loss 0.0990\n",
            "Epoch 3000, Training loss 0.0666, Validation loss 0.0833\n",
            "Epoch 3500, Training loss 0.0559, Validation loss 0.0724\n",
            "Epoch 4000, Training loss 0.0483, Validation loss 0.0646\n",
            "Epoch 4500, Training loss 0.0427, Validation loss 0.0589\n",
            "Epoch 5000, Training loss 0.0386, Validation loss 0.0547\n"
          ]
        }
      ]
    },
    {
      "cell_type": "code",
      "source": [
        "weights_sgd_001, bias_sgd_001"
      ],
      "metadata": {
        "colab": {
          "base_uri": "https://localhost:8080/"
        },
        "id": "AtWjGmgm3HAZ",
        "outputId": "c02c704f-1bff-4920-e231-c9128e756802"
      },
      "execution_count": 953,
      "outputs": [
        {
          "output_type": "execute_result",
          "data": {
            "text/plain": [
              "(tensor([ 0.3427,  0.3288,  0.2730,  0.0075,  0.0956, -0.0216,  0.0293,  0.2367,\n",
              "         -0.0466, -0.0123, -0.0186,  0.0447,  0.1112], requires_grad=True),\n",
              " tensor([-0.1201], requires_grad=True))"
            ]
          },
          "metadata": {},
          "execution_count": 953
        }
      ]
    },
    {
      "cell_type": "code",
      "source": [
        "weights_sgd_0001, bias_sgd_0001, train_loss_sgd_0001, val_loss_sgd_0001 = model_training(X, y, epochs = 5000, optimizer = 'SGD', learning_rate = 0.0001)\n",
        ""
      ],
      "metadata": {
        "colab": {
          "base_uri": "https://localhost:8080/"
        },
        "id": "-dN50WxO3MIL",
        "outputId": "ffd07fc4-9870-4d7b-fa9e-40243df6f95b"
      },
      "execution_count": 954,
      "outputs": [
        {
          "output_type": "stream",
          "name": "stdout",
          "text": [
            "Epoch 500, Training loss 9.0245, Validation loss 8.9016\n",
            "Epoch 1000, Training loss 5.5765, Validation loss 5.4878\n",
            "Epoch 1500, Training loss 3.5477, Validation loss 3.4850\n",
            "Epoch 2000, Training loss 2.3504, Validation loss 2.3077\n",
            "Epoch 2500, Training loss 1.6407, Validation loss 1.6132\n",
            "Epoch 3000, Training loss 1.2170, Validation loss 1.2012\n",
            "Epoch 3500, Training loss 0.9612, Validation loss 0.9542\n",
            "Epoch 4000, Training loss 0.8040, Validation loss 0.8038\n",
            "Epoch 4500, Training loss 0.7050, Validation loss 0.7099\n",
            "Epoch 5000, Training loss 0.6403, Validation loss 0.6491\n"
          ]
        }
      ]
    },
    {
      "cell_type": "code",
      "source": [
        "weights_sgd_0001, bias_sgd_0001"
      ],
      "metadata": {
        "colab": {
          "base_uri": "https://localhost:8080/"
        },
        "id": "0R2-k6yt3MsM",
        "outputId": "bf381534-4595-488d-902f-4351b0d360b3"
      },
      "execution_count": 955,
      "outputs": [
        {
          "output_type": "execute_result",
          "data": {
            "text/plain": [
              "(tensor([ 0.6591,  0.4947,  0.8329,  0.5950, -0.0886,  0.5903,  0.3723,  0.9077,\n",
              "          0.3949,  0.6206,  0.5298,  0.5412,  0.6495], requires_grad=True),\n",
              " tensor([-1.1368], requires_grad=True))"
            ]
          },
          "metadata": {},
          "execution_count": 955
        }
      ]
    },
    {
      "cell_type": "code",
      "source": [],
      "metadata": {
        "id": "gyDUCSRW3Q3W"
      },
      "execution_count": 957,
      "outputs": []
    },
    {
      "cell_type": "code",
      "source": [],
      "metadata": {
        "id": "ffwbvw2j3U9J"
      },
      "execution_count": 957,
      "outputs": []
    },
    {
      "cell_type": "code",
      "source": [],
      "metadata": {
        "id": "0FueJBnr3Zts"
      },
      "execution_count": null,
      "outputs": []
    }
  ],
  "metadata": {
    "colab": {
      "provenance": [],
      "mount_file_id": "1-oeGMadDvQ8aD-MZiHAtAi9HyijHtP9S",
      "authorship_tag": "ABX9TyOra0NKfpIseTzlSit5Wztp",
      "include_colab_link": true
    },
    "kernelspec": {
      "display_name": "Python 3",
      "name": "python3"
    },
    "language_info": {
      "name": "python"
    }
  },
  "nbformat": 4,
  "nbformat_minor": 0
}