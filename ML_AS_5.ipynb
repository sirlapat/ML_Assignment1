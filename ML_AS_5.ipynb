{
  "nbformat": 4,
  "nbformat_minor": 0,
  "metadata": {
    "colab": {
      "provenance": [],
      "mount_file_id": "1-oeGMadDvQ8aD-MZiHAtAi9HyijHtP9S",
      "authorship_tag": "ABX9TyP0CD/0DInldsaxe1cozp5E",
      "include_colab_link": true
    },
    "kernelspec": {
      "name": "python3",
      "display_name": "Python 3"
    },
    "language_info": {
      "name": "python"
    }
  },
  "cells": [
    {
      "cell_type": "markdown",
      "metadata": {
        "id": "view-in-github",
        "colab_type": "text"
      },
      "source": [
        "<a href=\"https://colab.research.google.com/github/sirlapat/ML_Assignment1/blob/main/ML_AS_5.ipynb\" target=\"_parent\"><img src=\"https://colab.research.google.com/assets/colab-badge.svg\" alt=\"Open In Colab\"/></a>"
      ]
    },
    {
      "cell_type": "code",
      "execution_count": 220,
      "metadata": {
        "id": "5PRRv4-Bs7Fy"
      },
      "outputs": [],
      "source": [
        "import numpy as np\n",
        "import matplotlib.pyplot as plt\n",
        "import torch"
      ]
    },
    {
      "cell_type": "code",
      "source": [
        "# t_u, t_c\n",
        "t_u = [35.7, 55.9, 58.2, 81.9, 56.3, 48.9, 33.9, 21.8, 48.4, 60.4, 68.4]\n",
        "t_c = [0.5, 14.0, 15.0, 28.0, 11.0, 8.0, 3.0, -4.0, 6.0, 13.0, 21.0]\n",
        "t_u = torch.tensor(t_u)\n",
        "t_c = torch.tensor(t_c)\n"
      ],
      "metadata": {
        "id": "yp8UCsV0tA2E"
      },
      "execution_count": 221,
      "outputs": []
    },
    {
      "cell_type": "code",
      "source": [
        "def model(t_u, w1, w2, b):\n",
        "    return w2*t_u**2 + w1*t_u + b #w2 * t_u ** 2 + w1 * t_u + b."
      ],
      "metadata": {
        "id": "aY6dEjxNtH2Q"
      },
      "execution_count": 222,
      "outputs": []
    },
    {
      "cell_type": "code",
      "source": [
        "def custom_loss(t_p, t_c):\n",
        "    loss = torch.mean((t_p - t_c)**2)\n",
        "    return loss\n",
        ""
      ],
      "metadata": {
        "id": "dGgP8NRYtROc"
      },
      "execution_count": 223,
      "outputs": []
    },
    {
      "cell_type": "code",
      "source": [
        "def custom_training_loop(n_epochs, optimizer, params, t_u, t_c):\n",
        "    for epoch in range(1, n_epochs + 1):\n",
        "        predictions = model(t_u, *params)\n",
        "        loss = loss_fn(predictions, t_c)\n",
        "\n",
        "        optimizer.zero_grad()\n",
        "        loss.backward()\n",
        "        optimizer.step()\n",
        "\n",
        "        if epoch <= 1 or epoch % 500 == 0:\n",
        "            print(f\"Epoch {epoch}, loss {loss.item():.4f}\")\n",
        "\n",
        "    return params"
      ],
      "metadata": {
        "id": "TZ7mXDlPtUl6"
      },
      "execution_count": 224,
      "outputs": []
    },
    {
      "cell_type": "code",
      "source": [
        "import torch.optim as optim\n",
        "optim_attributes_and_methods = dir(optim)\n",
        "print(optim_attributes_and_methods)\n",
        "\n"
      ],
      "metadata": {
        "colab": {
          "base_uri": "https://localhost:8080/"
        },
        "id": "wnuQ_l7Zt_cg",
        "outputId": "dab36b8f-0da3-410b-f54a-424edff90a08"
      },
      "execution_count": 225,
      "outputs": [
        {
          "output_type": "stream",
          "name": "stdout",
          "text": [
            "['ASGD', 'Adadelta', 'Adagrad', 'Adam', 'AdamW', 'Adamax', 'LBFGS', 'NAdam', 'Optimizer', 'RAdam', 'RMSprop', 'Rprop', 'SGD', 'SparseAdam', '__builtins__', '__cached__', '__doc__', '__file__', '__loader__', '__name__', '__package__', '__path__', '__spec__', '_functional', '_multi_tensor', 'lr_scheduler', 'swa_utils']\n"
          ]
        }
      ]
    },
    {
      "cell_type": "code",
      "source": [
        "t_un = 0.1 * t_u\n",
        "params = torch.tensor([1.0, 1.0, 0.0], requires_grad=True)\n",
        "learning_rate = 0.1\n",
        "optimizer = optim.Adam([params], lr=learning_rate)\n",
        "\n",
        "num_epochs = 5000\n",
        "for epoch in range(1, num_epochs + 1):\n",
        "    predictions = model(t_un, *params)\n",
        "    loss = loss_fn(predictions, t_c)\n",
        "\n",
        "    optimizer.zero_grad()\n",
        "    loss.backward()\n",
        "    optimizer.step()\n",
        "\n",
        "    if epoch <= 1 or epoch % 500 == 0:\n",
        "        print(f\"Epoch {epoch}, Loss: {loss.item():.4f}\")\n",
        "\n",
        "print(params)\n"
      ],
      "metadata": {
        "colab": {
          "base_uri": "https://localhost:8080/"
        },
        "id": "bl3aYNEcuQXn",
        "outputId": "7c373844-6330-4f6f-87e3-d32ab613a098"
      },
      "execution_count": 226,
      "outputs": [
        {
          "output_type": "stream",
          "name": "stdout",
          "text": [
            "Epoch 1, Loss: 675.7944\n",
            "Epoch 500, Loss: 2.7825\n",
            "Epoch 1000, Loss: 2.4860\n",
            "Epoch 1500, Loss: 2.2615\n",
            "Epoch 2000, Loss: 2.1441\n",
            "Epoch 2500, Loss: 2.1019\n",
            "Epoch 3000, Loss: 2.0921\n",
            "Epoch 3500, Loss: 2.0908\n",
            "Epoch 4000, Loss: 2.0907\n",
            "Epoch 4500, Loss: 2.0907\n",
            "Epoch 5000, Loss: 2.0907\n",
            "tensor([  2.4760,   0.2830, -10.6496], requires_grad=True)\n"
          ]
        }
      ]
    },
    {
      "cell_type": "code",
      "source": [
        "predictions = model(t_un, *params)\n",
        "\n",
        "# Create a new figure for the plot\n",
        "plt.figure()\n",
        "\n",
        "# Set labels for the axes\n",
        "plt.xlabel('Temperature (Fahrenheit)')\n",
        "plt.ylabel('Temperature (Celsius)')\n",
        "\n",
        "# Plot the model's predictions in green\n",
        "plt.plot(t_u.numpy(), predictions.detach().numpy(), color='green', label='Model Predictions')\n",
        "\n",
        "# Plot the actual data as points\n",
        "plt.plot(t_u.numpy(), t_c.numpy(), 'p', label='Actual Data')\n",
        "\n",
        "# Add a legend to the plot\n",
        "plt.legend()\n",
        "\n",
        "# Show the plot\n",
        "plt.show()\n"
      ],
      "metadata": {
        "colab": {
          "base_uri": "https://localhost:8080/",
          "height": 452
        },
        "id": "Wy9ZYMlPv6kJ",
        "outputId": "41f8c806-65b9-476a-f90e-f7e57c224641"
      },
      "execution_count": 227,
      "outputs": [
        {
          "output_type": "display_data",
          "data": {
            "text/plain": [
              "<Figure size 640x480 with 1 Axes>"
            ],
            "image/png": "[encoded data removed]"
          },
          "metadata": {}
        }
      ]
    },
    {
      "cell_type": "code",
      "source": [
        "# Multiply t_u by 0.1 to get t_un\n",
        "t_un = 0.1 * t_u\n",
        "params = torch.tensor([1.0, 1.0, 0.0], requires_grad=True)\n",
        "learning_rate = 0.01\n",
        "\n",
        "optimizer = optim.Adam([params], lr=learning_rate)\n",
        "for epoch in range(1, 5001):\n",
        "    predictions = model(t_un, *params)\n",
        "    loss = loss_fn(predictions, t_c)\n",
        "\n",
        "    optimizer.zero_grad()\n",
        "    loss.backward()\n",
        "    optimizer.step()\n",
        "\n",
        "    if epoch <= 1 or epoch % 500 == 0:\n",
        "        print(f\"Epoch {epoch}, Loss: {loss.item():.4f}\")\n",
        "\n",
        "print(params)\n"
      ],
      "metadata": {
        "colab": {
          "base_uri": "https://localhost:8080/"
        },
        "id": "8Gv6QCTjv8TZ",
        "outputId": "c1efa3df-3b90-4c20-8c1c-f8bea0907b66"
      },
      "execution_count": 228,
      "outputs": [
        {
          "output_type": "stream",
          "name": "stdout",
          "text": [
            "Epoch 1, Loss: 675.7944\n",
            "Epoch 500, Loss: 6.1112\n",
            "Epoch 1000, Loss: 3.9368\n",
            "Epoch 1500, Loss: 3.1178\n",
            "Epoch 2000, Loss: 2.9318\n",
            "Epoch 2500, Loss: 2.8713\n",
            "Epoch 3000, Loss: 2.8129\n",
            "Epoch 3500, Loss: 2.7441\n",
            "Epoch 4000, Loss: 2.6647\n",
            "Epoch 4500, Loss: 2.5764\n",
            "Epoch 5000, Loss: 2.4825\n",
            "tensor([ 0.4768,  0.4673, -5.6706], requires_grad=True)\n"
          ]
        }
      ]
    },
    {
      "cell_type": "code",
      "source": [
        "t_un_numpy = t_un.numpy()\n",
        "print(\"t_un as NumPy array:\", t_un_numpy)\n",
        "\n"
      ],
      "metadata": {
        "colab": {
          "base_uri": "https://localhost:8080/"
        },
        "id": "MYMbmdPPxDEW",
        "outputId": "e7eeacf4-848d-4c6f-f1f6-e4e5d6840d83"
      },
      "execution_count": 229,
      "outputs": [
        {
          "output_type": "stream",
          "name": "stdout",
          "text": [
            "t_un as NumPy array: [3.5700002 5.59      5.82      8.190001  5.63      4.8900003 3.39\n",
            " 2.18      4.84      6.0400004 6.84     ]\n"
          ]
        }
      ]
    },
    {
      "cell_type": "code",
      "source": [
        "t_p_numpy = t_p.detach().numpy()\n",
        "print(\"t_p as NumPy array:\", t_p_numpy)"
      ],
      "metadata": {
        "colab": {
          "base_uri": "https://localhost:8080/"
        },
        "id": "tbzDL3Fqyl43",
        "outputId": "56343cc7-a76d-4def-b241-b5deb5c94618"
      },
      "execution_count": 230,
      "outputs": [
        {
          "output_type": "stream",
          "name": "stdout",
          "text": [
            "t_p as NumPy array: [20.321878 19.243414 18.544188  4.475416 19.130278 20.646362 19.976889\n",
            " 15.784334 20.7048   17.765089 14.023081]\n"
          ]
        }
      ]
    },
    {
      "cell_type": "code",
      "source": [
        "predictions = model(t_un, *params)\n",
        "\n",
        "# Create a new figure for the plot\n",
        "plt.figure()\n",
        "\n",
        "# Set labels for the axes\n",
        "plt.xlabel('Temperature (Fahrenheit)')\n",
        "plt.ylabel('Temperature (Celsius)')\n",
        "\n",
        "# Plot the model's predictions in green\n",
        "plt.plot(t_u.numpy(), predictions.detach().numpy(), color='green', label='Model Predictions')\n",
        "\n",
        "# Plot the actual data as points\n",
        "plt.plot(t_u.numpy(), t_c.numpy(), 'p', label='Actual Data')\n",
        "\n",
        "# Add a legend to the plot\n",
        "plt.legend()\n",
        "\n",
        "# Show the plot\n",
        "plt.show()"
      ],
      "metadata": {
        "colab": {
          "base_uri": "https://localhost:8080/",
          "height": 449
        },
        "id": "jY7En1DUzFkY",
        "outputId": "c9e83e1f-e1bf-4db5-d772-f8505efb3bbb"
      },
      "execution_count": 231,
      "outputs": [
        {
          "output_type": "display_data",
          "data": {
            "text/plain": [
              "<Figure size 640x480 with 1 Axes>"
            ],
            "image/png": "[encoded data removed]"
          },
          "metadata": {}
        }
      ]
    },
    {
      "cell_type": "code",
      "source": [
        "# Multiply t_u by 0.1 to get t_un\n",
        "t_un = 0.1 * t_u\n",
        "params = torch.tensor([1.0, 1.0, 0.0], requires_grad=True)\n",
        "learning_rate = 0.001\n",
        "\n",
        "optimizer = optim.Adam([params], lr=learning_rate)\n",
        "for epoch in range(1, 5001):\n",
        "    predictions = model(t_un, *params)\n",
        "    loss = loss_fn(predictions, t_c)\n",
        "\n",
        "    optimizer.zero_grad()\n",
        "    loss.backward()\n",
        "    optimizer.step()\n",
        "\n",
        "    if epoch <= 1 or epoch % 500 == 0:\n",
        "        print(f\"Epoch {epoch}, Loss: {loss.item():.4f}\")\n",
        "\n",
        "print(params)\n"
      ],
      "metadata": {
        "colab": {
          "base_uri": "https://localhost:8080/"
        },
        "id": "_5kN79VE04xG",
        "outputId": "0616cd9b-b182-446e-86f0-defced183d48"
      },
      "execution_count": 232,
      "outputs": [
        {
          "output_type": "stream",
          "name": "stdout",
          "text": [
            "Epoch 1, Loss: 675.7944\n",
            "Epoch 500, Loss: 103.7950\n",
            "Epoch 1000, Loss: 13.0185\n",
            "Epoch 1500, Loss: 8.0649\n",
            "Epoch 2000, Loss: 7.6890\n",
            "Epoch 2500, Loss: 7.2952\n",
            "Epoch 3000, Loss: 6.8309\n",
            "Epoch 3500, Loss: 6.3062\n",
            "Epoch 4000, Loss: 5.7396\n",
            "Epoch 4500, Loss: 5.1592\n",
            "Epoch 5000, Loss: 4.6001\n",
            "tensor([-0.0524,  0.4484, -1.7755], requires_grad=True)\n"
          ]
        }
      ]
    },
    {
      "cell_type": "code",
      "source": [
        "# predictions = model(t_un, *params)\n",
        "t_p = model(t_u, *params)\n",
        "\n",
        "# Create a new figure for the plot\n",
        "plt.figure()\n",
        "\n",
        "# Set labels for the axes\n",
        "plt.xlabel('Temperature (Fahrenheit)')\n",
        "plt.ylabel('Temperature (Celsius)')\n",
        "\n",
        "# Plot the model's predictions in green\n",
        "plt.plot(t_u.numpy(), t_p.detach().numpy(), color='green', label='Model Predictions')\n",
        "\n",
        "# Plot the actual data as points\n",
        "plt.plot(t_u.numpy(), t_c.numpy(), 'p', label='Actual Data')\n",
        "\n",
        "# Add a legend to the plot\n",
        "plt.legend()\n",
        "\n",
        "# Show the plot\n",
        "plt.show()"
      ],
      "metadata": {
        "colab": {
          "base_uri": "https://localhost:8080/",
          "height": 449
        },
        "id": "K3ufkOxs05gn",
        "outputId": "d082cf99-2537-439b-e7b0-e747a519af39"
      },
      "execution_count": 233,
      "outputs": [
        {
          "output_type": "display_data",
          "data": {
            "text/plain": [
              "<Figure size 640x480 with 1 Axes>"
            ],
            "image/png": "[encoded data removed]"
          },
          "metadata": {}
        }
      ]
    },
    {
      "cell_type": "code",
      "source": [
        "# Multiply t_u by 0.1 to get t_un\n",
        "t_un = 0.1 * t_u\n",
        "params = torch.tensor([1.0, 1.0, 0.0], requires_grad=True)\n",
        "learning_rate = 0.0001\n",
        "\n",
        "optimizer = optim.Adam([params], lr=learning_rate)\n",
        "for epoch in range(1, 5001):\n",
        "    predictions = model(t_un, *params)\n",
        "    loss = loss_fn(predictions, t_c)\n",
        "\n",
        "    optimizer.zero_grad()\n",
        "    loss.backward()\n",
        "    optimizer.step()\n",
        "\n",
        "    if epoch <= 1 or epoch % 500 == 0:\n",
        "        print(f\"Epoch {epoch}, Loss: {loss.item():.4f}\")\n",
        "\n",
        "print(params)\n"
      ],
      "metadata": {
        "colab": {
          "base_uri": "https://localhost:8080/"
        },
        "id": "BnD8i1im1G93",
        "outputId": "929dcae9-f130-49b9-e2d1-4fbcd67c16ee"
      },
      "execution_count": 234,
      "outputs": [
        {
          "output_type": "stream",
          "name": "stdout",
          "text": [
            "Epoch 1, Loss: 675.7944\n",
            "Epoch 500, Loss: 578.2527\n",
            "Epoch 1000, Loss: 491.2365\n",
            "Epoch 1500, Loss: 413.8677\n",
            "Epoch 2000, Loss: 345.2539\n",
            "Epoch 2500, Loss: 284.6672\n",
            "Epoch 3000, Loss: 231.5106\n",
            "Epoch 3500, Loss: 185.2833\n",
            "Epoch 4000, Loss: 145.5521\n",
            "Epoch 4500, Loss: 111.9216\n",
            "Epoch 5000, Loss: 84.0093\n",
            "tensor([ 0.5698,  0.5721, -0.4337], requires_grad=True)\n"
          ]
        }
      ]
    },
    {
      "cell_type": "code",
      "source": [
        "# predictions = model(t_un, *params)\n",
        "t_p = model(t_un, *params)\n",
        "\n",
        "# Create a new figure for the plot\n",
        "plt.figure()\n",
        "\n",
        "# Set labels for the axes\n",
        "plt.xlabel('Temperature (Fahrenheit)')\n",
        "plt.ylabel('Temperature (Celsius)')\n",
        "\n",
        "# Plot the model's predictions in green\n",
        "plt.plot(t_u.numpy(), t_p.detach().numpy(), color='green', label='Model Predictions')\n",
        "\n",
        "# Plot the actual data as points\n",
        "plt.plot(t_u.numpy(), t_c.numpy(), 'p', label='Actual Data')\n",
        "\n",
        "# Add a legend to the plot\n",
        "plt.legend()\n",
        "\n",
        "# Show the plot\n",
        "plt.show()"
      ],
      "metadata": {
        "colab": {
          "base_uri": "https://localhost:8080/",
          "height": 449
        },
        "id": "AWISV0ou1pJs",
        "outputId": "95f2aa4e-93f8-4630-809e-8485944fc649"
      },
      "execution_count": 235,
      "outputs": [
        {
          "output_type": "display_data",
          "data": {
            "text/plain": [
              "<Figure size 640x480 with 1 Axes>"
            ],
            "image/png": "[encoded data removed]"
          },
          "metadata": {}
        }
      ]
    },
    {
      "cell_type": "code",
      "source": [
        "# Multiply t_u by 0.1 to get t_un\n",
        "t_un = 0.1 * t_u\n",
        "params = torch.tensor([1.0, 1.0, 0.0], requires_grad=True)\n",
        "learning_rate = 0.1\n",
        "\n",
        "optimizer = optim.SGD([params], lr=learning_rate)\n",
        "for epoch in range(1, 5001):\n",
        "    predictions = model(t_un, *params)\n",
        "    loss = loss_fn(predictions, t_c)\n",
        "\n",
        "    optimizer.zero_grad()\n",
        "    loss.backward()\n",
        "    optimizer.step()\n",
        "\n",
        "    if epoch <= 1 or epoch % 500 == 0:\n",
        "        print(f\"Epoch {epoch}, Loss: {loss.item():.4f}\")\n",
        "\n",
        "print(params)\n"
      ],
      "metadata": {
        "colab": {
          "base_uri": "https://localhost:8080/"
        },
        "id": "CgVgqiq82lbV",
        "outputId": "5fec4c23-5b9f-46f3-f753-30e27f9a555b"
      },
      "execution_count": 236,
      "outputs": [
        {
          "output_type": "stream",
          "name": "stdout",
          "text": [
            "Epoch 1, Loss: 675.7944\n",
            "Epoch 500, Loss: nan\n",
            "Epoch 1000, Loss: nan\n",
            "Epoch 1500, Loss: nan\n",
            "Epoch 2000, Loss: nan\n",
            "Epoch 2500, Loss: nan\n",
            "Epoch 3000, Loss: nan\n",
            "Epoch 3500, Loss: nan\n",
            "Epoch 4000, Loss: nan\n",
            "Epoch 4500, Loss: nan\n",
            "Epoch 5000, Loss: nan\n",
            "tensor([nan, nan, nan], requires_grad=True)\n"
          ]
        }
      ]
    },
    {
      "cell_type": "code",
      "source": [
        "# predictions = model(t_un, *params)\n",
        "t_p = model(t_u, *params)\n",
        "\n",
        "# Create a new figure for the plot\n",
        "plt.figure()\n",
        "\n",
        "# Set labels for the axes\n",
        "plt.xlabel('Temperature (Fahrenheit)')\n",
        "plt.ylabel('Temperature (Celsius)')\n",
        "\n",
        "# Plot the model's predictions in green\n",
        "plt.plot(t_u.numpy(), t_p.detach().numpy(), color='green', label='Model Predictions')\n",
        "\n",
        "# Plot the actual data as points\n",
        "plt.plot(t_u.numpy(), t_c.numpy(), 'p', label='Actual Data')\n",
        "\n",
        "# Add a legend to the plot\n",
        "plt.legend()\n",
        "\n",
        "# Show the plot\n",
        "plt.show()"
      ],
      "metadata": {
        "colab": {
          "base_uri": "https://localhost:8080/",
          "height": 449
        },
        "id": "qpYsM9jc3tPS",
        "outputId": "6e56215b-522c-42e9-a30f-ffbc6c9dfcdb"
      },
      "execution_count": 237,
      "outputs": [
        {
          "output_type": "display_data",
          "data": {
            "text/plain": [
              "<Figure size 640x480 with 1 Axes>"
            ],
            "image/png": "[encoded data removed]"
          },
          "metadata": {}
        }
      ]
    },
    {
      "cell_type": "code",
      "source": [
        "# Set t_un equal to t_u\n",
        "t_un = t_u\n",
        "params = torch.tensor([1.0, 1.0, 0.0], requires_grad=True)\n",
        "learning_rate = 0.00000001\n",
        "optimizer = optim.SGD([params], lr=learning_rate)\n",
        "\n",
        "for epoch in range(1, 5001):\n",
        "    predictions = model(t_un, *params)\n",
        "    loss = loss_fn(predictions, t_c)\n",
        "    optimizer.zero_grad()\n",
        "    loss.backward()\n",
        "    optimizer.step()\n",
        "\n",
        "    if epoch <= 1 or epoch % 500 == 0:\n",
        "        print(f\"Epoch {epoch}, Loss: {loss.item():.4f}\")\n",
        "\n",
        "print(params)\n"
      ],
      "metadata": {
        "colab": {
          "base_uri": "https://localhost:8080/"
        },
        "id": "bGzW_2c74AM9",
        "outputId": "141075d7-2c86-49d6-9c95-bbf20ab919e8"
      },
      "execution_count": 238,
      "outputs": [
        {
          "output_type": "stream",
          "name": "stdout",
          "text": [
            "Epoch 1, Loss: 11709471.0000\n",
            "Epoch 500, Loss: 203.5310\n",
            "Epoch 1000, Loss: 202.9296\n",
            "Epoch 1500, Loss: 202.3291\n",
            "Epoch 2000, Loss: 201.7295\n",
            "Epoch 2500, Loss: 201.1309\n",
            "Epoch 3000, Loss: 200.5331\n",
            "Epoch 3500, Loss: 199.9362\n",
            "Epoch 4000, Loss: 199.3402\n",
            "Epoch 4500, Loss: 198.7452\n",
            "Epoch 5000, Loss: 198.1511\n",
            "tensor([ 9.6692e-01, -1.1139e-02, -9.4794e-04], requires_grad=True)\n"
          ]
        }
      ]
    },
    {
      "cell_type": "code",
      "source": [
        "# predictions = model(t_un, *params)\n",
        "t_p = model(t_un, *params)\n",
        "\n",
        "# Create a new figure for the plot\n",
        "plt.figure()\n",
        "\n",
        "# Set labels for the axes\n",
        "plt.xlabel('Temperature (Fahrenheit)')\n",
        "plt.ylabel('Temperature (Celsius)')\n",
        "\n",
        "# Plot the model's predictions in green\n",
        "plt.plot(t_u.numpy(), t_p.detach().numpy(), color='green', label='Model Predictions')\n",
        "\n",
        "# Plot the actual data as points\n",
        "plt.plot(t_u.numpy(), t_c.numpy(), 'p', label='Actual Data')\n",
        "\n",
        "# Add a legend to the plot\n",
        "plt.legend()\n",
        "\n",
        "# Show the plot\n",
        "plt.show()"
      ],
      "metadata": {
        "colab": {
          "base_uri": "https://localhost:8080/",
          "height": 449
        },
        "id": "JztGVILI4J4d",
        "outputId": "89b3cda3-82b4-4477-96ad-479319fb54e5"
      },
      "execution_count": 239,
      "outputs": [
        {
          "output_type": "display_data",
          "data": {
            "text/plain": [
              "<Figure size 640x480 with 1 Axes>"
            ],
            "image/png": "[encoded data removed]"
          },
          "metadata": {}
        }
      ]
    },
    {
      "cell_type": "code",
      "source": [
        "# Set t_un equal to t_u\n",
        "t_un = t_u\n",
        "params = torch.tensor([1.0, 1.0, 0.0], requires_grad=True)\n",
        "learning_rate = 0.00001\n",
        "optimizer = optim.SGD([params], lr=learning_rate)\n",
        "\n",
        "for epoch in range(1, 5001):\n",
        "    predictions = model(t_un, *params)\n",
        "    loss = loss_fn(predictions, t_c)\n",
        "    optimizer.zero_grad()\n",
        "    loss.backward()\n",
        "    optimizer.step()\n",
        "\n",
        "    if epoch <= 1 or epoch % 500 == 0:\n",
        "        print(f\"Epoch {epoch}, Loss: {loss.item():.4f}\")\n",
        "\n",
        "print(params)"
      ],
      "metadata": {
        "colab": {
          "base_uri": "https://localhost:8080/"
        },
        "id": "GoDc_u555vyG",
        "outputId": "14195393-c6da-4205-9a6b-d558a62621d2"
      },
      "execution_count": 240,
      "outputs": [
        {
          "output_type": "stream",
          "name": "stdout",
          "text": [
            "Epoch 1, Loss: 11709471.0000\n",
            "Epoch 500, Loss: nan\n",
            "Epoch 1000, Loss: nan\n",
            "Epoch 1500, Loss: nan\n",
            "Epoch 2000, Loss: nan\n",
            "Epoch 2500, Loss: nan\n",
            "Epoch 3000, Loss: nan\n",
            "Epoch 3500, Loss: nan\n",
            "Epoch 4000, Loss: nan\n",
            "Epoch 4500, Loss: nan\n",
            "Epoch 5000, Loss: nan\n",
            "tensor([nan, nan, nan], requires_grad=True)\n"
          ]
        }
      ]
    },
    {
      "cell_type": "code",
      "source": [
        "import pandas as pd\n",
        "from sklearn.preprocessing import MinMaxScaler"
      ],
      "metadata": {
        "id": "WrpWAu5755jJ"
      },
      "execution_count": 241,
      "outputs": []
    },
    {
      "cell_type": "code",
      "source": [
        "# Use the URL for the raw CSV data\n",
        "\n",
        "df = pd.read_csv('/content/drive/MyDrive/Housing.csv')\n",
        "\n",
        "# Display the first 5 rows of the DataFrame\n",
        "df.head()"
      ],
      "metadata": {
        "colab": {
          "base_uri": "https://localhost:8080/",
          "height": 206
        },
        "id": "3RZqv9ZF8CW9",
        "outputId": "3a58e500-b8ef-4b9f-b067-35fd239c2a93"
      },
      "execution_count": 242,
      "outputs": [
        {
          "output_type": "execute_result",
          "data": {
            "text/plain": [
              "      price  area  bedrooms  bathrooms  stories mainroad guestroom basement  \\\n",
              "0  13300000  7420         4          2        3      yes        no       no   \n",
              "1  12250000  8960         4          4        4      yes        no       no   \n",
              "2  12250000  9960         3          2        2      yes        no      yes   \n",
              "3  12215000  7500         4          2        2      yes        no      yes   \n",
              "4  11410000  7420         4          1        2      yes       yes      yes   \n",
              "\n",
              "  hotwaterheating airconditioning  parking prefarea furnishingstatus  \n",
              "0              no             yes        2      yes        furnished  \n",
              "1              no             yes        3       no        furnished  \n",
              "2              no              no        2      yes   semi-furnished  \n",
              "3              no             yes        3      yes        furnished  \n",
              "4              no             yes        2       no        furnished  "
            ],
            "text/html": [
              "\n",
              "  <div id=\"df-e4a852bb-d81a-4008-a1a3-8e7d065a98d1\" class=\"colab-df-container\">\n",
              "    <div>\n",
              "<style scoped>\n",
              "    .dataframe tbody tr th:only-of-type {\n",
              "        vertical-align: middle;\n",
              "    }\n",
              "\n",
              "    .dataframe tbody tr th {\n",
              "        vertical-align: top;\n",
              "    }\n",
              "\n",
              "    .dataframe thead th {\n",
              "        text-align: right;\n",
              "    }\n",
              "</style>\n",
              "<table border=\"1\" class=\"dataframe\">\n",
              "  <thead>\n",
              "    <tr style=\"text-align: right;\">\n",
              "      <th></th>\n",
              "      <th>price</th>\n",
              "      <th>area</th>\n",
              "      <th>bedrooms</th>\n",
              "      <th>bathrooms</th>\n",
              "      <th>stories</th>\n",
              "      <th>mainroad</th>\n",
              "      <th>guestroom</th>\n",
              "      <th>basement</th>\n",
              "      <th>hotwaterheating</th>\n",
              "      <th>airconditioning</th>\n",
              "      <th>parking</th>\n",
              "      <th>prefarea</th>\n",
              "      <th>furnishingstatus</th>\n",
              "    </tr>\n",
              "  </thead>\n",
              "  <tbody>\n",
              "    <tr>\n",
              "      <th>0</th>\n",
              "      <td>13300000</td>\n",
              "      <td>7420</td>\n",
              "      <td>4</td>\n",
              "      <td>2</td>\n",
              "      <td>3</td>\n",
              "      <td>yes</td>\n",
              "      <td>no</td>\n",
              "      <td>no</td>\n",
              "      <td>no</td>\n",
              "      <td>yes</td>\n",
              "      <td>2</td>\n",
              "      <td>yes</td>\n",
              "      <td>furnished</td>\n",
              "    </tr>\n",
              "    <tr>\n",
              "      <th>1</th>\n",
              "      <td>12250000</td>\n",
              "      <td>8960</td>\n",
              "      <td>4</td>\n",
              "      <td>4</td>\n",
              "      <td>4</td>\n",
              "      <td>yes</td>\n",
              "      <td>no</td>\n",
              "      <td>no</td>\n",
              "      <td>no</td>\n",
              "      <td>yes</td>\n",
              "      <td>3</td>\n",
              "      <td>no</td>\n",
              "      <td>furnished</td>\n",
              "    </tr>\n",
              "    <tr>\n",
              "      <th>2</th>\n",
              "      <td>12250000</td>\n",
              "      <td>9960</td>\n",
              "      <td>3</td>\n",
              "      <td>2</td>\n",
              "      <td>2</td>\n",
              "      <td>yes</td>\n",
              "      <td>no</td>\n",
              "      <td>yes</td>\n",
              "      <td>no</td>\n",
              "      <td>no</td>\n",
              "      <td>2</td>\n",
              "      <td>yes</td>\n",
              "      <td>semi-furnished</td>\n",
              "    </tr>\n",
              "    <tr>\n",
              "      <th>3</th>\n",
              "      <td>12215000</td>\n",
              "      <td>7500</td>\n",
              "      <td>4</td>\n",
              "      <td>2</td>\n",
              "      <td>2</td>\n",
              "      <td>yes</td>\n",
              "      <td>no</td>\n",
              "      <td>yes</td>\n",
              "      <td>no</td>\n",
              "      <td>yes</td>\n",
              "      <td>3</td>\n",
              "      <td>yes</td>\n",
              "      <td>furnished</td>\n",
              "    </tr>\n",
              "    <tr>\n",
              "      <th>4</th>\n",
              "      <td>11410000</td>\n",
              "      <td>7420</td>\n",
              "      <td>4</td>\n",
              "      <td>1</td>\n",
              "      <td>2</td>\n",
              "      <td>yes</td>\n",
              "      <td>yes</td>\n",
              "      <td>yes</td>\n",
              "      <td>no</td>\n",
              "      <td>yes</td>\n",
              "      <td>2</td>\n",
              "      <td>no</td>\n",
              "      <td>furnished</td>\n",
              "    </tr>\n",
              "  </tbody>\n",
              "</table>\n",
              "</div>\n",
              "    <div class=\"colab-df-buttons\">\n",
              "\n",
              "  <div class=\"colab-df-container\">\n",
              "    <button class=\"colab-df-convert\" onclick=\"convertToInteractive('df-e4a852bb-d81a-4008-a1a3-8e7d065a98d1')\"\n",
              "            title=\"Convert this dataframe to an interactive table.\"\n",
              "            style=\"display:none;\">\n",
              "\n",
              "  <svg xmlns=\"http://www.w3.org/2000/svg\" height=\"24px\" viewBox=\"0 -960 960 960\">\n",
              "    <path d=\"M120-120v-720h720v720H120Zm60-500h600v-160H180v160Zm220 220h160v-160H400v160Zm0 220h160v-160H400v160ZM180-400h160v-160H180v160Zm440 0h160v-160H620v160ZM180-180h160v-160H180v160Zm440 0h160v-160H620v160Z\"/>\n",
              "  </svg>\n",
              "    </button>\n",
              "\n",
              "  <style>\n",
              "    .colab-df-container {\n",
              "      display:flex;\n",
              "      gap: 12px;\n",
              "    }\n",
              "\n",
              "    .colab-df-convert {\n",
              "      background-color: #E8F0FE;\n",
              "      border: none;\n",
              "      border-radius: 50%;\n",
              "      cursor: pointer;\n",
              "      display: none;\n",
              "      fill: #1967D2;\n",
              "      height: 32px;\n",
              "      padding: 0 0 0 0;\n",
              "      width: 32px;\n",
              "    }\n",
              "\n",
              "    .colab-df-convert:hover {\n",
              "      background-color: #E2EBFA;\n",
              "      box-shadow: 0px 1px 2px rgba(60, 64, 67, 0.3), 0px 1px 3px 1px rgba(60, 64, 67, 0.15);\n",
              "      fill: #174EA6;\n",
              "    }\n",
              "\n",
              "    .colab-df-buttons div {\n",
              "      margin-bottom: 4px;\n",
              "    }\n",
              "\n",
              "    [theme=dark] .colab-df-convert {\n",
              "      background-color: #3B4455;\n",
              "      fill: #D2E3FC;\n",
              "    }\n",
              "\n",
              "    [theme=dark] .colab-df-convert:hover {\n",
              "      background-color: #434B5C;\n",
              "      box-shadow: 0px 1px 3px 1px rgba(0, 0, 0, 0.15);\n",
              "      filter: drop-shadow(0px 1px 2px rgba(0, 0, 0, 0.3));\n",
              "      fill: #FFFFFF;\n",
              "    }\n",
              "  </style>\n",
              "\n",
              "    <script>\n",
              "      const buttonEl =\n",
              "        document.querySelector('#df-e4a852bb-d81a-4008-a1a3-8e7d065a98d1 button.colab-df-convert');\n",
              "      buttonEl.style.display =\n",
              "        google.colab.kernel.accessAllowed ? 'block' : 'none';\n",
              "\n",
              "      async function convertToInteractive(key) {\n",
              "        const element = document.querySelector('#df-e4a852bb-d81a-4008-a1a3-8e7d065a98d1');\n",
              "        const dataTable =\n",
              "          await google.colab.kernel.invokeFunction('convertToInteractive',\n",
              "                                                    [key], {});\n",
              "        if (!dataTable) return;\n",
              "\n",
              "        const docLinkHtml = 'Like what you see? Visit the ' +\n",
              "          '<a target=\"_blank\" href=https://colab.research.google.com/notebooks/data_table.ipynb>data table notebook</a>'\n",
              "          + ' to learn more about interactive tables.';\n",
              "        element.innerHTML = '';\n",
              "        dataTable['output_type'] = 'display_data';\n",
              "        await google.colab.output.renderOutput(dataTable, element);\n",
              "        const docLink = document.createElement('div');\n",
              "        docLink.innerHTML = docLinkHtml;\n",
              "        element.appendChild(docLink);\n",
              "      }\n",
              "    </script>\n",
              "  </div>\n",
              "\n",
              "\n",
              "<div id=\"df-ac464d7b-08b5-4347-b1c3-0595fcfb7300\">\n",
              "  <button class=\"colab-df-quickchart\" onclick=\"quickchart('df-ac464d7b-08b5-4347-b1c3-0595fcfb7300')\"\n",
              "            title=\"Suggest charts\"\n",
              "            style=\"display:none;\">\n",
              "\n",
              "<svg xmlns=\"http://www.w3.org/2000/svg\" height=\"24px\"viewBox=\"0 0 24 24\"\n",
              "     width=\"24px\">\n",
              "    <g>\n",
              "        <path d=\"M19 3H5c-1.1 0-2 .9-2 2v14c0 1.1.9 2 2 2h14c1.1 0 2-.9 2-2V5c0-1.1-.9-2-2-2zM9 17H7v-7h2v7zm4 0h-2V7h2v10zm4 0h-2v-4h2v4z\"/>\n",
              "    </g>\n",
              "</svg>\n",
              "  </button>\n",
              "\n",
              "<style>\n",
              "  .colab-df-quickchart {\n",
              "      --bg-color: #E8F0FE;\n",
              "      --fill-color: #1967D2;\n",
              "      --hover-bg-color: #E2EBFA;\n",
              "      --hover-fill-color: #174EA6;\n",
              "      --disabled-fill-color: #AAA;\n",
              "      --disabled-bg-color: #DDD;\n",
              "  }\n",
              "\n",
              "  [theme=dark] .colab-df-quickchart {\n",
              "      --bg-color: #3B4455;\n",
              "      --fill-color: #D2E3FC;\n",
              "      --hover-bg-color: #434B5C;\n",
              "      --hover-fill-color: #FFFFFF;\n",
              "      --disabled-bg-color: #3B4455;\n",
              "      --disabled-fill-color: #666;\n",
              "  }\n",
              "\n",
              "  .colab-df-quickchart {\n",
              "    background-color: var(--bg-color);\n",
              "    border: none;\n",
              "    border-radius: 50%;\n",
              "    cursor: pointer;\n",
              "    display: none;\n",
              "    fill: var(--fill-color);\n",
              "    height: 32px;\n",
              "    padding: 0;\n",
              "    width: 32px;\n",
              "  }\n",
              "\n",
              "  .colab-df-quickchart:hover {\n",
              "    background-color: var(--hover-bg-color);\n",
              "    box-shadow: 0 1px 2px rgba(60, 64, 67, 0.3), 0 1px 3px 1px rgba(60, 64, 67, 0.15);\n",
              "    fill: var(--button-hover-fill-color);\n",
              "  }\n",
              "\n",
              "  .colab-df-quickchart-complete:disabled,\n",
              "  .colab-df-quickchart-complete:disabled:hover {\n",
              "    background-color: var(--disabled-bg-color);\n",
              "    fill: var(--disabled-fill-color);\n",
              "    box-shadow: none;\n",
              "  }\n",
              "\n",
              "  .colab-df-spinner {\n",
              "    border: 2px solid var(--fill-color);\n",
              "    border-color: transparent;\n",
              "    border-bottom-color: var(--fill-color);\n",
              "    animation:\n",
              "      spin 1s steps(1) infinite;\n",
              "  }\n",
              "\n",
              "  @keyframes spin {\n",
              "    0% {\n",
              "      border-color: transparent;\n",
              "      border-bottom-color: var(--fill-color);\n",
              "      border-left-color: var(--fill-color);\n",
              "    }\n",
              "    20% {\n",
              "      border-color: transparent;\n",
              "      border-left-color: var(--fill-color);\n",
              "      border-top-color: var(--fill-color);\n",
              "    }\n",
              "    30% {\n",
              "      border-color: transparent;\n",
              "      border-left-color: var(--fill-color);\n",
              "      border-top-color: var(--fill-color);\n",
              "      border-right-color: var(--fill-color);\n",
              "    }\n",
              "    40% {\n",
              "      border-color: transparent;\n",
              "      border-right-color: var(--fill-color);\n",
              "      border-top-color: var(--fill-color);\n",
              "    }\n",
              "    60% {\n",
              "      border-color: transparent;\n",
              "      border-right-color: var(--fill-color);\n",
              "    }\n",
              "    80% {\n",
              "      border-color: transparent;\n",
              "      border-right-color: var(--fill-color);\n",
              "      border-bottom-color: var(--fill-color);\n",
              "    }\n",
              "    90% {\n",
              "      border-color: transparent;\n",
              "      border-bottom-color: var(--fill-color);\n",
              "    }\n",
              "  }\n",
              "</style>\n",
              "\n",
              "  <script>\n",
              "    async function quickchart(key) {\n",
              "      const quickchartButtonEl =\n",
              "        document.querySelector('#' + key + ' button');\n",
              "      quickchartButtonEl.disabled = true;  // To prevent multiple clicks.\n",
              "      quickchartButtonEl.classList.add('colab-df-spinner');\n",
              "      try {\n",
              "        const charts = await google.colab.kernel.invokeFunction(\n",
              "            'suggestCharts', [key], {});\n",
              "      } catch (error) {\n",
              "        console.error('Error during call to suggestCharts:', error);\n",
              "      }\n",
              "      quickchartButtonEl.classList.remove('colab-df-spinner');\n",
              "      quickchartButtonEl.classList.add('colab-df-quickchart-complete');\n",
              "    }\n",
              "    (() => {\n",
              "      let quickchartButtonEl =\n",
              "        document.querySelector('#df-ac464d7b-08b5-4347-b1c3-0595fcfb7300 button');\n",
              "      quickchartButtonEl.style.display =\n",
              "        google.colab.kernel.accessAllowed ? 'block' : 'none';\n",
              "    })();\n",
              "  </script>\n",
              "</div>\n",
              "    </div>\n",
              "  </div>\n"
            ]
          },
          "metadata": {},
          "execution_count": 242
        }
      ]
    },
    {
      "cell_type": "code",
      "source": [
        "input_features = ['area', 'bedrooms', 'bathrooms', 'stories', 'parking']\n",
        "output_feature = 'price'"
      ],
      "metadata": {
        "id": "axcrlK038b2i"
      },
      "execution_count": 243,
      "outputs": []
    },
    {
      "cell_type": "code",
      "source": [
        "scaler = MinMaxScaler()\n",
        "df[input_features + [output_feature]] = scaler.fit_transform(df[input_features + [output_feature]])\n",
        ""
      ],
      "metadata": {
        "id": "HvwzSh9C8sdF"
      },
      "execution_count": 244,
      "outputs": []
    },
    {
      "cell_type": "code",
      "source": [
        "from sklearn.model_selection import train_test_split\n",
        "\n",
        "# We specify this so that the train and test data set always have the same rows, respectively\n",
        "np.random.seed(0)\n",
        "\n",
        "X = df[input_features].values\n",
        "y = df[[output_feature]].values"
      ],
      "metadata": {
        "id": "sIrLiGl-88w0"
      },
      "execution_count": 245,
      "outputs": []
    },
    {
      "cell_type": "code",
      "source": [
        "X_t = torch.tensor(X)\n",
        "Y_t = torch.tensor(y)"
      ],
      "metadata": {
        "id": "GMOC3fEn9jjA"
      },
      "execution_count": 246,
      "outputs": []
    },
    {
      "cell_type": "code",
      "source": [
        "X_t"
      ],
      "metadata": {
        "colab": {
          "base_uri": "https://localhost:8080/"
        },
        "id": "UGBr1Sax9wml",
        "outputId": "13c4b7e2-c42c-4d85-cd9e-fc007edba98b"
      },
      "execution_count": 247,
      "outputs": [
        {
          "output_type": "execute_result",
          "data": {
            "text/plain": [
              "tensor([[0.3966, 0.6000, 0.3333, 0.6667, 0.6667],\n",
              "        [0.5024, 0.6000, 1.0000, 1.0000, 1.0000],\n",
              "        [0.5711, 0.4000, 0.3333, 0.3333, 0.6667],\n",
              "        ...,\n",
              "        [0.1354, 0.2000, 0.0000, 0.0000, 0.0000],\n",
              "        [0.0866, 0.4000, 0.0000, 0.0000, 0.0000],\n",
              "        [0.1512, 0.4000, 0.0000, 0.3333, 0.0000]], dtype=torch.float64)"
            ]
          },
          "metadata": {},
          "execution_count": 247
        }
      ]
    },
    {
      "cell_type": "code",
      "source": [
        "Y_t"
      ],
      "metadata": {
        "colab": {
          "base_uri": "https://localhost:8080/"
        },
        "id": "WA9aeYU09xCn",
        "outputId": "c0ea0aae-fb79-4953-8052-1edff4d40703"
      },
      "execution_count": 248,
      "outputs": [
        {
          "output_type": "execute_result",
          "data": {
            "text/plain": [
              "tensor([[1.0000],\n",
              "        [0.9091],\n",
              "        [0.9091],\n",
              "        [0.9061],\n",
              "        [0.8364],\n",
              "        [0.7879],\n",
              "        [0.7273],\n",
              "        [0.7273],\n",
              "        [0.7030],\n",
              "        [0.6970],\n",
              "        [0.6970],\n",
              "        [0.6867],\n",
              "        [0.6545],\n",
              "        [0.6485],\n",
              "        [0.6485],\n",
              "        [0.6364],\n",
              "        [0.6364],\n",
              "        [0.6242],\n",
              "        [0.6182],\n",
              "        [0.6152],\n",
              "        [0.6061],\n",
              "        [0.6000],\n",
              "        [0.5970],\n",
              "        [0.5970],\n",
              "        [0.5909],\n",
              "        [0.5879],\n",
              "        [0.5812],\n",
              "        [0.5758],\n",
              "        [0.5758],\n",
              "        [0.5758],\n",
              "        [0.5758],\n",
              "        [0.5758],\n",
              "        [0.5667],\n",
              "        [0.5576],\n",
              "        [0.5515],\n",
              "        [0.5481],\n",
              "        [0.5448],\n",
              "        [0.5394],\n",
              "        [0.5379],\n",
              "        [0.5333],\n",
              "        [0.5303],\n",
              "        [0.5273],\n",
              "        [0.5152],\n",
              "        [0.5152],\n",
              "        [0.5030],\n",
              "        [0.5030],\n",
              "        [0.5000],\n",
              "        [0.4970],\n",
              "        [0.4939],\n",
              "        [0.4909],\n",
              "        [0.4909],\n",
              "        [0.4909],\n",
              "        [0.4848],\n",
              "        [0.4848],\n",
              "        [0.4848],\n",
              "        [0.4848],\n",
              "        [0.4842],\n",
              "        [0.4758],\n",
              "        [0.4727],\n",
              "        [0.4727],\n",
              "        [0.4667],\n",
              "        [0.4606],\n",
              "        [0.4606],\n",
              "        [0.4576],\n",
              "        [0.4545],\n",
              "        [0.4485],\n",
              "        [0.4485],\n",
              "        [0.4455],\n",
              "        [0.4424],\n",
              "        [0.4364],\n",
              "        [0.4364],\n",
              "        [0.4333],\n",
              "        [0.4303],\n",
              "        [0.4273],\n",
              "        [0.4242],\n",
              "        [0.4242],\n",
              "        [0.4242],\n",
              "        [0.4242],\n",
              "        [0.4242],\n",
              "        [0.4242],\n",
              "        [0.4224],\n",
              "        [0.4212],\n",
              "        [0.4212],\n",
              "        [0.4182],\n",
              "        [0.4121],\n",
              "        [0.4121],\n",
              "        [0.4121],\n",
              "        [0.4091],\n",
              "        [0.4091],\n",
              "        [0.4061],\n",
              "        [0.4061],\n",
              "        [0.4042],\n",
              "        [0.4030],\n",
              "        [0.3939],\n",
              "        [0.3939],\n",
              "        [0.3939],\n",
              "        [0.3939],\n",
              "        [0.3939],\n",
              "        [0.3933],\n",
              "        [0.3909],\n",
              "        [0.3879],\n",
              "        [0.3879],\n",
              "        [0.3848],\n",
              "        [0.3848],\n",
              "        [0.3848],\n",
              "        [0.3818],\n",
              "        [0.3818],\n",
              "        [0.3788],\n",
              "        [0.3773],\n",
              "        [0.3758],\n",
              "        [0.3758],\n",
              "        [0.3758],\n",
              "        [0.3752],\n",
              "        [0.3752],\n",
              "        [0.3697],\n",
              "        [0.3697],\n",
              "        [0.3697],\n",
              "        [0.3636],\n",
              "        [0.3636],\n",
              "        [0.3636],\n",
              "        [0.3636],\n",
              "        [0.3636],\n",
              "        [0.3636],\n",
              "        [0.3636],\n",
              "        [0.3636],\n",
              "        [0.3630],\n",
              "        [0.3576],\n",
              "        [0.3576],\n",
              "        [0.3570],\n",
              "        [0.3570],\n",
              "        [0.3564],\n",
              "        [0.3515],\n",
              "        [0.3515],\n",
              "        [0.3515],\n",
              "        [0.3509],\n",
              "        [0.3485],\n",
              "        [0.3455],\n",
              "        [0.3455],\n",
              "        [0.3455],\n",
              "        [0.3455],\n",
              "        [0.3455],\n",
              "        [0.3379],\n",
              "        [0.3333],\n",
              "        [0.3333],\n",
              "        [0.3333],\n",
              "        [0.3333],\n",
              "        [0.3333],\n",
              "        [0.3333],\n",
              "        [0.3333],\n",
              "        [0.3333],\n",
              "        [0.3333],\n",
              "        [0.3303],\n",
              "        [0.3303],\n",
              "        [0.3273],\n",
              "        [0.3273],\n",
              "        [0.3273],\n",
              "        [0.3267],\n",
              "        [0.3242],\n",
              "        [0.3242],\n",
              "        [0.3212],\n",
              "        [0.3212],\n",
              "        [0.3212],\n",
              "        [0.3212],\n",
              "        [0.3182],\n",
              "        [0.3152],\n",
              "        [0.3145],\n",
              "        [0.3091],\n",
              "        [0.3061],\n",
              "        [0.3030],\n",
              "        [0.3030],\n",
              "        [0.3030],\n",
              "        [0.3030],\n",
              "        [0.3030],\n",
              "        [0.3030],\n",
              "        [0.3030],\n",
              "        [0.3030],\n",
              "        [0.3030],\n",
              "        [0.3024],\n",
              "        [0.3012],\n",
              "        [0.3000],\n",
              "        [0.3000],\n",
              "        [0.3000],\n",
              "        [0.2939],\n",
              "        [0.2939],\n",
              "        [0.2909],\n",
              "        [0.2909],\n",
              "        [0.2909],\n",
              "        [0.2909],\n",
              "        [0.2879],\n",
              "        [0.2848],\n",
              "        [0.2848],\n",
              "        [0.2848],\n",
              "        [0.2848],\n",
              "        [0.2842],\n",
              "        [0.2818],\n",
              "        [0.2788],\n",
              "        [0.2788],\n",
              "        [0.2776],\n",
              "        [0.2758],\n",
              "        [0.2733],\n",
              "        [0.2727],\n",
              "        [0.2727],\n",
              "        [0.2727],\n",
              "        [0.2727],\n",
              "        [0.2727],\n",
              "        [0.2727],\n",
              "        [0.2727],\n",
              "        [0.2727],\n",
              "        [0.2727],\n",
              "        [0.2727],\n",
              "        [0.2727],\n",
              "        [0.2727],\n",
              "        [0.2721],\n",
              "        [0.2721],\n",
              "        [0.2697],\n",
              "        [0.2667],\n",
              "        [0.2667],\n",
              "        [0.2667],\n",
              "        [0.2667],\n",
              "        [0.2636],\n",
              "        [0.2636],\n",
              "        [0.2612],\n",
              "        [0.2606],\n",
              "        [0.2606],\n",
              "        [0.2606],\n",
              "        [0.2600],\n",
              "        [0.2545],\n",
              "        [0.2545],\n",
              "        [0.2545],\n",
              "        [0.2545],\n",
              "        [0.2545],\n",
              "        [0.2545],\n",
              "        [0.2515],\n",
              "        [0.2485],\n",
              "        [0.2485],\n",
              "        [0.2485],\n",
              "        [0.2485],\n",
              "        [0.2485],\n",
              "        [0.2479],\n",
              "        [0.2455],\n",
              "        [0.2455],\n",
              "        [0.2424],\n",
              "        [0.2424],\n",
              "        [0.2424],\n",
              "        [0.2424],\n",
              "        [0.2424],\n",
              "        [0.2424],\n",
              "        [0.2424],\n",
              "        [0.2418],\n",
              "        [0.2418],\n",
              "        [0.2394],\n",
              "        [0.2394],\n",
              "        [0.2394],\n",
              "        [0.2394],\n",
              "        [0.2364],\n",
              "        [0.2364],\n",
              "        [0.2364],\n",
              "        [0.2364],\n",
              "        [0.2364],\n",
              "        [0.2358],\n",
              "        [0.2358],\n",
              "        [0.2358],\n",
              "        [0.2333],\n",
              "        [0.2303],\n",
              "        [0.2303],\n",
              "        [0.2297],\n",
              "        [0.2297],\n",
              "        [0.2297],\n",
              "        [0.2279],\n",
              "        [0.2273],\n",
              "        [0.2242],\n",
              "        [0.2242],\n",
              "        [0.2242],\n",
              "        [0.2242],\n",
              "        [0.2242],\n",
              "        [0.2224],\n",
              "        [0.2212],\n",
              "        [0.2212],\n",
              "        [0.2188],\n",
              "        [0.2182],\n",
              "        [0.2182],\n",
              "        [0.2182],\n",
              "        [0.2182],\n",
              "        [0.2182],\n",
              "        [0.2182],\n",
              "        [0.2152],\n",
              "        [0.2152],\n",
              "        [0.2121],\n",
              "        [0.2121],\n",
              "        [0.2121],\n",
              "        [0.2121],\n",
              "        [0.2121],\n",
              "        [0.2121],\n",
              "        [0.2121],\n",
              "        [0.2121],\n",
              "        [0.2121],\n",
              "        [0.2121],\n",
              "        [0.2121],\n",
              "        [0.2121],\n",
              "        [0.2121],\n",
              "        [0.2121],\n",
              "        [0.2121],\n",
              "        [0.2121],\n",
              "        [0.2121],\n",
              "        [0.2115],\n",
              "        [0.2115],\n",
              "        [0.2091],\n",
              "        [0.2091],\n",
              "        [0.2091],\n",
              "        [0.2061],\n",
              "        [0.2061],\n",
              "        [0.2055],\n",
              "        [0.2033],\n",
              "        [0.2030],\n",
              "        [0.2030],\n",
              "        [0.2030],\n",
              "        [0.2000],\n",
              "        [0.2000],\n",
              "        [0.2000],\n",
              "        [0.2000],\n",
              "        [0.2000],\n",
              "        [0.1970],\n",
              "        [0.1970],\n",
              "        [0.1970],\n",
              "        [0.1955],\n",
              "        [0.1955],\n",
              "        [0.1939],\n",
              "        [0.1939],\n",
              "        [0.1939],\n",
              "        [0.1939],\n",
              "        [0.1939],\n",
              "        [0.1879],\n",
              "        [0.1879],\n",
              "        [0.1879],\n",
              "        [0.1879],\n",
              "        [0.1879],\n",
              "        [0.1879],\n",
              "        [0.1879],\n",
              "        [0.1848],\n",
              "        [0.1848],\n",
              "        [0.1818],\n",
              "        [0.1818],\n",
              "        [0.1818],\n",
              "        [0.1818],\n",
              "        [0.1818],\n",
              "        [0.1818],\n",
              "        [0.1818],\n",
              "        [0.1806],\n",
              "        [0.1788],\n",
              "        [0.1758],\n",
              "        [0.1758],\n",
              "        [0.1758],\n",
              "        [0.1758],\n",
              "        [0.1758],\n",
              "        [0.1758],\n",
              "        [0.1752],\n",
              "        [0.1752],\n",
              "        [0.1752],\n",
              "        [0.1727],\n",
              "        [0.1697],\n",
              "        [0.1697],\n",
              "        [0.1697],\n",
              "        [0.1697],\n",
              "        [0.1697],\n",
              "        [0.1691],\n",
              "        [0.1691],\n",
              "        [0.1667],\n",
              "        [0.1667],\n",
              "        [0.1667],\n",
              "        [0.1667],\n",
              "        [0.1636],\n",
              "        [0.1636],\n",
              "        [0.1636],\n",
              "        [0.1636],\n",
              "        [0.1636],\n",
              "        [0.1636],\n",
              "        [0.1636],\n",
              "        [0.1636],\n",
              "        [0.1636],\n",
              "        [0.1630],\n",
              "        [0.1606],\n",
              "        [0.1606],\n",
              "        [0.1576],\n",
              "        [0.1576],\n",
              "        [0.1576],\n",
              "        [0.1576],\n",
              "        [0.1545],\n",
              "        [0.1515],\n",
              "        [0.1515],\n",
              "        [0.1515],\n",
              "        [0.1515],\n",
              "        [0.1515],\n",
              "        [0.1515],\n",
              "        [0.1515],\n",
              "        [0.1515],\n",
              "        [0.1515],\n",
              "        [0.1515],\n",
              "        [0.1515],\n",
              "        [0.1515],\n",
              "        [0.1515],\n",
              "        [0.1515],\n",
              "        [0.1515],\n",
              "        [0.1515],\n",
              "        [0.1515],\n",
              "        [0.1509],\n",
              "        [0.1485],\n",
              "        [0.1485],\n",
              "        [0.1485],\n",
              "        [0.1455],\n",
              "        [0.1455],\n",
              "        [0.1455],\n",
              "        [0.1455],\n",
              "        [0.1455],\n",
              "        [0.1455],\n",
              "        [0.1448],\n",
              "        [0.1424],\n",
              "        [0.1424],\n",
              "        [0.1424],\n",
              "        [0.1394],\n",
              "        [0.1394],\n",
              "        [0.1394],\n",
              "        [0.1394],\n",
              "        [0.1394],\n",
              "        [0.1394],\n",
              "        [0.1394],\n",
              "        [0.1394],\n",
              "        [0.1388],\n",
              "        [0.1370],\n",
              "        [0.1364],\n",
              "        [0.1364],\n",
              "        [0.1333],\n",
              "        [0.1333],\n",
              "        [0.1333],\n",
              "        [0.1333],\n",
              "        [0.1333],\n",
              "        [0.1333],\n",
              "        [0.1333],\n",
              "        [0.1333],\n",
              "        [0.1303],\n",
              "        [0.1303],\n",
              "        [0.1285],\n",
              "        [0.1273],\n",
              "        [0.1273],\n",
              "        [0.1273],\n",
              "        [0.1273],\n",
              "        [0.1212],\n",
              "        [0.1212],\n",
              "        [0.1212],\n",
              "        [0.1212],\n",
              "        [0.1212],\n",
              "        [0.1212],\n",
              "        [0.1212],\n",
              "        [0.1212],\n",
              "        [0.1212],\n",
              "        [0.1206],\n",
              "        [0.1194],\n",
              "        [0.1185],\n",
              "        [0.1182],\n",
              "        [0.1182],\n",
              "        [0.1182],\n",
              "        [0.1158],\n",
              "        [0.1152],\n",
              "        [0.1152],\n",
              "        [0.1152],\n",
              "        [0.1152],\n",
              "        [0.1121],\n",
              "        [0.1091],\n",
              "        [0.1091],\n",
              "        [0.1091],\n",
              "        [0.1091],\n",
              "        [0.1091],\n",
              "        [0.1091],\n",
              "        [0.1091],\n",
              "        [0.1085],\n",
              "        [0.1061],\n",
              "        [0.1048],\n",
              "        [0.1030],\n",
              "        [0.1030],\n",
              "        [0.1030],\n",
              "        [0.1030],\n",
              "        [0.1030],\n",
              "        [0.1030],\n",
              "        [0.1030],\n",
              "        [0.1030],\n",
              "        [0.0970],\n",
              "        [0.0970],\n",
              "        [0.0970],\n",
              "        [0.0970],\n",
              "        [0.0955],\n",
              "        [0.0939],\n",
              "        [0.0939],\n",
              "        [0.0939],\n",
              "        [0.0909],\n",
              "        [0.0909],\n",
              "        [0.0848],\n",
              "        [0.0848],\n",
              "        [0.0818],\n",
              "        [0.0788],\n",
              "        [0.0788],\n",
              "        [0.0788],\n",
              "        [0.0788],\n",
              "        [0.0788],\n",
              "        [0.0788],\n",
              "        [0.0788],\n",
              "        [0.0782],\n",
              "        [0.0782],\n",
              "        [0.0739],\n",
              "        [0.0727],\n",
              "        [0.0727],\n",
              "        [0.0727],\n",
              "        [0.0667],\n",
              "        [0.0667],\n",
              "        [0.0667],\n",
              "        [0.0636],\n",
              "        [0.0636],\n",
              "        [0.0606],\n",
              "        [0.0606],\n",
              "        [0.0606],\n",
              "        [0.0606],\n",
              "        [0.0606],\n",
              "        [0.0606],\n",
              "        [0.0570],\n",
              "        [0.0545],\n",
              "        [0.0545],\n",
              "        [0.0545],\n",
              "        [0.0515],\n",
              "        [0.0485],\n",
              "        [0.0455],\n",
              "        [0.0455],\n",
              "        [0.0455],\n",
              "        [0.0424],\n",
              "        [0.0418],\n",
              "        [0.0333],\n",
              "        [0.0303],\n",
              "        [0.0303],\n",
              "        [0.0303],\n",
              "        [0.0182],\n",
              "        [0.0121],\n",
              "        [0.0121],\n",
              "        [0.0091],\n",
              "        [0.0061],\n",
              "        [0.0015],\n",
              "        [0.0000],\n",
              "        [0.0000],\n",
              "        [0.0000]], dtype=torch.float64)"
            ]
          },
          "metadata": {},
          "execution_count": 248
        }
      ]
    },
    {
      "cell_type": "code",
      "source": [
        "def model(X, W, B):\n",
        "    return torch.sum(X * W, dim=1) + B"
      ],
      "metadata": {
        "id": "1RxnfCVi95vf"
      },
      "execution_count": 249,
      "outputs": []
    },
    {
      "cell_type": "code",
      "source": [
        "weights = torch.ones(5)  # Consolidating W1, W2, W3, W4, W5 into a single tensor, because of 5 inputs\n",
        "bias = torch.zeros(1)    # Bias as a single value"
      ],
      "metadata": {
        "id": "oBFPsOmH-NOW"
      },
      "execution_count": 250,
      "outputs": []
    },
    {
      "cell_type": "code",
      "source": [
        "train_X, val_X, train_Y, val_Y = train_test_split(X, y, test_size=0.2, random_state=42)"
      ],
      "metadata": {
        "id": "MsmIImB6-S8Z"
      },
      "execution_count": 251,
      "outputs": []
    },
    {
      "cell_type": "code",
      "source": [
        "train_X.shape, train_Y.shape, val_X.shape, val_Y.shape"
      ],
      "metadata": {
        "colab": {
          "base_uri": "https://localhost:8080/"
        },
        "id": "R4tFzROJ-Wg7",
        "outputId": "cd52d97f-b3bc-479e-f51c-d8218c997efd"
      },
      "execution_count": 252,
      "outputs": [
        {
          "output_type": "execute_result",
          "data": {
            "text/plain": [
              "((436, 5), (436, 1), (109, 5), (109, 1))"
            ]
          },
          "metadata": {},
          "execution_count": 252
        }
      ]
    },
    {
      "cell_type": "code",
      "source": [
        "X_train = torch.tensor(train_X)\n",
        "y_train =  torch.tensor(train_Y)\n",
        "X_val =  torch.tensor(val_X)\n",
        "y_val =  torch.tensor(val_Y)"
      ],
      "metadata": {
        "id": "P9FS9uMF-ZDC"
      },
      "execution_count": 253,
      "outputs": []
    },
    {
      "cell_type": "code",
      "source": [
        "def custom_training_loop(n_epochs, optimizer, weights, bias, X_train, X_val, y_train, y_val):\n",
        "\n",
        "    for epoch in range(1, n_epochs + 1):\n",
        "        y_train_p = model(X_train, weights, bias)\n",
        "        train_loss = loss_fn(y_train_p, y_train)\n",
        "\n",
        "        y_val_p = model(X_train, weights, bias)\n",
        "        val_loss = loss_fn(y_val_p, y_val)\n",
        "\n",
        "        optimizer.zero_grad()\n",
        "        train_loss.backward()\n",
        "        optimizer.step()\n",
        "\n",
        "        if epoch % 500 == 0:\n",
        "            print(f\"Epoch {epoch}, Training loss {train_loss.item():.4f},\"\n",
        "                  f\" Validation loss {val_loss.item():.4f}\")\n",
        "\n",
        "    return weights, bias"
      ],
      "metadata": {
        "id": "fkaqS_9K-l5N"
      },
      "execution_count": 254,
      "outputs": []
    },
    {
      "cell_type": "code",
      "source": [
        "\n",
        "# params = torch.tensor([1.0, 1.0, 1.0, 1.0, 1.0, 0.0], requires_grad=True)\n",
        "weights = torch.tensor([1.0, 1.0, 1.0, 1.0, 1.0], requires_grad=True)\n",
        "bias = torch.tensor([0.0], requires_grad=True)\n",
        "learning_rate = 0.1\n",
        "optimizer = optim.Adam([weights, bias], lr=learning_rate)\n",
        "\n",
        "custom_training_loop(\n",
        "    n_epochs = 5000,\n",
        "    optimizer = optimizer,\n",
        "    weights = weights,\n",
        "    bias = bias,\n",
        "    X_train = X_train,\n",
        "    X_val = X_val,\n",
        "    y_train = y_train,\n",
        "    y_val = y_val)\n",
        "\n"
      ],
      "metadata": {
        "colab": {
          "base_uri": "https://localhost:8080/"
        },
        "id": "7NRChIDW_F_q",
        "outputId": "4b84eb6a-ff39-4dee-a0b5-28ffd88bb144"
      },
      "execution_count": 255,
      "outputs": [
        {
          "output_type": "stream",
          "name": "stdout",
          "text": [
            "Epoch 500, Training loss 0.0231, Validation loss 0.0386\n",
            "Epoch 1000, Training loss 0.0231, Validation loss 0.0386\n",
            "Epoch 1500, Training loss 0.0231, Validation loss 0.0386\n",
            "Epoch 2000, Training loss 0.0231, Validation loss 0.0386\n",
            "Epoch 2500, Training loss 0.0231, Validation loss 0.0386\n",
            "Epoch 3000, Training loss 0.0231, Validation loss 0.0386\n",
            "Epoch 3500, Training loss 0.0231, Validation loss 0.0386\n",
            "Epoch 4000, Training loss 0.0231, Validation loss 0.0386\n",
            "Epoch 4500, Training loss 0.0231, Validation loss 0.0386\n",
            "Epoch 5000, Training loss 0.0231, Validation loss 0.0386\n"
          ]
        },
        {
          "output_type": "execute_result",
          "data": {
            "text/plain": [
              "(tensor([4.3523e-06, 4.4021e-06, 4.0123e-06, 4.2044e-06, 4.1834e-06],\n",
              "        requires_grad=True),\n",
              " tensor([0.2560], requires_grad=True))"
            ]
          },
          "metadata": {},
          "execution_count": 255
        }
      ]
    },
    {
      "cell_type": "code",
      "source": [
        "# params = torch.tensor([1.0, 1.0, 1.0, 1.0, 1.0, 0.0], requires_grad=True)\n",
        "weights = torch.tensor([1.0, 1.0, 1.0, 1.0, 1.0], requires_grad=True)\n",
        "bias = torch.tensor([0.0], requires_grad=True)\n",
        "learning_rate = 0.01\n",
        "optimizer = optim.Adam([weights, bias], lr=learning_rate)\n",
        "\n",
        "training_loop(\n",
        "    n_epochs = 5000,\n",
        "    optimizer = optimizer,\n",
        "    weights = weights,\n",
        "    bias = bias,\n",
        "    X_train = X_train,\n",
        "    X_val = X_val,\n",
        "    y_train = y_train,\n",
        "    y_val = y_val)"
      ],
      "metadata": {
        "colab": {
          "base_uri": "https://localhost:8080/"
        },
        "id": "5GbCS4FB_Y__",
        "outputId": "1f18c451-3398-4486-c652-20d333680ac9"
      },
      "execution_count": 256,
      "outputs": [
        {
          "output_type": "stream",
          "name": "stdout",
          "text": [
            "Epoch 500, Training loss 0.0266, Validation loss 0.0423\n",
            "Epoch 1000, Training loss 0.0234, Validation loss 0.0389\n",
            "Epoch 1500, Training loss 0.0231, Validation loss 0.0386\n",
            "Epoch 2000, Training loss 0.0231, Validation loss 0.0386\n",
            "Epoch 2500, Training loss 0.0231, Validation loss 0.0386\n",
            "Epoch 3000, Training loss 0.0231, Validation loss 0.0386\n",
            "Epoch 3500, Training loss 0.0231, Validation loss 0.0386\n",
            "Epoch 4000, Training loss 0.0231, Validation loss 0.0386\n",
            "Epoch 4500, Training loss 0.0231, Validation loss 0.0386\n",
            "Epoch 5000, Training loss 0.0231, Validation loss 0.0386\n"
          ]
        },
        {
          "output_type": "execute_result",
          "data": {
            "text/plain": [
              "(tensor([ 1.1828e-07,  2.5502e-07, -6.8351e-08, -2.1430e-09,  6.7796e-09],\n",
              "        requires_grad=True),\n",
              " tensor([0.2560], requires_grad=True))"
            ]
          },
          "metadata": {},
          "execution_count": 256
        }
      ]
    },
    {
      "cell_type": "code",
      "source": [
        "# params = torch.tensor([1.0, 1.0, 1.0, 1.0, 1.0, 0.0], requires_grad=True)\n",
        "weights = torch.tensor([1.0, 1.0, 1.0, 1.0, 1.0], requires_grad=True)\n",
        "bias = torch.tensor([0.0], requires_grad=True)\n",
        "learning_rate = 0.001\n",
        "optimizer = optim.Adam([weights, bias], lr=learning_rate)\n",
        "\n",
        "training_loop(\n",
        "    n_epochs = 5000,\n",
        "    optimizer = optimizer,\n",
        "    weights = weights,\n",
        "    bias = bias,\n",
        "    X_train = X_train,\n",
        "    X_val = X_val,\n",
        "    y_train = y_train,\n",
        "    y_val = y_val)"
      ],
      "metadata": {
        "colab": {
          "base_uri": "https://localhost:8080/"
        },
        "id": "KlSUfC-hErvg",
        "outputId": "ba79a954-09e7-4ab8-b400-11eef2f3f524"
      },
      "execution_count": 257,
      "outputs": [
        {
          "output_type": "stream",
          "name": "stdout",
          "text": [
            "Epoch 500, Training loss 0.2047, Validation loss 0.2425\n",
            "Epoch 1000, Training loss 0.1061, Validation loss 0.1252\n",
            "Epoch 1500, Training loss 0.0719, Validation loss 0.0883\n",
            "Epoch 2000, Training loss 0.0487, Validation loss 0.0640\n",
            "Epoch 2500, Training loss 0.0358, Validation loss 0.0509\n",
            "Epoch 3000, Training loss 0.0297, Validation loss 0.0452\n",
            "Epoch 3500, Training loss 0.0270, Validation loss 0.0426\n",
            "Epoch 4000, Training loss 0.0254, Validation loss 0.0412\n",
            "Epoch 4500, Training loss 0.0244, Validation loss 0.0401\n",
            "Epoch 5000, Training loss 0.0237, Validation loss 0.0394\n"
          ]
        },
        {
          "output_type": "execute_result",
          "data": {
            "text/plain": [
              "(tensor([ 0.0522,  0.1781, -0.0672, -0.0236, -0.0105], requires_grad=True),\n",
              " tensor([0.1860], requires_grad=True))"
            ]
          },
          "metadata": {},
          "execution_count": 257
        }
      ]
    },
    {
      "cell_type": "code",
      "source": [
        "# params = torch.tensor([1.0, 1.0, 1.0, 1.0, 1.0, 0.0], requires_grad=True)\n",
        "weights = torch.tensor([1.0, 1.0, 1.0, 1.0, 1.0], requires_grad=True)\n",
        "bias = torch.tensor([0.0], requires_grad=True)\n",
        "learning_rate = 0.0001\n",
        "optimizer = optim.Adam([weights, bias], lr=learning_rate)\n",
        "\n",
        "training_loop(\n",
        "    n_epochs = 5000,\n",
        "    optimizer = optimizer,\n",
        "    weights = weights,\n",
        "    bias = bias,\n",
        "    X_train = X_train,\n",
        "    X_val = X_val,\n",
        "    y_train = y_train,\n",
        "    y_val = y_val)"
      ],
      "metadata": {
        "colab": {
          "base_uri": "https://localhost:8080/"
        },
        "id": "mwtzCmYDFMYf",
        "outputId": "d883e5fb-f435-4b97-df62-cd4032279853"
      },
      "execution_count": 258,
      "outputs": [
        {
          "output_type": "stream",
          "name": "stdout",
          "text": [
            "Epoch 500, Training loss 1.1064, Validation loss 1.2578\n",
            "Epoch 1000, Training loss 0.9080, Validation loss 1.0373\n",
            "Epoch 1500, Training loss 0.7402, Validation loss 0.8500\n",
            "Epoch 2000, Training loss 0.5992, Validation loss 0.6921\n",
            "Epoch 2500, Training loss 0.4823, Validation loss 0.5605\n",
            "Epoch 3000, Training loss 0.3869, Validation loss 0.4525\n",
            "Epoch 3500, Training loss 0.3107, Validation loss 0.3656\n",
            "Epoch 4000, Training loss 0.2516, Validation loss 0.2974\n",
            "Epoch 4500, Training loss 0.2072, Validation loss 0.2457\n",
            "Epoch 5000, Training loss 0.1752, Validation loss 0.2078\n"
          ]
        },
        {
          "output_type": "execute_result",
          "data": {
            "text/plain": [
              "(tensor([0.6064, 0.6119, 0.5784, 0.5884, 0.5866], requires_grad=True),\n",
              " tensor([-0.3670], requires_grad=True))"
            ]
          },
          "metadata": {},
          "execution_count": 258
        }
      ]
    },
    {
      "cell_type": "code",
      "source": [
        "# params = torch.tensor([1.0, 1.0, 1.0, 1.0, 1.0, 0.0], requires_grad=True)\n",
        "weights = torch.tensor([1.0, 1.0, 1.0, 1.0, 1.0], requires_grad=True)\n",
        "bias = torch.tensor([0.0], requires_grad=True)\n",
        "learning_rate = 0.1\n",
        "optimizer = optim.SGD([weights, bias], lr=learning_rate)\n",
        "\n",
        "training_loop(\n",
        "    n_epochs = 5000,\n",
        "    optimizer = optimizer,\n",
        "    weights = weights,\n",
        "    bias = bias,\n",
        "    X_train = X_train,\n",
        "    X_val = X_val,\n",
        "    y_train = y_train,\n",
        "    y_val = y_val)"
      ],
      "metadata": {
        "colab": {
          "base_uri": "https://localhost:8080/"
        },
        "id": "k-a7qAI3FZXs",
        "outputId": "0bffe371-df77-4862-b1f2-956ecf5cb6fc"
      },
      "execution_count": 259,
      "outputs": [
        {
          "output_type": "stream",
          "name": "stdout",
          "text": [
            "Epoch 500, Training loss 0.0235, Validation loss 0.0390\n",
            "Epoch 1000, Training loss 0.0231, Validation loss 0.0386\n",
            "Epoch 1500, Training loss 0.0231, Validation loss 0.0386\n",
            "Epoch 2000, Training loss 0.0231, Validation loss 0.0386\n",
            "Epoch 2500, Training loss 0.0231, Validation loss 0.0386\n",
            "Epoch 3000, Training loss 0.0231, Validation loss 0.0386\n",
            "Epoch 3500, Training loss 0.0231, Validation loss 0.0386\n",
            "Epoch 4000, Training loss 0.0231, Validation loss 0.0386\n",
            "Epoch 4500, Training loss 0.0231, Validation loss 0.0386\n",
            "Epoch 5000, Training loss 0.0231, Validation loss 0.0386\n"
          ]
        },
        {
          "output_type": "execute_result",
          "data": {
            "text/plain": [
              "(tensor([ 5.8444e-07,  1.6221e-06, -6.0470e-07, -4.4821e-08,  3.9729e-08],\n",
              "        requires_grad=True),\n",
              " tensor([0.2560], requires_grad=True))"
            ]
          },
          "metadata": {},
          "execution_count": 259
        }
      ]
    },
    {
      "cell_type": "code",
      "source": [
        "# params = torch.tensor([1.0, 1.0, 1.0, 1.0, 1.0, 0.0], requires_grad=True)\n",
        "weights = torch.tensor([1.0, 1.0, 1.0, 1.0, 1.0], requires_grad=True)\n",
        "bias = torch.tensor([0.0], requires_grad=True)\n",
        "learning_rate = 0.01\n",
        "optimizer = optim.SGD([weights, bias], lr=learning_rate)\n",
        "\n",
        "training_loop(\n",
        "    n_epochs = 5000,\n",
        "    optimizer = optimizer,\n",
        "    weights = weights,\n",
        "    bias = bias,\n",
        "    X_train = X_train,\n",
        "    X_val = X_val,\n",
        "    y_train = y_train,\n",
        "    y_val = y_val)\n",
        ""
      ],
      "metadata": {
        "colab": {
          "base_uri": "https://localhost:8080/"
        },
        "id": "RV9j655vFlYP",
        "outputId": "5bcc212a-e2a9-47af-9a7d-00de99003979"
      },
      "execution_count": 260,
      "outputs": [
        {
          "output_type": "stream",
          "name": "stdout",
          "text": [
            "Epoch 500, Training loss 0.0900, Validation loss 0.1096\n",
            "Epoch 1000, Training loss 0.0447, Validation loss 0.0603\n",
            "Epoch 1500, Training loss 0.0326, Validation loss 0.0475\n",
            "Epoch 2000, Training loss 0.0284, Validation loss 0.0433\n",
            "Epoch 2500, Training loss 0.0263, Validation loss 0.0414\n",
            "Epoch 3000, Training loss 0.0252, Validation loss 0.0404\n",
            "Epoch 3500, Training loss 0.0245, Validation loss 0.0397\n",
            "Epoch 4000, Training loss 0.0240, Validation loss 0.0394\n",
            "Epoch 4500, Training loss 0.0237, Validation loss 0.0391\n",
            "Epoch 5000, Training loss 0.0235, Validation loss 0.0390\n"
          ]
        },
        {
          "output_type": "execute_result",
          "data": {
            "text/plain": [
              "(tensor([ 0.0912,  0.0961,  0.0113, -0.0293, -0.0281], requires_grad=True),\n",
              " tensor([0.2086], requires_grad=True))"
            ]
          },
          "metadata": {},
          "execution_count": 260
        }
      ]
    },
    {
      "cell_type": "code",
      "source": [
        "# params = torch.tensor([1.0, 1.0, 1.0, 1.0, 1.0, 0.0], requires_grad=True)\n",
        "weights = torch.tensor([1.0, 1.0, 1.0, 1.0, 1.0], requires_grad=True)\n",
        "bias = torch.tensor([0.0], requires_grad=True)\n",
        "learning_rate = 0.001\n",
        "optimizer = optim.SGD([weights, bias], lr=learning_rate)\n",
        "\n",
        "training_loop(\n",
        "    n_epochs = 5000,\n",
        "    optimizer = optimizer,\n",
        "    weights = weights,\n",
        "    bias = bias,\n",
        "    X_train = X_train,\n",
        "    X_val = X_val,\n",
        "    y_train = y_train,\n",
        "    y_val = y_val)"
      ],
      "metadata": {
        "colab": {
          "base_uri": "https://localhost:8080/"
        },
        "id": "lYFVfzdgFrXt",
        "outputId": "5a657056-2929-40f7-f136-b1dcf3c6e13b"
      },
      "execution_count": 261,
      "outputs": [
        {
          "output_type": "stream",
          "name": "stdout",
          "text": [
            "Epoch 500, Training loss 0.3233, Validation loss 0.3841\n",
            "Epoch 1000, Training loss 0.2274, Validation loss 0.2644\n",
            "Epoch 1500, Training loss 0.1964, Validation loss 0.2266\n",
            "Epoch 2000, Training loss 0.1733, Validation loss 0.2004\n",
            "Epoch 2500, Training loss 0.1536, Validation loss 0.1788\n",
            "Epoch 3000, Training loss 0.1368, Validation loss 0.1605\n",
            "Epoch 3500, Training loss 0.1223, Validation loss 0.1447\n",
            "Epoch 4000, Training loss 0.1099, Validation loss 0.1312\n",
            "Epoch 4500, Training loss 0.0992, Validation loss 0.1195\n",
            "Epoch 5000, Training loss 0.0900, Validation loss 0.1095\n"
          ]
        },
        {
          "output_type": "execute_result",
          "data": {
            "text/plain": [
              "(tensor([0.6123, 0.5272, 0.5757, 0.2545, 0.2784], requires_grad=True),\n",
              " tensor([-0.3091], requires_grad=True))"
            ]
          },
          "metadata": {},
          "execution_count": 261
        }
      ]
    },
    {
      "cell_type": "code",
      "source": [
        "# params = torch.tensor([1.0, 1.0, 1.0, 1.0, 1.0, 0.0], requires_grad=True)\n",
        "weights = torch.tensor([1.0, 1.0, 1.0, 1.0, 1.0], requires_grad=True)\n",
        "bias = torch.tensor([0.0], requires_grad=True)\n",
        "learning_rate = 0.0001\n",
        "optimizer = optim.SGD([weights, bias], lr=learning_rate)\n",
        "\n",
        "training_loop(\n",
        "    n_epochs = 5000,\n",
        "    optimizer = optimizer,\n",
        "    weights = weights,\n",
        "    bias = bias,\n",
        "    X_train = X_train,\n",
        "    X_val = X_val,\n",
        "    y_train = y_train,\n",
        "    y_val = y_val)"
      ],
      "metadata": {
        "colab": {
          "base_uri": "https://localhost:8080/"
        },
        "id": "igA82Sd8Fvj2",
        "outputId": "08f8162f-c6fc-437c-c6db-742d9a7bdb69"
      },
      "execution_count": 262,
      "outputs": [
        {
          "output_type": "stream",
          "name": "stdout",
          "text": [
            "Epoch 500, Training loss 1.0859, Validation loss 1.2400\n",
            "Epoch 1000, Training loss 0.8918, Validation loss 1.0271\n",
            "Epoch 1500, Training loss 0.7430, Validation loss 0.8626\n",
            "Epoch 2000, Training loss 0.6288, Validation loss 0.7352\n",
            "Epoch 2500, Training loss 0.5409, Validation loss 0.6363\n",
            "Epoch 3000, Training loss 0.4732, Validation loss 0.5592\n",
            "Epoch 3500, Training loss 0.4207, Validation loss 0.4988\n",
            "Epoch 4000, Training loss 0.3800, Validation loss 0.4514\n",
            "Epoch 4500, Training loss 0.3482, Validation loss 0.4138\n",
            "Epoch 5000, Training loss 0.3231, Validation loss 0.3839\n"
          ]
        },
        {
          "output_type": "execute_result",
          "data": {
            "text/plain": [
              "(tensor([0.8369, 0.7544, 0.8998, 0.7654, 0.7854], requires_grad=True),\n",
              " tensor([-0.4963], requires_grad=True))"
            ]
          },
          "metadata": {},
          "execution_count": 262
        }
      ]
    },
    {
      "cell_type": "code",
      "source": [],
      "metadata": {
        "id": "LjdEA_oqF4QU"
      },
      "execution_count": 262,
      "outputs": []
    }
  ]
}